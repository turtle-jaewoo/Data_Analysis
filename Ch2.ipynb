{
  "nbformat": 4,
  "nbformat_minor": 0,
  "metadata": {
    "colab": {
      "provenance": [],
      "toc_visible": true,
      "authorship_tag": "ABX9TyPCoQXrGn0JCgfyU393wmlP",
      "include_colab_link": true
    },
    "kernelspec": {
      "name": "python3",
      "display_name": "Python 3"
    },
    "language_info": {
      "name": "python"
    }
  },
  "cells": [
    {
      "cell_type": "markdown",
      "metadata": {
        "id": "view-in-github",
        "colab_type": "text"
      },
      "source": [
        "<a href=\"https://colab.research.google.com/github/turtle-jaewoo/Data_Analysis/blob/main/Ch2.ipynb\" target=\"_parent\"><img src=\"https://colab.research.google.com/assets/colab-badge.svg\" alt=\"Open In Colab\"/></a>"
      ]
    },
    {
      "cell_type": "markdown",
      "source": [
        "# Chapter 2. 내장 자료구조, 함수, 파일\n"
      ],
      "metadata": {
        "id": "k5YvCXaYtwJQ"
      }
    },
    {
      "cell_type": "markdown",
      "source": [
        "## 2.1 자료구조와 순차 자료형\n",
        "\n",
        "- 파이썬의 자료구조는 단순하지만 강력\n",
        "- 가장 자주 사용되는 순차 자료형은 튜플, 리스트, 딕셔너리\n"
      ],
      "metadata": {
        "id": "ONVYNL2FuMb8"
      }
    },
    {
      "cell_type": "markdown",
      "source": [
        "### 2.1.1 튜플\n",
        "\n",
        "- 튜플은 한 번 할당되면 변경할 수 없는 고정 길이르 갖는 파이썬의 순차 자료형"
      ],
      "metadata": {
        "id": "0Y8YPcp1ua3f"
      }
    },
    {
      "cell_type": "code",
      "execution_count": null,
      "metadata": {
        "colab": {
          "base_uri": "https://localhost:8080/"
        },
        "id": "HD9cGY4mtRg1",
        "outputId": "49544d1b-5d3c-4ccf-f687-a9674010938a"
      },
      "outputs": [
        {
          "output_type": "execute_result",
          "data": {
            "text/plain": [
              "(4, 5, 6)"
            ]
          },
          "metadata": {},
          "execution_count": 1
        }
      ],
      "source": [
        "tup = (4, 5, 6)\n",
        "tup"
      ]
    },
    {
      "cell_type": "markdown",
      "source": [
        "- 괄호를 생략해도 동일하게 작동"
      ],
      "metadata": {
        "id": "AZEqltdx0ziS"
      }
    },
    {
      "cell_type": "code",
      "source": [
        "tuple([4, 0, 2])"
      ],
      "metadata": {
        "colab": {
          "base_uri": "https://localhost:8080/"
        },
        "id": "m8Sw4ceN0uBF",
        "outputId": "5b5d1cbb-cffa-490b-f5b6-2944f4e0d454"
      },
      "execution_count": null,
      "outputs": [
        {
          "output_type": "execute_result",
          "data": {
            "text/plain": [
              "(4, 0, 2)"
            ]
          },
          "metadata": {},
          "execution_count": 2
        }
      ]
    },
    {
      "cell_type": "code",
      "source": [
        "tup = tuple('string')\n",
        "tup"
      ],
      "metadata": {
        "colab": {
          "base_uri": "https://localhost:8080/"
        },
        "id": "VRmMCcnR07ma",
        "outputId": "93624729-94ad-4ec2-f8ab-a72b5978109b"
      },
      "execution_count": null,
      "outputs": [
        {
          "output_type": "execute_result",
          "data": {
            "text/plain": [
              "('s', 't', 'r', 'i', 'n', 'g')"
            ]
          },
          "metadata": {},
          "execution_count": 3
        }
      ]
    },
    {
      "cell_type": "markdown",
      "source": [
        "- 튜플의 각 원소는 대괄호를 사요앻 다른 순차 자료형처럼 접근 가능"
      ],
      "metadata": {
        "id": "yOj6Wgwez5dy"
      }
    },
    {
      "cell_type": "code",
      "source": [
        "tup[0]"
      ],
      "metadata": {
        "colab": {
          "base_uri": "https://localhost:8080/",
          "height": 35
        },
        "id": "Bq_j8oBf09vu",
        "outputId": "e3f7b1d7-4520-4968-ef96-7ce5ff36936d"
      },
      "execution_count": null,
      "outputs": [
        {
          "output_type": "execute_result",
          "data": {
            "text/plain": [
              "'s'"
            ],
            "application/vnd.google.colaboratory.intrinsic+json": {
              "type": "string"
            }
          },
          "metadata": {},
          "execution_count": 4
        }
      ]
    },
    {
      "cell_type": "markdown",
      "source": [
        "- 더 복잡한 표현식을 사용할 경우엔 괄호로 값을 묶어줄 필요가 있음      \n",
        "Ex) 튜플의 튜플을 생성"
      ],
      "metadata": {
        "id": "cUohEb-_0HzT"
      }
    },
    {
      "cell_type": "code",
      "source": [
        "nested_tup = (4, 5, 6), (7, 8)\n",
        "nested_tup"
      ],
      "metadata": {
        "colab": {
          "base_uri": "https://localhost:8080/"
        },
        "id": "rx7sFVP50Uu0",
        "outputId": "d6ca9245-f973-47d9-a1c8-fc96dc813dc6"
      },
      "execution_count": null,
      "outputs": [
        {
          "output_type": "execute_result",
          "data": {
            "text/plain": [
              "((4, 5, 6), (7, 8))"
            ]
          },
          "metadata": {},
          "execution_count": 6
        }
      ]
    },
    {
      "cell_type": "code",
      "source": [
        "nested_tup[0]"
      ],
      "metadata": {
        "colab": {
          "base_uri": "https://localhost:8080/"
        },
        "id": "mufo57ze0asQ",
        "outputId": "b9b5b793-4932-4190-e816-0eba9722b19e"
      },
      "execution_count": null,
      "outputs": [
        {
          "output_type": "execute_result",
          "data": {
            "text/plain": [
              "(4, 5, 6)"
            ]
          },
          "metadata": {},
          "execution_count": 12
        }
      ]
    },
    {
      "cell_type": "markdown",
      "source": [
        "- 튜플에 저장된 객체 자체는 값을 변경할 수 있지만 한 번 생성되면 각 슬롯에 저장된 객체를 변경하는 것이 불가능\n",
        "- 튜플내에 저장된 객체의 값을 변경할 때는 .append()를 사용해서 변경"
      ],
      "metadata": {
        "id": "e8AbXdm60v46"
      }
    },
    {
      "cell_type": "code",
      "source": [
        "tup = tuple(['foo', [1, 2], True])\n",
        "tup"
      ],
      "metadata": {
        "colab": {
          "base_uri": "https://localhost:8080/"
        },
        "id": "GVv600Hz0ehX",
        "outputId": "643dbb02-33d0-4067-8a35-bb41a8af826c"
      },
      "execution_count": null,
      "outputs": [
        {
          "output_type": "execute_result",
          "data": {
            "text/plain": [
              "('foo', [1, 2], True)"
            ]
          },
          "metadata": {},
          "execution_count": 18
        }
      ]
    },
    {
      "cell_type": "code",
      "source": [
        "tup[1].append(3)\n",
        "tup"
      ],
      "metadata": {
        "colab": {
          "base_uri": "https://localhost:8080/"
        },
        "id": "_JSW9Coz1xH7",
        "outputId": "379a8739-9a04-4083-cc32-b4a0662c366c"
      },
      "execution_count": null,
      "outputs": [
        {
          "output_type": "execute_result",
          "data": {
            "text/plain": [
              "('foo', [1, 2, 3], True)"
            ]
          },
          "metadata": {},
          "execution_count": 19
        }
      ]
    },
    {
      "cell_type": "markdown",
      "source": [
        "- '+' 연산자를 사용해서 튜플을 이어붙일 수 있음"
      ],
      "metadata": {
        "id": "9oOJybRs1-oz"
      }
    },
    {
      "cell_type": "code",
      "source": [
        "(4, None, 'foo') + (6, 0) + ('bar', )"
      ],
      "metadata": {
        "colab": {
          "base_uri": "https://localhost:8080/"
        },
        "id": "pkF-vqC014Jf",
        "outputId": "50c66273-e6b6-408a-ea3e-179889f1e35c"
      },
      "execution_count": null,
      "outputs": [
        {
          "output_type": "execute_result",
          "data": {
            "text/plain": [
              "(4, None, 'foo', 6, 0, 'bar')"
            ]
          },
          "metadata": {},
          "execution_count": 20
        }
      ]
    },
    {
      "cell_type": "markdown",
      "source": [
        "- 튜플에 정수를 곱하면 리스트와 마찬가지로 여러 개의 튜플의 복사본이 반복해서 늘어남"
      ],
      "metadata": {
        "id": "YPI2PB472OVJ"
      }
    },
    {
      "cell_type": "code",
      "source": [
        "('foo', 'bar') * 4\n",
        "# 튜플내의 객체는 복사되지 않고 해당 객체에 대한 참조만 복사됨"
      ],
      "metadata": {
        "colab": {
          "base_uri": "https://localhost:8080/"
        },
        "id": "izIORbfa2IW6",
        "outputId": "797b6e67-9333-40f2-a826-074748386577"
      },
      "execution_count": null,
      "outputs": [
        {
          "output_type": "execute_result",
          "data": {
            "text/plain": [
              "('foo', 'bar', 'foo', 'bar', 'foo', 'bar', 'foo', 'bar')"
            ]
          },
          "metadata": {},
          "execution_count": 22
        }
      ]
    },
    {
      "cell_type": "markdown",
      "source": [
        "#### **튜플에서 값 분리하기**\n",
        "- 튜플 같은 표현의 변수에 튜플을 대입하면 파이썬은 등호 오른쪽에 있는 변수에서 값을 분리"
      ],
      "metadata": {
        "id": "lfLDG-cc2mTt"
      }
    },
    {
      "cell_type": "code",
      "source": [
        "tup = (4, 5, 6)\n",
        "a, b, c = tup\n",
        "b"
      ],
      "metadata": {
        "colab": {
          "base_uri": "https://localhost:8080/"
        },
        "id": "Xzl_BUaj2X2s",
        "outputId": "a6bba723-a622-42cd-a6b3-2d021a018500"
      },
      "execution_count": null,
      "outputs": [
        {
          "output_type": "execute_result",
          "data": {
            "text/plain": [
              "5"
            ]
          },
          "metadata": {},
          "execution_count": 23
        }
      ]
    },
    {
      "cell_type": "markdown",
      "source": [
        "- 중첩된 튜플을 포함하는 순차 자료형에서도 값을 분리할 수 있음"
      ],
      "metadata": {
        "id": "x9rlgQ1uEsze"
      }
    },
    {
      "cell_type": "code",
      "source": [
        "tup = 4, 5, (6, 7)\n",
        "a, b, (c, d) = tup\n",
        "d"
      ],
      "metadata": {
        "colab": {
          "base_uri": "https://localhost:8080/"
        },
        "id": "1Q4ym6bfEppi",
        "outputId": "c4a2b8ee-76b4-4203-ca68-929af8f4de0a"
      },
      "execution_count": null,
      "outputs": [
        {
          "output_type": "execute_result",
          "data": {
            "text/plain": [
              "7"
            ]
          },
          "metadata": {},
          "execution_count": 24
        }
      ]
    },
    {
      "cell_type": "markdown",
      "source": [
        "- 파이썬에서 두 변수의 값을 바꿀 때 다른 언어와 달리 간단하게 해결 가능"
      ],
      "metadata": {
        "id": "IHmcfMjeE5vg"
      }
    },
    {
      "cell_type": "code",
      "source": [
        "a, b = 1, 2\n",
        "print(a)\n",
        "print(b)"
      ],
      "metadata": {
        "colab": {
          "base_uri": "https://localhost:8080/"
        },
        "id": "tcp-QDrME3T_",
        "outputId": "d5085a3c-3bfe-4360-db60-637abf8baf8f"
      },
      "execution_count": null,
      "outputs": [
        {
          "output_type": "stream",
          "name": "stdout",
          "text": [
            "1\n",
            "2\n"
          ]
        }
      ]
    },
    {
      "cell_type": "code",
      "source": [
        "b, a = a, b\n",
        "print(a)\n",
        "print(b)"
      ],
      "metadata": {
        "colab": {
          "base_uri": "https://localhost:8080/"
        },
        "id": "a3ytI6oUFFFF",
        "outputId": "86006524-a102-445e-ecfc-fc6a6bdcfda0"
      },
      "execution_count": null,
      "outputs": [
        {
          "output_type": "stream",
          "name": "stdout",
          "text": [
            "2\n",
            "1\n"
          ]
        }
      ]
    },
    {
      "cell_type": "code",
      "source": [
        "seq = [(1, 2, 3), (4, 5, 6), (7, 8,9)]\n",
        "for a, b, c in seq:\n",
        "  print(f'a={a}, b={b}, c={c}')\n",
        "# 튜플이나 리스트를 순회할 때도 이 기능을 사용"
      ],
      "metadata": {
        "colab": {
          "base_uri": "https://localhost:8080/"
        },
        "id": "efvsdlEGFJCV",
        "outputId": "3711fd94-a2d1-49b5-efd3-ab1471e5c2a1"
      },
      "execution_count": null,
      "outputs": [
        {
          "output_type": "stream",
          "name": "stdout",
          "text": [
            "a=1, b=2, c=3\n",
            "a=4, b=5, c=6\n",
            "a=7, b=8, c=9\n"
          ]
        }
      ]
    },
    {
      "cell_type": "markdown",
      "source": [
        "- 튜플의 시작 부분에서 값을 일부만 끄집어내야하는 상황이 종종 발생\n",
        "- *rest를 사용하면 함수의 시그니처에서 길이를 알 수 없는 긴 인수를 담기 위한 방법으로 사용됨"
      ],
      "metadata": {
        "id": "Eat6m3-HF1ny"
      }
    },
    {
      "cell_type": "code",
      "source": [
        "values = 1, 2, 3, 4,5\n",
        "a, b, *rest = values\n",
        "print('a:', a)\n",
        "print('b:', b)\n",
        "print('rest:', rest)"
      ],
      "metadata": {
        "colab": {
          "base_uri": "https://localhost:8080/"
        },
        "id": "tGXCv_2VFaCp",
        "outputId": "e7824248-0082-4414-eb83-5202e8fefa7a"
      },
      "execution_count": null,
      "outputs": [
        {
          "output_type": "stream",
          "name": "stdout",
          "text": [
            "a: 1\n",
            "b: 2\n",
            "rest: [3, 4, 5]\n"
          ]
        }
      ]
    },
    {
      "cell_type": "markdown",
      "source": [
        "#### **튜플 메서드**\n",
        "\n",
        "- 튜플의 크기나 내용은 변경이 불가능하기 때문에 인스턴스 메서드가 많지 않음\n",
        "- 유용하게 사용되는 메서드는 count 메서드"
      ],
      "metadata": {
        "id": "nazOjIf3GbJf"
      }
    },
    {
      "cell_type": "code",
      "source": [
        "a = (1, 2, 2, 2, 3, 4, 2)\n",
        "a.count(2)\n",
        "# 주어진 값과 같은 값의 개수를 반환"
      ],
      "metadata": {
        "colab": {
          "base_uri": "https://localhost:8080/"
        },
        "id": "T5mFl_pyGKBx",
        "outputId": "2d73394e-d0fe-4564-f2fd-4929b3536618"
      },
      "execution_count": null,
      "outputs": [
        {
          "output_type": "execute_result",
          "data": {
            "text/plain": [
              "4"
            ]
          },
          "metadata": {},
          "execution_count": 34
        }
      ]
    },
    {
      "cell_type": "markdown",
      "source": [
        "### 2.1.2 리스트\n",
        "\n",
        "- 튜플과 대조적으로 리스트는 크기와 내용을 변경할 수 있음\n",
        "- '[ ]'나 list를 사용해서 생성"
      ],
      "metadata": {
        "id": "iW9dUMlvG6XP"
      }
    },
    {
      "cell_type": "code",
      "source": [
        "a_list = [2, 3, 7, None]\n",
        "\n",
        "tup = ('foo', 'bar', 'baz')\n",
        "\n",
        "b_list = list(tup)\n",
        "print(b_list)\n",
        "\n",
        "b_list[1] = \"peekaboo\"\n",
        "print(b_list)"
      ],
      "metadata": {
        "colab": {
          "base_uri": "https://localhost:8080/"
        },
        "id": "qvomKq5GG0vy",
        "outputId": "c9390218-3013-4892-d467-3d0d97c67691"
      },
      "execution_count": null,
      "outputs": [
        {
          "output_type": "stream",
          "name": "stdout",
          "text": [
            "['foo', 'bar', 'baz']\n",
            "['foo', 'peekaboo', 'baz']\n"
          ]
        }
      ]
    },
    {
      "cell_type": "markdown",
      "source": [
        "- 리스트와 튜플은 의미적으로 비숫하며 많은 함수에서 교차적으로 사용 가능\n",
        "- list 함수는 이터레이터나 제너레이터 표현에서 실젯값을 모두 담기 위한 용도로도 사용"
      ],
      "metadata": {
        "id": "PWZbcQERHYfp"
      }
    },
    {
      "cell_type": "code",
      "source": [
        "gen = range(10)\n",
        "print(gen)\n",
        "print(list(gen))"
      ],
      "metadata": {
        "colab": {
          "base_uri": "https://localhost:8080/"
        },
        "id": "cszVpMJnHVIA",
        "outputId": "9b779d4d-fb52-4a2d-c6b3-10d15c656e11"
      },
      "execution_count": null,
      "outputs": [
        {
          "output_type": "stream",
          "name": "stdout",
          "text": [
            "range(0, 10)\n",
            "[0, 1, 2, 3, 4, 5, 6, 7, 8, 9]\n"
          ]
        }
      ]
    },
    {
      "cell_type": "markdown",
      "source": [
        "#### 원소 추가하고 삭제하기\n",
        "\n",
        "- append 메서드를 사용해서 리스트의 끝에 새로운 값을 추가한다"
      ],
      "metadata": {
        "id": "vogL2hEeHtSa"
      }
    },
    {
      "cell_type": "code",
      "source": [
        "b_list.append('dwaf')\n",
        "b_list"
      ],
      "metadata": {
        "colab": {
          "base_uri": "https://localhost:8080/"
        },
        "id": "bYPQTu_rHqi0",
        "outputId": "525cdef1-aa3b-47a6-b257-f2ea271cbbc9"
      },
      "execution_count": null,
      "outputs": [
        {
          "output_type": "execute_result",
          "data": {
            "text/plain": [
              "['foo', 'peekaboo', 'baz', 'dwaf']"
            ]
          },
          "metadata": {},
          "execution_count": 37
        }
      ]
    },
    {
      "cell_type": "markdown",
      "source": [
        "- insert 메서드를 사용하면 특정 위치에 값을 추가할 수 있음"
      ],
      "metadata": {
        "id": "hyxdPFteIVPw"
      }
    },
    {
      "cell_type": "code",
      "source": [
        "b_list.insert(1, 'red')\n",
        "b_list"
      ],
      "metadata": {
        "colab": {
          "base_uri": "https://localhost:8080/"
        },
        "id": "YFTaDsHaH4ec",
        "outputId": "51622950-5964-4d6a-e052-76cfe2a4a5b6"
      },
      "execution_count": null,
      "outputs": [
        {
          "output_type": "execute_result",
          "data": {
            "text/plain": [
              "['foo', 'red', 'peekaboo', 'baz', 'dwaf']"
            ]
          },
          "metadata": {},
          "execution_count": 38
        }
      ]
    },
    {
      "cell_type": "markdown",
      "source": [
        "- 값을 추가하려는 위치는 0부터 리스트의 길이 사이여야함.\n",
        "- insert는 추가된 값 이후의 모든 값을 이동시켜야하므로 append에 비해 비용이 많이듦\n",
        "- 만약 순차 자료형의 시작과 끝에 원소를 추가하고 싶으면 collenction.dequeue를 사용"
      ],
      "metadata": {
        "id": "XUGV8sx4IgFx"
      }
    },
    {
      "cell_type": "markdown",
      "source": [
        "- insert 메서드와는 반대로 pop 메서드 존재\n",
        "- pop 메서드는 특정 위치의 값을 반환하고 해당 값을 리스트에서 삭제"
      ],
      "metadata": {
        "id": "ToZc8nduJQNM"
      }
    },
    {
      "cell_type": "code",
      "source": [
        "b_list.pop(2)"
      ],
      "metadata": {
        "colab": {
          "base_uri": "https://localhost:8080/",
          "height": 35
        },
        "id": "BH2Rrt7hIeC4",
        "outputId": "ed0fdcd3-c79b-4f50-ed5a-1839c2e49eeb"
      },
      "execution_count": null,
      "outputs": [
        {
          "output_type": "execute_result",
          "data": {
            "text/plain": [
              "'peekaboo'"
            ],
            "application/vnd.google.colaboratory.intrinsic+json": {
              "type": "string"
            }
          },
          "metadata": {},
          "execution_count": 39
        }
      ]
    },
    {
      "cell_type": "code",
      "source": [
        "b_list"
      ],
      "metadata": {
        "colab": {
          "base_uri": "https://localhost:8080/"
        },
        "id": "UyOUvFZpJcjd",
        "outputId": "8a116342-28a0-4cac-d8fc-453961a517c7"
      },
      "execution_count": null,
      "outputs": [
        {
          "output_type": "execute_result",
          "data": {
            "text/plain": [
              "['foo', 'red', 'baz', 'dwaf']"
            ]
          },
          "metadata": {},
          "execution_count": 40
        }
      ]
    },
    {
      "cell_type": "markdown",
      "source": [
        "- remove 메서드는 리스트의 제일 앞에 위치한 원소부터 삭제"
      ],
      "metadata": {
        "id": "YdeQbTnPJppR"
      }
    },
    {
      "cell_type": "code",
      "source": [
        "b_list.append('foo')\n",
        "print(b_list)\n",
        "b_list.remove('foo')\n",
        "print(b_list)"
      ],
      "metadata": {
        "colab": {
          "base_uri": "https://localhost:8080/"
        },
        "id": "g40oyl0eJeOm",
        "outputId": "b979c6e3-bd0a-4c43-8091-ac00ff8f926b"
      },
      "execution_count": null,
      "outputs": [
        {
          "output_type": "stream",
          "name": "stdout",
          "text": [
            "['foo', 'red', 'baz', 'dwaf', 'foo']\n",
            "['red', 'baz', 'dwaf', 'foo']\n"
          ]
        }
      ]
    },
    {
      "cell_type": "markdown",
      "source": [
        "- in 예약어를 사용해 리스트에 해당 값이 존재하는지 검사\n",
        "- not 예약어는 in 예약어를 반대 의미로 사용"
      ],
      "metadata": {
        "id": "ZjavTEgsJ7TA"
      }
    },
    {
      "cell_type": "code",
      "source": [
        "eg1 = 'dwaf' in b_list\n",
        "print(eg1)\n",
        "eg2 = 'dwaf' not in b_list\n",
        "print(eg2)"
      ],
      "metadata": {
        "colab": {
          "base_uri": "https://localhost:8080/"
        },
        "id": "LPI7uwTXJ32E",
        "outputId": "1e128620-1cf6-4b14-8d3d-7fbf55f1df4e"
      },
      "execution_count": null,
      "outputs": [
        {
          "output_type": "stream",
          "name": "stdout",
          "text": [
            "True\n",
            "False\n"
          ]
        }
      ]
    },
    {
      "cell_type": "markdown",
      "source": [
        "#### 리스트 이어 붙이기\n",
        "- 튜플과 마찬가지로 + 연산자를 사용하면 두 리스트를 붙일 수 있음"
      ],
      "metadata": {
        "id": "Kd4ntjzBKsux"
      }
    },
    {
      "cell_type": "code",
      "source": [
        "[4, None, 'foo'] + [7, 8, (2, 3)]"
      ],
      "metadata": {
        "colab": {
          "base_uri": "https://localhost:8080/"
        },
        "id": "AV-c4L5ZKCEI",
        "outputId": "9df5de7a-d094-4ccb-956e-695fa3532a3a"
      },
      "execution_count": null,
      "outputs": [
        {
          "output_type": "execute_result",
          "data": {
            "text/plain": [
              "[4, None, 'foo', 7, 8, (2, 3)]"
            ]
          },
          "metadata": {},
          "execution_count": 45
        }
      ]
    },
    {
      "cell_type": "markdown",
      "source": [
        "- 미리 정의된 리스트일 경우 extend 메서드를 사용\n",
        "- 큰 리스트일 경우 extend를 사용하는 것이 기존의 리스트보다 더 빠른 연산이 가능함"
      ],
      "metadata": {
        "id": "lcmOU_PpLFXE"
      }
    },
    {
      "cell_type": "code",
      "source": [
        "x = [4, None, 'foo']\n",
        "x.extend([7, 8, (2,3)])\n",
        "print(x)"
      ],
      "metadata": {
        "colab": {
          "base_uri": "https://localhost:8080/"
        },
        "id": "Frvay9NmK75v",
        "outputId": "8998fcf6-d160-4015-c3a5-c354a4c77b22"
      },
      "execution_count": null,
      "outputs": [
        {
          "output_type": "stream",
          "name": "stdout",
          "text": [
            "[4, None, 'foo', 7, 8, (2, 3)]\n"
          ]
        }
      ]
    },
    {
      "cell_type": "markdown",
      "source": [
        "#### 정렬\n",
        "\n",
        "- sort 함수를 사용해서 새로운 리스트를 생성하지 않고 있는 그대로의 리스트를 정렬할 수 있음"
      ],
      "metadata": {
        "id": "RcHKGzAyLirc"
      }
    },
    {
      "cell_type": "code",
      "source": [
        "a = [7, 4, 2, 6, 9]\n",
        "a.sort()\n",
        "print(a)"
      ],
      "metadata": {
        "colab": {
          "base_uri": "https://localhost:8080/"
        },
        "id": "f8ORyNDpLES_",
        "outputId": "29d951f6-e3c1-4caa-b720-3117c061290a"
      },
      "execution_count": null,
      "outputs": [
        {
          "output_type": "stream",
          "name": "stdout",
          "text": [
            "[2, 4, 6, 7, 9]\n"
          ]
        }
      ]
    },
    {
      "cell_type": "markdown",
      "source": [
        "- sort 함수는 편의를 위한 다양한 옵션들이 있음\n",
        "- 대표적인 예시로 정렬 기준으로 사용할 값을 반환하는 함수"
      ],
      "metadata": {
        "id": "kQPHq-ROL3XB"
      }
    },
    {
      "cell_type": "code",
      "source": [
        "b = ['saw', 'small', 'He', 'foxes', 'six']\n",
        "b.sort(key=len)\n",
        "print(b)"
      ],
      "metadata": {
        "colab": {
          "base_uri": "https://localhost:8080/"
        },
        "id": "Y4zg4kYRLwrj",
        "outputId": "1b6d8d4c-fbbc-4247-b2f5-9724d8a5e7f9"
      },
      "execution_count": null,
      "outputs": [
        {
          "output_type": "stream",
          "name": "stdout",
          "text": [
            "['He', 'saw', 'six', 'small', 'foxes']\n"
          ]
        }
      ]
    },
    {
      "cell_type": "markdown",
      "source": [
        "#### 슬라이싱\n",
        "\n",
        "- 리스트와 같은 자료형(배열, 튜플, ndarray)은 색인 연산자 [] 안에 start:stop을 지정해서 원하는 크기만큼 잘라낼 수 있음"
      ],
      "metadata": {
        "id": "C9u1e12jc-Q_"
      }
    },
    {
      "cell_type": "code",
      "source": [
        "seq = [7, 2, 3, 7, 5, 6, 0, 1]\n",
        "seq[1:5]"
      ],
      "metadata": {
        "id": "Bi0HqCyKMKtt",
        "colab": {
          "base_uri": "https://localhost:8080/"
        },
        "outputId": "90df2eab-4238-4cbe-b130-2de3e843307e"
      },
      "execution_count": null,
      "outputs": [
        {
          "output_type": "execute_result",
          "data": {
            "text/plain": [
              "[2, 3, 7, 5]"
            ]
          },
          "metadata": {},
          "execution_count": 1
        }
      ]
    },
    {
      "cell_type": "markdown",
      "source": [
        "- 슬라이싱에 다른 순차 자료형을 대입할 수 있음"
      ],
      "metadata": {
        "id": "NZqR0hskdk15"
      }
    },
    {
      "cell_type": "code",
      "source": [
        "seq[3:5] = [6, 3]\n",
        "print(seq)"
      ],
      "metadata": {
        "colab": {
          "base_uri": "https://localhost:8080/"
        },
        "id": "rHw0RJEYdV7F",
        "outputId": "286af347-b042-4b4d-a6a9-d3c1fd61368a"
      },
      "execution_count": null,
      "outputs": [
        {
          "output_type": "stream",
          "name": "stdout",
          "text": [
            "[7, 2, 3, 6, 3, 6, 0, 1]\n"
          ]
        }
      ]
    },
    {
      "cell_type": "markdown",
      "source": [
        "- 색인의 시작 위치에 있는 값은 포함되지만 끝 위치에 있는 값은 포함되지 않음. -> 슬라이싱의 개수 = stop - start\n",
        "- 색인의 시작값과 끝값을 생략 가능.    \n",
        "색인의 시작 값이 생략: 순차 자료형의 제일 처음 값부터     \n",
        "색인의 끝 값이 생략: 순차 자료형의 제일 마지막 값까지\n",
        "- 음수 색인은 순차 자료형의 끝부터의 위치를 나타냄"
      ],
      "metadata": {
        "id": "YF8fMixSh864"
      }
    },
    {
      "cell_type": "code",
      "source": [
        "print(seq[:5])\n",
        "print(seq[3:])\n",
        "print(seq[-4:])\n",
        "print(seq[-6:-2])"
      ],
      "metadata": {
        "colab": {
          "base_uri": "https://localhost:8080/"
        },
        "id": "CG9f6b9Ydr86",
        "outputId": "c7475e45-d965-40ee-869e-83a2c46b2fc7"
      },
      "execution_count": null,
      "outputs": [
        {
          "output_type": "stream",
          "name": "stdout",
          "text": [
            "[7, 2, 3, 6, 3]\n",
            "[6, 3, 6, 0, 1]\n",
            "[3, 6, 0, 1]\n",
            "[3, 6, 3, 6]\n"
          ]
        }
      ]
    },
    {
      "cell_type": "markdown",
      "source": [
        "- 두번째 콜론 다음에 간격 지정 가능\n",
        "- 하나 걸러 다음 원소를 선택하려면 다음과 같이 표현 가능"
      ],
      "metadata": {
        "id": "quGymT_FjW8x"
      }
    },
    {
      "cell_type": "code",
      "source": [
        "seq[::2]"
      ],
      "metadata": {
        "colab": {
          "base_uri": "https://localhost:8080/"
        },
        "id": "ZFMs4wulib5f",
        "outputId": "395b94df-aa72-47a3-ff6f-14271ed899bf"
      },
      "execution_count": null,
      "outputs": [
        {
          "output_type": "execute_result",
          "data": {
            "text/plain": [
              "[7, 3, 3, 0]"
            ]
          },
          "metadata": {},
          "execution_count": 5
        }
      ]
    },
    {
      "cell_type": "markdown",
      "source": [
        "- 값으로 -1을 사용하면 리스트나 튜플을 역순으로 반환"
      ],
      "metadata": {
        "id": "ePDrGqVhjoJD"
      }
    },
    {
      "cell_type": "code",
      "source": [
        "seq[::-1]"
      ],
      "metadata": {
        "colab": {
          "base_uri": "https://localhost:8080/"
        },
        "id": "CsRn6zUVjgpK",
        "outputId": "f3f8746a-1520-4aab-9333-07590b957224"
      },
      "execution_count": null,
      "outputs": [
        {
          "output_type": "execute_result",
          "data": {
            "text/plain": [
              "[1, 0, 6, 3, 6, 3, 2, 7]"
            ]
          },
          "metadata": {},
          "execution_count": 6
        }
      ]
    },
    {
      "cell_type": "markdown",
      "source": [
        "### 2.1.3 딕셔너리\n",
        "\n",
        "- 딕셔너리(dict)는 파이썬 내장 자료구조 중 가장 중요한 자료구조\n",
        "- 다른 프로그래밍 언어에서는 해시맵. 또는 연관 배열로 알려져있음\n",
        "- 딕셔너리는 키-값 쌍을 저장하며 키와 값은 모두 파이썬 객체\n",
        "- 각 키는 값과 연관되어 툭정 키가 주어지면 값을 편리하게 검색, 삽입, 수정, 삭제 가능\n",
        "- 중괄호를 사용해 콜론으로 구분된 키와 값을 둘러싼 딕셔너리가 생성됨"
      ],
      "metadata": {
        "id": "dQzZSeh8jvGW"
      }
    },
    {
      "cell_type": "code",
      "source": [
        "empty_dict = {}\n",
        "d1 = {\"a\": \"some value\", \"b\":[1, 2, 3, 4]}\n",
        "print(d1)"
      ],
      "metadata": {
        "colab": {
          "base_uri": "https://localhost:8080/"
        },
        "id": "Vd04EiY6juBM",
        "outputId": "bdc3011d-3505-493a-eda9-05a5a346e915"
      },
      "execution_count": null,
      "outputs": [
        {
          "output_type": "stream",
          "name": "stdout",
          "text": [
            "{'a': 'some value', 'b': [1, 2, 3, 4]}\n"
          ]
        }
      ]
    },
    {
      "cell_type": "markdown",
      "source": [
        "- 리스트나 튜플처럼 딕셔너리 값에 접근하거나 값을 입력할 수 있음"
      ],
      "metadata": {
        "id": "3s2WezbDlLpK"
      }
    },
    {
      "cell_type": "code",
      "source": [
        "d1[7] = \"an integer\"\n",
        "print(d1)\n",
        "print(d1[\"b\"])"
      ],
      "metadata": {
        "colab": {
          "base_uri": "https://localhost:8080/"
        },
        "id": "QWsMbIqjk_yw",
        "outputId": "d52c1f62-4934-4b0c-8366-25bf250e5afb"
      },
      "execution_count": null,
      "outputs": [
        {
          "output_type": "stream",
          "name": "stdout",
          "text": [
            "{'a': 'some value', 'b': [1, 2, 3, 4], 7: 'an integer'}\n",
            "[1, 2, 3, 4]\n"
          ]
        }
      ]
    },
    {
      "cell_type": "markdown",
      "source": [
        "- 리스트와 튜플에서 사용한 동일한 문법으로 딕셔너리에 들어있는 키를 확인할 수 있음"
      ],
      "metadata": {
        "id": "ZYrZZ-UEmJwv"
      }
    },
    {
      "cell_type": "code",
      "source": [
        "\"b\" in d1"
      ],
      "metadata": {
        "colab": {
          "base_uri": "https://localhost:8080/"
        },
        "id": "ntJGXF0RlXtG",
        "outputId": "8db7093a-3c65-4a7d-c1b6-771e311d44e8"
      },
      "execution_count": null,
      "outputs": [
        {
          "output_type": "execute_result",
          "data": {
            "text/plain": [
              "True"
            ]
          },
          "metadata": {},
          "execution_count": 9
        }
      ]
    },
    {
      "cell_type": "markdown",
      "source": [
        "- del 예약어나 pop 메서드를 통해 딕셔너리의 값을 삭제 가능."
      ],
      "metadata": {
        "id": "yTLyi5oKmj0C"
      }
    },
    {
      "cell_type": "code",
      "source": [
        "d1[5] = \"some value\"\n",
        "print(\"First Dictionary: \", d1)\n",
        "\n",
        "d1[\"dummy\"] = \"another value\"\n",
        "print(\"Modified Dictionary: \", d1)\n",
        "\n",
        "del d1[5]\n",
        "print(\"Delete d1[5]: \",d1)\n",
        "\n",
        "ret = d1.pop(\"dummy\")\n",
        "print(\"Pop 'dummy'\",ret)\n",
        "\n",
        "print(\"Final dictionary: \",d1)"
      ],
      "metadata": {
        "colab": {
          "base_uri": "https://localhost:8080/"
        },
        "id": "YX3_WHvAmQlO",
        "outputId": "8d6b7ee4-8afa-4af3-ea21-fdbec4e4d610"
      },
      "execution_count": null,
      "outputs": [
        {
          "output_type": "stream",
          "name": "stdout",
          "text": [
            "First Dictionary:  {'a': 'some value', 'b': [1, 2, 3, 4], 7: 'an integer', 5: 'some value'}\n",
            "Modified Dictionary:  {'a': 'some value', 'b': [1, 2, 3, 4], 7: 'an integer', 5: 'some value', 'dummy': 'another value'}\n",
            "Delete d1[5]:  {'a': 'some value', 'b': [1, 2, 3, 4], 7: 'an integer', 'dummy': 'another value'}\n",
            "Pop 'dummy' another value\n",
            "Final dictionary:  {'a': 'some value', 'b': [1, 2, 3, 4], 7: 'an integer'}\n"
          ]
        }
      ]
    },
    {
      "cell_type": "markdown",
      "source": [
        "- keys와 values 메서드는 각각 키와 값이 담긴 이터레이터를 반환\n",
        "- 키의 순서는 삽입 순서에 따라 다르며 이러한 함수는 키와 값을 각각 동일한 순서로 출력"
      ],
      "metadata": {
        "id": "ID0PmWg4oSQZ"
      }
    },
    {
      "cell_type": "code",
      "source": [
        "print(list(d1.keys()))\n",
        "print(list(d1.values()))"
      ],
      "metadata": {
        "colab": {
          "base_uri": "https://localhost:8080/"
        },
        "id": "Da8_cwklofam",
        "outputId": "0df0efc1-7913-4e15-d1f3-525ecab1a33a"
      },
      "execution_count": null,
      "outputs": [
        {
          "output_type": "stream",
          "name": "stdout",
          "text": [
            "['a', 'b', 7]\n",
            "['some value', [1, 2, 3, 4], 'an integer']\n"
          ]
        }
      ]
    },
    {
      "cell_type": "markdown",
      "source": [
        "- 키와 값에 대해 반복 작업을 해야하는 경우 items 메서드를 사용하면 키와 값의 쌍을 갖는 튜플로 사용 가능"
      ],
      "metadata": {
        "id": "RvQBfoMmoSFy"
      }
    },
    {
      "cell_type": "code",
      "source": [
        "print(list(d1.items()))"
      ],
      "metadata": {
        "colab": {
          "base_uri": "https://localhost:8080/"
        },
        "id": "EkRZHlU5mvrZ",
        "outputId": "e5fe163a-4426-449b-a52d-1f09571de2bb"
      },
      "execution_count": null,
      "outputs": [
        {
          "output_type": "stream",
          "name": "stdout",
          "text": [
            "[('a', 'some value'), ('b', [1, 2, 3, 4]), (7, 'an integer')]\n"
          ]
        }
      ]
    },
    {
      "cell_type": "markdown",
      "source": [
        "- update 메서드를 사용하면 하나의 딕셔너리를 다른 딕셔너리와 합칠 수 있음"
      ],
      "metadata": {
        "id": "5vgOaDquqLSn"
      }
    },
    {
      "cell_type": "code",
      "source": [
        "d1.update({'b': 'foo', 'c':12})\n",
        "\n",
        "print(d1)"
      ],
      "metadata": {
        "colab": {
          "base_uri": "https://localhost:8080/"
        },
        "id": "SUjiu5RyqJfL",
        "outputId": "7318b471-1097-4354-f19e-f4db80469e3e"
      },
      "execution_count": null,
      "outputs": [
        {
          "output_type": "stream",
          "name": "stdout",
          "text": [
            "{'a': 'some value', 'b': 'foo', 7: 'an integer', 'c': 12}\n"
          ]
        }
      ]
    },
    {
      "cell_type": "markdown",
      "source": [
        "- update 메서드는 딕셔너리의 값을 그 자리에서 바꾸므로 이미 존재하는 카에 대해 update를 호출하면 이전 값은 사라짐."
      ],
      "metadata": {
        "id": "VNs4MtpQq15S"
      }
    },
    {
      "cell_type": "markdown",
      "source": [
        "#### 순차 자료형에서 딕셔너리 생성하기\n",
        "\n",
        "- 두 개의 순차 자료형의 각 원소를 짝지어 딕셔너리로 만드는일은 흔히 접합\n",
        "- 이 작업을 위한 코드     \n",
        "```\n",
        "mapping = {}\n",
        "for key, value in zip(key_list, value_list):\n",
        "    mapping[key] = value\n",
        "```"
      ],
      "metadata": {
        "id": "jhMFY8uZrXqK"
      }
    },
    {
      "cell_type": "markdown",
      "source": [
        "- 본질적으로 딕셔너리는 2개의 tuple로 구성되기 때문에 dict 함수가 2개의 tuple의 list를 인수로 받아 딕셔너리를 생성"
      ],
      "metadata": {
        "id": "h9QeasdJpX05"
      }
    },
    {
      "cell_type": "code",
      "source": [
        "tuples = zip(range(5), reversed(range(5)))\n",
        "print(tuples)\n",
        "\n",
        "mapping = dict(tuples)\n",
        "print(mapping)"
      ],
      "metadata": {
        "colab": {
          "base_uri": "https://localhost:8080/"
        },
        "id": "aps9pOW6qaCI",
        "outputId": "32ab434d-75ec-4bd2-841b-549d3cde2b0c"
      },
      "execution_count": null,
      "outputs": [
        {
          "output_type": "stream",
          "name": "stdout",
          "text": [
            "<zip object at 0x7975100a23c0>\n",
            "{0: 4, 1: 3, 2: 2, 3: 1, 4: 0}\n"
          ]
        }
      ]
    },
    {
      "cell_type": "markdown",
      "source": [
        "#### 기본값\n",
        "\n",
        "- 다음 코드는 기본적인 logic\n",
        "```\n",
        "if key in some_dict:\n",
        "   value = some_dict[key]\n",
        "else:\n",
        "   value = default_value\n",
        "```\n",
        "- 딕셔너리 메서드인 get과 pop은 반환할 기본값을 받을 수 있으므로 위 코드의 if-else 블록을 다음과 같이 작성 가능\n",
        "```\n",
        "value = some_dict.get(key, default_value)\n",
        "```\n",
        "- get 메서드는 기본적으로 해당 키가 존재하지 않을 경우 None을 반환\n",
        "- pop 메서드는 예외를 발생\n",
        "- 일반적으로 딕셔너리에 값을 대입할 때 리스트 같은 다른 collection에 있는 값을 이용"
      ],
      "metadata": {
        "id": "3PtB6sx6p-XX"
      }
    },
    {
      "cell_type": "code",
      "source": [
        "words = ['apple', 'bat', 'bar', 'atom', 'book']\n",
        "\n",
        "by_letter = {}\n",
        "\n",
        "for word in words:\n",
        "  letter = word[0]\n",
        "  if letter not in by_letter:\n",
        "    by_letter[letter] = [word]\n",
        "  else:\n",
        "    by_letter[letter].append(word)\n",
        "\n",
        "print(by_letter)"
      ],
      "metadata": {
        "id": "xs9uCJlZrxOz",
        "colab": {
          "base_uri": "https://localhost:8080/"
        },
        "outputId": "26d56378-2a99-41b6-d1f9-cba16a02e445"
      },
      "execution_count": null,
      "outputs": [
        {
          "output_type": "stream",
          "name": "stdout",
          "text": [
            "{'a': ['apple', 'atom'], 'b': ['bat', 'bar', 'book']}\n"
          ]
        }
      ]
    },
    {
      "cell_type": "markdown",
      "source": [
        "- 위 코드의 if-else 블록을 아래 코드와 같이 변환 가능"
      ],
      "metadata": {
        "id": "LjowTXoLrzUG"
      }
    },
    {
      "cell_type": "code",
      "source": [
        "by_letter = {}\n",
        "\n",
        "for word in words:\n",
        "  letter = word[0]\n",
        "  by_letter.setdefault(letter, []).append(word)\n",
        "\n",
        "print(by_letter)"
      ],
      "metadata": {
        "colab": {
          "base_uri": "https://localhost:8080/"
        },
        "id": "qXlwpNNwrO7k",
        "outputId": "5569d490-ef09-46ee-f28e-b84699eca321"
      },
      "execution_count": null,
      "outputs": [
        {
          "output_type": "stream",
          "name": "stdout",
          "text": [
            "{'a': ['apple', 'atom'], 'b': ['bat', 'bar', 'book']}\n"
          ]
        }
      ]
    },
    {
      "cell_type": "markdown",
      "source": [
        "- 내장 collection 모듈에는 위 과정을 좀 더 쉽게 만드는 defaultdict라는 클래스가 존재\n",
        "- 자료형 or 딕셔너리의 각 슬롯에 담길 기본값을 생성하는 함수를 넘겨서 딕셔너리를 생성"
      ],
      "metadata": {
        "id": "E71BN76kr4pf"
      }
    },
    {
      "cell_type": "code",
      "source": [
        "from collections import defaultdict\n",
        "by_letter = defaultdict(list)\n",
        "\n",
        "for word in words:\n",
        "  by_letter[word[0]].append(word)\n",
        "\n",
        "print(by_letter)"
      ],
      "metadata": {
        "colab": {
          "base_uri": "https://localhost:8080/"
        },
        "id": "mXvsYKO-rx9P",
        "outputId": "5e735fca-7998-4dba-ca70-6b148d9b2ed4"
      },
      "execution_count": null,
      "outputs": [
        {
          "output_type": "stream",
          "name": "stdout",
          "text": [
            "defaultdict(<class 'list'>, {'a': ['apple', 'atom'], 'b': ['bat', 'bar', 'book']})\n"
          ]
        }
      ]
    },
    {
      "cell_type": "markdown",
      "source": [
        "#### 유효한 딕셔너리 키\n",
        "\n",
        "- 딕셔너리의 값으로는 어떤 파이썬 객체도 가능\n",
        "- key 값은 스칼라 자료형(정수, 실수, 문자열) or tuple(튜플에 저장된 값 또한 값이 변하지 않는 객체여야함)\n",
        "- 기술적으로 hash가 가능해야함. -> hash 함수를 사용해서 딕셔너리의 키 값으로 사용 가능한지 검사 가능"
      ],
      "metadata": {
        "id": "vpEf0uV4tpYU"
      }
    },
    {
      "cell_type": "code",
      "source": [
        "print(hash('string'))\n",
        "\n",
        "print(hash((1, 2, (2, 3))))\n",
        "\n",
        "# hash((1, 2, [2, 3])) -> list는 변경 가능하기 때문에 hash 불가능"
      ],
      "metadata": {
        "colab": {
          "base_uri": "https://localhost:8080/"
        },
        "id": "q_yUod5SsUUv",
        "outputId": "306206fe-d5fb-41d1-cb37-6f0122451ba4"
      },
      "execution_count": null,
      "outputs": [
        {
          "output_type": "stream",
          "name": "stdout",
          "text": [
            "4546105010521273158\n",
            "-9209053662355515447\n"
          ]
        }
      ]
    },
    {
      "cell_type": "markdown",
      "source": [
        "- 일반적으로 hash 함수를 사용할 때 표시되는 hash 값은 파이썬 버전에 따라 다름\n",
        "- 만약 list를 key로 사용하려면 list->tuple로 바꿔주면 된다."
      ],
      "metadata": {
        "id": "K-GS-oU_vRtE"
      }
    },
    {
      "cell_type": "code",
      "source": [
        "d = {}\n",
        "d[tuple([1, 2, 3])] = 5\n",
        "print(d)"
      ],
      "metadata": {
        "colab": {
          "base_uri": "https://localhost:8080/"
        },
        "id": "Ru54gfXNu3ay",
        "outputId": "838364bc-6cb5-4505-9aad-ecd7e773f961"
      },
      "execution_count": null,
      "outputs": [
        {
          "output_type": "stream",
          "name": "stdout",
          "text": [
            "{(1, 2, 3): 5}\n"
          ]
        }
      ]
    },
    {
      "cell_type": "markdown",
      "source": [
        "### 2.1.4 집합\n",
        "\n",
        "- 고유한 원소만담는 정렬되지 않은 자료형\n",
        "- set 함수 혹은 {}를 사용해서 생성"
      ],
      "metadata": {
        "id": "yo0gr42_vs4g"
      }
    },
    {
      "cell_type": "code",
      "source": [
        "print(\"Use set function: \", set([2, 2, 2, 1, 3, 3]))\n",
        "\n",
        "print(\"Don't use set function: \", {2, 2, 2, 1, 3, 3})"
      ],
      "metadata": {
        "colab": {
          "base_uri": "https://localhost:8080/"
        },
        "id": "iAOgl6NzvrOn",
        "outputId": "5f036c8f-09ed-4fc0-c424-94568e11c3ac"
      },
      "execution_count": null,
      "outputs": [
        {
          "output_type": "stream",
          "name": "stdout",
          "text": [
            "Use set function:  {1, 2, 3}\n",
            "Don't use set function:  {1, 2, 3}\n"
          ]
        }
      ]
    },
    {
      "cell_type": "markdown",
      "source": [
        "- 합집합, 차집합, 대칭차집합 같은 산술 집합 연산 제공"
      ],
      "metadata": {
        "id": "zbngXz0lwzE4"
      }
    },
    {
      "cell_type": "code",
      "source": [
        "a = {1, 2, 3, 4, 5}\n",
        "\n",
        "b = {3, 4, 5, 6, 7, 8}\n",
        "\n",
        "#합집합\n",
        "print(\"By using union: \", a.union(b))\n",
        "print(\"By using |: \", a|b)\n",
        "\n",
        "#교집합\n",
        "print(\"By using intersection: \", a.intersection(b))\n",
        "print(\"By using &:\", a&b)"
      ],
      "metadata": {
        "colab": {
          "base_uri": "https://localhost:8080/"
        },
        "id": "zrVb6D3EwpSD",
        "outputId": "06d6a39a-6b85-45c4-d2be-bb891772fc77"
      },
      "execution_count": null,
      "outputs": [
        {
          "output_type": "stream",
          "name": "stdout",
          "text": [
            "By using union:  {1, 2, 3, 4, 5, 6, 7, 8}\n",
            "By using |:  {1, 2, 3, 4, 5, 6, 7, 8}\n",
            "By using intersection:  {3, 4, 5}\n",
            "By using &: {3, 4, 5}\n"
          ]
        }
      ]
    },
    {
      "cell_type": "markdown",
      "source": [
        "- 일반적인 집합 메서드    \n",
        "\n",
        "|함수|대체 문법|설명|\n",
        "|----|----|----|\n",
        "|a.add(x)|N/A|a에 원소 x를 추가|\n",
        "|a.clear()|N/A|모든 원소를 제거하고 빈 상태로 되돌림|\n",
        "|a.remove(x)|N/A|a에서 원소 x를 제거|\n",
        "|a.pop()|N/A|a에서 임의의 원소 제거|\n",
        "|a.union(b)|a\\|b|a와 b의 합집합|\n",
        "|a.update(b)|a\\|=b|a에 a와 b의 합집합을 대입|\n",
        "|a.intersection(b)|a&b|a와 b의 교집합|\n",
        "|a.intersection_update(b)|a&=b|a에 a와 b의 교집합을 대입|\n",
        "|a.difference(b)|a-b|a와 b의 차집합|\n",
        "|a.difference_update(b)|a-=b|a에 a와 b의 차집합을 대입|\n",
        "|a.symmetric_difference(b)|a^b|a와 b의 대칭 차집합|\n",
        "|a.symmetric_difference_update(b)|a^=b|a에 a와 b의 대칭 차집합을 대입|\n",
        "|a.isssubnet(b)|<=|a의 모든 원소가 b에 속할 경우 True|\n",
        "|a.issuperset(b)|>=|a가 b의 모든 원소를 포함할 경우 True|\n",
        "|a.isdisjoint(b)|N/A|a와 b 모두에 속하는 원소가 없을 경우 True|\n",
        "\n",
        "- 모든 논리 집합 연산은 연산 결과를 좌항에 대입하는 함수도 따로 제공"
      ],
      "metadata": {
        "id": "mcsPbpQg1R_F"
      }
    },
    {
      "cell_type": "code",
      "source": [
        "c = a.copy()\n",
        "c|=b\n",
        "print(c)"
      ],
      "metadata": {
        "colab": {
          "base_uri": "https://localhost:8080/"
        },
        "id": "YGbRlWN105iW",
        "outputId": "1723a372-7321-4850-d395-a9e93155be47"
      },
      "execution_count": null,
      "outputs": [
        {
          "output_type": "stream",
          "name": "stdout",
          "text": [
            "{1, 2, 3, 4, 5, 6, 7, 8}\n"
          ]
        }
      ]
    },
    {
      "cell_type": "code",
      "source": [
        "d = a.copy()\n",
        "d&=b\n",
        "print(d)"
      ],
      "metadata": {
        "colab": {
          "base_uri": "https://localhost:8080/"
        },
        "id": "UX5Becu75j-H",
        "outputId": "b9070f59-9f1a-4d33-f9df-8783c46f2150"
      },
      "execution_count": null,
      "outputs": [
        {
          "output_type": "stream",
          "name": "stdout",
          "text": [
            "{3, 4, 5}\n"
          ]
        }
      ]
    },
    {
      "cell_type": "markdown",
      "source": [
        "- 딕셔너리처럼 집합 원소들도 일반적으로 변경 불가능 & 해시 가능\n",
        "- 집합에 list와 같은 원소를 담을 때는 tuple로 변환"
      ],
      "metadata": {
        "id": "nJfOSsM45tox"
      }
    },
    {
      "cell_type": "code",
      "source": [
        "my_data = [1, 2, 3, 4]\n",
        "\n",
        "my_set = {tuple(my_data)}\n",
        "\n",
        "print(my_set)"
      ],
      "metadata": {
        "colab": {
          "base_uri": "https://localhost:8080/"
        },
        "id": "reFUtet25q1d",
        "outputId": "5e1d19a7-3a61-41bf-afc3-b33a05f7bb6b"
      },
      "execution_count": null,
      "outputs": [
        {
          "output_type": "stream",
          "name": "stdout",
          "text": [
            "{(1, 2, 3, 4)}\n"
          ]
        }
      ]
    },
    {
      "cell_type": "markdown",
      "source": [
        "- 어떤 집합이 다른 집합의 부분 집합인지 상위 집합인지 검사 가능"
      ],
      "metadata": {
        "id": "w6Mogqj06A3l"
      }
    },
    {
      "cell_type": "code",
      "source": [
        "a_set = {1, 2, 3, 4, 5}\n",
        "\n",
        "print({1, 2, 3}.issubset(a_set))\n",
        "print(a_set.issuperset({1, 2, 3}))"
      ],
      "metadata": {
        "colab": {
          "base_uri": "https://localhost:8080/"
        },
        "id": "YNPpat205-nL",
        "outputId": "f7f5bf3a-bc4d-4fc1-be2d-680a714da042"
      },
      "execution_count": null,
      "outputs": [
        {
          "output_type": "stream",
          "name": "stdout",
          "text": [
            "True\n",
            "True\n"
          ]
        }
      ]
    },
    {
      "cell_type": "markdown",
      "source": [
        "- 두 집합의 내용이 같다면 두 집합은 동일"
      ],
      "metadata": {
        "id": "CkSqUOD46bKr"
      }
    },
    {
      "cell_type": "code",
      "source": [
        "{1, 2, 3} == {3, 2, 1}"
      ],
      "metadata": {
        "colab": {
          "base_uri": "https://localhost:8080/"
        },
        "id": "4QbRXwAy6VUd",
        "outputId": "ecd2d4a9-4c07-446c-b552-f2bdd283fb90"
      },
      "execution_count": null,
      "outputs": [
        {
          "output_type": "execute_result",
          "data": {
            "text/plain": [
              "True"
            ]
          },
          "metadata": {},
          "execution_count": 19
        }
      ]
    },
    {
      "cell_type": "markdown",
      "source": [
        "### 2.1.5 내장 순차 자료형\n",
        "\n",
        "- 파이썬은 순차 자료형에 사용할 수 있는 유용한 함수 제공\n"
      ],
      "metadata": {
        "id": "R7yBW98y6nvA"
      }
    },
    {
      "cell_type": "markdown",
      "source": [
        "#### enumerate\n",
        "\n",
        "- 해당 함수는 순차 자료형에서 현제 item의 색인을 함께 추적할 때 흔히 사용\n",
        "```\n",
        "index = 0\n",
        "for value in collection:\n",
        "    # 여기서 value 변수 사용 가능\n",
        "    index += 1\n",
        "```\n",
        "\n",
        "- 이는 매우 흔한 코드로 파이썬에서 (i, value) 튜플을 반환하는 enumerate 함수가 있음\n",
        "```\n",
        "for index, value in enumerate(collection):\n",
        "    # 여기서 value 변수 사용 가능\n",
        "```"
      ],
      "metadata": {
        "id": "e0LOMroX7P2c"
      }
    },
    {
      "cell_type": "markdown",
      "source": [
        "#### sorted\n",
        "\n",
        "- 정렬된 새로운 순차 자료형을 반환\n",
        "- sorted 함수는 list의 sort 메서드와 같은 인수를 취함"
      ],
      "metadata": {
        "id": "wgYS_KDk8TsP"
      }
    },
    {
      "cell_type": "code",
      "source": [
        "print(sorted([7, 1, 2, 6, 0, 3, 2]))\n",
        "\n",
        "print(sorted(\"horse race\"))"
      ],
      "metadata": {
        "colab": {
          "base_uri": "https://localhost:8080/"
        },
        "id": "NMFMY3ey6ktf",
        "outputId": "60c70fd5-f6ea-4de6-cb3c-d9b515b6c8ca"
      },
      "execution_count": null,
      "outputs": [
        {
          "output_type": "stream",
          "name": "stdout",
          "text": [
            "[0, 1, 2, 2, 3, 6, 7]\n",
            "[' ', 'a', 'c', 'e', 'e', 'h', 'o', 'r', 'r', 's']\n"
          ]
        }
      ]
    },
    {
      "cell_type": "markdown",
      "source": [
        "#### zip\n",
        "\n",
        "- 여러개의 list or tuple 또는 다른 순차 자료형을 서로 짝지어 tuple list를 생성"
      ],
      "metadata": {
        "id": "suJXrk2Z8wZZ"
      }
    },
    {
      "cell_type": "code",
      "source": [
        "seq1 = ['foo', 'bar', 'baz']\n",
        "seq2 = ['one', 'two', 'three']\n",
        "\n",
        "zipped = zip(seq1, seq2)\n",
        "print(list(zipped))"
      ],
      "metadata": {
        "colab": {
          "base_uri": "https://localhost:8080/"
        },
        "id": "t_5yrfZH8mdT",
        "outputId": "c1c4afec-ca70-4b28-a48a-f5678c6b4b31"
      },
      "execution_count": null,
      "outputs": [
        {
          "output_type": "stream",
          "name": "stdout",
          "text": [
            "[('foo', 'one'), ('bar', 'two'), ('baz', 'three')]\n"
          ]
        }
      ]
    },
    {
      "cell_type": "markdown",
      "source": [
        "- zip 함수는 여러 개의 순차 자료형을 받을 수 있고 반환되는 list의 길이는 넘겨 받은 순차 자료형 준 가장 짧은 길이를 가짐"
      ],
      "metadata": {
        "id": "nWagNF0T9icE"
      }
    },
    {
      "cell_type": "code",
      "source": [
        "seq3 = [False, True]\n",
        "\n",
        "print(list(zip(seq1, seq2, seq3)))"
      ],
      "metadata": {
        "colab": {
          "base_uri": "https://localhost:8080/"
        },
        "id": "pLS-c9j49Jvx",
        "outputId": "461c7cb5-127d-479d-dc3a-415478edfc08"
      },
      "execution_count": null,
      "outputs": [
        {
          "output_type": "stream",
          "name": "stdout",
          "text": [
            "[('foo', 'one', False), ('bar', 'two', True)]\n"
          ]
        }
      ]
    },
    {
      "cell_type": "markdown",
      "source": [
        "- zip 함수는 여러개의 순차 자료형을 동시에 순회할 때 자주 사용되며, enumerate와 함께 사용되기도함."
      ],
      "metadata": {
        "id": "Ob0WlzSW9yQV"
      }
    },
    {
      "cell_type": "code",
      "source": [
        "for index, (a, b) in enumerate(zip(seq1, seq2)):\n",
        "  print(f\"{index}: {a}, {b}\")"
      ],
      "metadata": {
        "colab": {
          "base_uri": "https://localhost:8080/"
        },
        "id": "aPzh60P29wSK",
        "outputId": "d9ad71f3-8d11-42d2-a2f6-227d282f0736"
      },
      "execution_count": null,
      "outputs": [
        {
          "output_type": "stream",
          "name": "stdout",
          "text": [
            "0: foo, one\n",
            "1: bar, two\n",
            "2: baz, three\n"
          ]
        }
      ]
    },
    {
      "cell_type": "markdown",
      "source": [
        "#### reversed\n",
        "\n",
        "- 순차 자료형을 역순으로 순회"
      ],
      "metadata": {
        "id": "Aw_vqxdc-hJ2"
      }
    },
    {
      "cell_type": "code",
      "source": [
        "print(list(reversed(range(10))))"
      ],
      "metadata": {
        "colab": {
          "base_uri": "https://localhost:8080/"
        },
        "id": "RqqDLshp-Izb",
        "outputId": "6b9d9c88-b247-4cbf-b9a6-bda2af3e799e"
      },
      "execution_count": null,
      "outputs": [
        {
          "output_type": "stream",
          "name": "stdout",
          "text": [
            "[9, 8, 7, 6, 5, 4, 3, 2, 1, 0]\n"
          ]
        }
      ]
    },
    {
      "cell_type": "markdown",
      "source": [
        "- reversed는 제너레이터\n",
        "- 따라서 list()나 for문을 통해 모든 값을 다 받아오기전까지 역순의 순차 자료형을 생성하지 않음"
      ],
      "metadata": {
        "id": "QihI7uxb-sF_"
      }
    },
    {
      "cell_type": "markdown",
      "source": [
        "### 2.1.6 리스트, 집합, 딕셔너리 표기법\n",
        "\n",
        "- 리스트 표기법은 파이썬에서 가장 사랑받는 기능 중 하나\n",
        "- 이를 이용해서 간결한 표현으로 새로운 리스트를 만들 수 있음\n",
        "```\n",
        "[expr for value in collection if condtion]\n",
        "```\n",
        "- 이를 반복문으로 구현하면 다음과 같음\n",
        "```\n",
        "result = []\n",
        "fpr value in collection:\n",
        "    if condition:\n",
        "        result.append(expr)\n",
        "```"
      ],
      "metadata": {
        "id": "Q-t32dGw-4Ho"
      }
    },
    {
      "cell_type": "code",
      "source": [
        "strings = ['a', 'as', 'bat', 'car', 'dove', 'python']\n",
        "\n",
        "[x.upper() for x in strings if len(x) > 2]"
      ],
      "metadata": {
        "colab": {
          "base_uri": "https://localhost:8080/"
        },
        "id": "84zkhdUG-qaC",
        "outputId": "37019900-560b-43f1-97cb-0f24b6167d22"
      },
      "execution_count": null,
      "outputs": [
        {
          "output_type": "execute_result",
          "data": {
            "text/plain": [
              "['BAT', 'CAR', 'DOVE', 'PYTHON']"
            ]
          },
          "metadata": {},
          "execution_count": 25
        }
      ]
    },
    {
      "cell_type": "markdown",
      "source": [
        "- 집합과 딕셔너리 표기법 또한 리스트의 표기법과 동일\n",
        "```\n",
        "dict_comp = {key-expr: value-expr for value in collection\n",
        "               if condition}\n",
        "```\n",
        "```\n",
        "set_comp = {expr for value in collection if condition}\n",
        "```"
      ],
      "metadata": {
        "id": "btc7sHci_4v7"
      }
    },
    {
      "cell_type": "code",
      "source": [
        "unique_lengths = {len(x) for x in strings}\n",
        "\n",
        "unique_lengths"
      ],
      "metadata": {
        "colab": {
          "base_uri": "https://localhost:8080/"
        },
        "id": "6-vTgXVi_tdz",
        "outputId": "178086cb-d932-4105-a0ca-3cefca94d26f"
      },
      "execution_count": null,
      "outputs": [
        {
          "output_type": "execute_result",
          "data": {
            "text/plain": [
              "{1, 2, 3, 4, 6}"
            ]
          },
          "metadata": {},
          "execution_count": 26
        }
      ]
    },
    {
      "cell_type": "markdown",
      "source": [
        "- map 함수를 이용해서 함수적으로도 표현 가능"
      ],
      "metadata": {
        "id": "d1pQIcjmAmsu"
      }
    },
    {
      "cell_type": "code",
      "source": [
        "set(map(len, strings))"
      ],
      "metadata": {
        "colab": {
          "base_uri": "https://localhost:8080/"
        },
        "id": "vt0sJ-6pAifq",
        "outputId": "9bfc58d1-a8e2-46e2-d250-2ea93d24594b"
      },
      "execution_count": null,
      "outputs": [
        {
          "output_type": "execute_result",
          "data": {
            "text/plain": [
              "{1, 2, 3, 4, 6}"
            ]
          },
          "metadata": {},
          "execution_count": 27
        }
      ]
    },
    {
      "cell_type": "markdown",
      "source": [
        "- 간단한 딕셔너리 표기법의 예제로 리스트에서 문자열의 위치를 담고 있는 딕셔너리를 생성"
      ],
      "metadata": {
        "id": "Fwdubc6BAtho"
      }
    },
    {
      "cell_type": "code",
      "source": [
        "loc_mapping = {value: index for index, value in enumerate(strings)}\n",
        "\n",
        "loc_mapping"
      ],
      "metadata": {
        "colab": {
          "base_uri": "https://localhost:8080/"
        },
        "id": "HKgMJebDArsY",
        "outputId": "518106e4-f592-42b4-d962-8d6c457af94e"
      },
      "execution_count": null,
      "outputs": [
        {
          "output_type": "execute_result",
          "data": {
            "text/plain": [
              "{'a': 0, 'as': 1, 'bat': 2, 'car': 3, 'dove': 4, 'python': 5}"
            ]
          },
          "metadata": {},
          "execution_count": 28
        }
      ]
    },
    {
      "cell_type": "markdown",
      "source": [
        "#### 중첩된 리스트 표기법\n",
        "\n",
        "- 다음은 영어와 스페인어 이름 리스트를 담고 있는 리스트"
      ],
      "metadata": {
        "id": "7qY4GldVA8uo"
      }
    },
    {
      "cell_type": "code",
      "source": [
        "all_data = [['John', 'Emily', 'Michael', 'Mary', 'Steven'],\n",
        "            ['Maria', 'Juan', 'Javier', 'Natalia', 'Pilar']]"
      ],
      "metadata": {
        "id": "l0VqXAQkA6zj"
      },
      "execution_count": null,
      "outputs": []
    },
    {
      "cell_type": "markdown",
      "source": [
        "- 각 이름에서 알파벳 a가 두 개 이상 포함된 이름의 리스트를 구한다고 가정\n",
        "- 다음과 같은 반복문을 사용해서 구할 수 있음"
      ],
      "metadata": {
        "id": "PrFnXZW5BZFJ"
      }
    },
    {
      "cell_type": "code",
      "source": [
        "names_of_interest = []\n",
        "\n",
        "for names in all_data:\n",
        "  enough_as = [name for name in names if name.count(\"a\") >= 2]\n",
        "  names_of_interest.extend(enough_as)\n",
        "\n",
        "print(names_of_interest)"
      ],
      "metadata": {
        "colab": {
          "base_uri": "https://localhost:8080/"
        },
        "id": "EN9uycZLBX6I",
        "outputId": "8f8fa5e7-d907-4853-cd05-455f5b5de20f"
      },
      "execution_count": null,
      "outputs": [
        {
          "output_type": "stream",
          "name": "stdout",
          "text": [
            "['Maria', 'Natalia']\n"
          ]
        }
      ]
    },
    {
      "cell_type": "markdown",
      "source": [
        "- 해당 코드를 중첩된 리스트 표기법을 사용"
      ],
      "metadata": {
        "id": "rrfqM3nDCL4w"
      }
    },
    {
      "cell_type": "code",
      "source": [
        "result = [name for names in all_data for name in names\n",
        "          if name.count(\"a\") >= 2]\n",
        "\n",
        "print(result)"
      ],
      "metadata": {
        "colab": {
          "base_uri": "https://localhost:8080/"
        },
        "id": "6zSmIjmHCCpO",
        "outputId": "18eb377b-288c-462a-da43-44cae9b57501"
      },
      "execution_count": null,
      "outputs": [
        {
          "output_type": "stream",
          "name": "stdout",
          "text": [
            "['Maria', 'Natalia']\n"
          ]
        }
      ]
    },
    {
      "cell_type": "markdown",
      "source": [
        "- 다음은 숫자 tuple이 담긴 리스트를 단순한 list로 반환하는 예"
      ],
      "metadata": {
        "id": "PaN6O4hADqhr"
      }
    },
    {
      "cell_type": "code",
      "source": [
        "some_tuples = [(1, 2, 3), (4, 5, 6), (7, 8, 9)]\n",
        "flattened = [x for tup in some_tuples for x in tup]\n",
        "print(flattened)"
      ],
      "metadata": {
        "colab": {
          "base_uri": "https://localhost:8080/"
        },
        "id": "pOT-IRtICdeC",
        "outputId": "82efc189-4659-4d17-af18-176761f84cd4"
      },
      "execution_count": null,
      "outputs": [
        {
          "output_type": "stream",
          "name": "stdout",
          "text": [
            "[1, 2, 3, 4, 5, 6, 7, 8, 9]\n"
          ]
        }
      ]
    },
    {
      "cell_type": "markdown",
      "source": [
        "- list 표기법 대신 for문을 사용할 경우 for 표현식의 순서도 list 표기법의 순서와 동일\n",
        "```\n",
        "flattened = []\n",
        "for tup in some_tuples:\n",
        "    for x in tup:\n",
        "        flattened.append(x)\n",
        "```"
      ],
      "metadata": {
        "id": "jw93ytFhD965"
      }
    },
    {
      "cell_type": "code",
      "source": [
        "[[x for x in tup] for tup in some_tuples]\n",
        "# 내부 리스트의 원소를 모두 끄집어낸 리스트를 생성하는 것이 아닌 리스트의 리스트를 생성"
      ],
      "metadata": {
        "colab": {
          "base_uri": "https://localhost:8080/"
        },
        "id": "R8Hj92bTDnIQ",
        "outputId": "0d7a21fe-390a-45cf-8205-827b05c32d91"
      },
      "execution_count": null,
      "outputs": [
        {
          "output_type": "execute_result",
          "data": {
            "text/plain": [
              "[[1, 2, 3], [4, 5, 6], [7, 8, 9]]"
            ]
          },
          "metadata": {},
          "execution_count": 35
        }
      ]
    },
    {
      "cell_type": "markdown",
      "source": [
        "## 2.2 함수\n",
        "\n",
        "- 파이썬에서 코드를 재사용하고 조직화하기 위한 가장 중요한 수단\n",
        "- def 예약어로 정의\n",
        "- 선택적으로 return 예약어를 사용하는 코드를 블록에 포함"
      ],
      "metadata": {
        "id": "kBaHPZCmElfC"
      }
    },
    {
      "cell_type": "code",
      "source": [
        "def my_function(x, y):\n",
        "  return x+y"
      ],
      "metadata": {
        "id": "hfhKie2DEj_H"
      },
      "execution_count": null,
      "outputs": []
    },
    {
      "cell_type": "markdown",
      "source": [
        "- 코드 실행이 return이 있는 위치에 도달하면 return에 있는 값이나 식의 결과가 해당 함수를 호출한 컨텍스트로 전달"
      ],
      "metadata": {
        "id": "Ca9od5Yb0_Q9"
      }
    },
    {
      "cell_type": "code",
      "source": [
        "my_function(1, 2)"
      ],
      "metadata": {
        "id": "NqmexwTgFBvZ",
        "colab": {
          "base_uri": "https://localhost:8080/"
        },
        "outputId": "02463dd4-94be-499a-f021-e45f7bf7f455"
      },
      "execution_count": null,
      "outputs": [
        {
          "output_type": "execute_result",
          "data": {
            "text/plain": [
              "3"
            ]
          },
          "metadata": {},
          "execution_count": 2
        }
      ]
    },
    {
      "cell_type": "code",
      "source": [
        "result = my_function(1, 2)\n",
        "result"
      ],
      "metadata": {
        "colab": {
          "base_uri": "https://localhost:8080/"
        },
        "id": "1StU_hVa1cRP",
        "outputId": "dd8c51f2-34b6-4678-d364-03f0498f39e0"
      },
      "execution_count": null,
      "outputs": [
        {
          "output_type": "execute_result",
          "data": {
            "text/plain": [
              "3"
            ]
          },
          "metadata": {},
          "execution_count": 3
        }
      ]
    },
    {
      "cell_type": "markdown",
      "source": [
        "- 함수 블록이 끝날 때까지 return문이 없다면 자동으로 None 반환"
      ],
      "metadata": {
        "id": "RUJLG04w1iwS"
      }
    },
    {
      "cell_type": "code",
      "source": [
        "def function_without_return(x):\n",
        "    print(x)\n",
        "\n",
        "result = function_without_return(\"hello!\")\n",
        "\n",
        "print(result)"
      ],
      "metadata": {
        "colab": {
          "base_uri": "https://localhost:8080/"
        },
        "id": "lXe9PmOv1gmu",
        "outputId": "d1dd53aa-3309-4455-c4b8-bb4441d9d322"
      },
      "execution_count": null,
      "outputs": [
        {
          "output_type": "stream",
          "name": "stdout",
          "text": [
            "hello!\n",
            "None\n"
          ]
        }
      ]
    },
    {
      "cell_type": "markdown",
      "source": [
        "- 함수는 여러개의 위치 인수와 키워드 인수를 받을 수 있음.\n",
        "- 키워드 인수는 기본값이나 선택적인 인수로 사용"
      ],
      "metadata": {
        "id": "gi7mmaHR2HH_"
      }
    },
    {
      "cell_type": "code",
      "source": [
        "def my_function2(x, y, z=1.5):\n",
        "  if z>1:\n",
        "    return z*(x+y)\n",
        "  else:\n",
        "    return z/(x+y)"
      ],
      "metadata": {
        "id": "NlfPHxY32B8E"
      },
      "execution_count": null,
      "outputs": []
    },
    {
      "cell_type": "markdown",
      "source": [
        "- 다음 함수는 기본값 1.5를 갖는 선택적인 인수 z를 사용한 함수\n",
        "- 키워드 인수는 선택 사항이지만 함수를 호출 할 때 위치 인수를 반드시 지정\n",
        "- 키워드 인수의 이름을 사용하지 않고 z 인수에 값을 넘길 수 있지만 일반적으로 이름을 사용하는 것이 좋음"
      ],
      "metadata": {
        "id": "lutPo8uc2j-K"
      }
    },
    {
      "cell_type": "code",
      "source": [
        "print(my_function2(5, 6, z=0.7))\n",
        "\n",
        "print(my_function2(3.14, 7, 3.5))\n",
        "\n",
        "print(my_function2(10, 20))"
      ],
      "metadata": {
        "colab": {
          "base_uri": "https://localhost:8080/"
        },
        "id": "kxInhbCH2Y9U",
        "outputId": "8d7f9020-4594-4eb2-f724-6d7f61050ba1"
      },
      "execution_count": null,
      "outputs": [
        {
          "output_type": "stream",
          "name": "stdout",
          "text": [
            "0.06363636363636363\n",
            "35.49\n",
            "45.0\n"
          ]
        }
      ]
    },
    {
      "cell_type": "markdown",
      "source": [
        "- 함수의 키워드 인수는 항상 위치 인수 다음에 와야함.\n",
        "- 키워드 인수의 순서는 제약 X"
      ],
      "metadata": {
        "id": "cIPE4CxA3wN_"
      }
    },
    {
      "cell_type": "markdown",
      "source": [
        "### 2.2.1 네임스페이스, 스코프, 지역 함수\n",
        "\n",
        "- 함수는 전역(global), 지역(local)/ 두 가지 스코프에서 변수를 참조\n",
        "- 변수의 스코프 = 네임스페이스\n",
        "- 함수 내에서 선언된 변수는 기본적으로 모두 지역 네임스페이스에 저장\n",
        "- 지역 네임스페이스는 함수가 호출될 때 생성/ 함수의 인수를 통해 즉시 생성\n",
        "- 함수의 실행이 끝나면 지역 네임스페이스는 사라짐."
      ],
      "metadata": {
        "id": "pFlQJVI736aL"
      }
    },
    {
      "cell_type": "code",
      "source": [
        "def func():\n",
        "  a = []\n",
        "  for i in range(5):\n",
        "    a.append(i)"
      ],
      "metadata": {
        "id": "cmrD7HN73Esb"
      },
      "execution_count": null,
      "outputs": []
    },
    {
      "cell_type": "markdown",
      "source": [
        "- func() 함수를 호출하면 비어있는 리스트 a가 생성되고 다섯 개의 원소가 리스트에 추가됨.\n",
        "- 함수가 끝나면 리스트 a가 사라짐."
      ],
      "metadata": {
        "id": "r46KGKhR4m41"
      }
    },
    {
      "cell_type": "code",
      "source": [
        "a = []\n",
        "\n",
        "def func():\n",
        "  for i in range(5):\n",
        "    a.append(i)"
      ],
      "metadata": {
        "id": "ByhFzY0Y4k56"
      },
      "execution_count": null,
      "outputs": []
    },
    {
      "cell_type": "markdown",
      "source": [
        "- 다음과 같이 리스트 a가 선언 된다면 func()함수를 호출할 떄마다 리스트 a가 반환"
      ],
      "metadata": {
        "id": "BHYfYfIU48bq"
      }
    },
    {
      "cell_type": "code",
      "source": [
        "func()\n",
        "\n",
        "print(a)\n",
        "\n",
        "func()\n",
        "\n",
        "print(a)"
      ],
      "metadata": {
        "colab": {
          "base_uri": "https://localhost:8080/"
        },
        "id": "FVAFoaKB5Eo8",
        "outputId": "0e4fd8ae-0dbb-401d-93f4-fc093a1cdb6b"
      },
      "execution_count": null,
      "outputs": [
        {
          "output_type": "stream",
          "name": "stdout",
          "text": [
            "[0, 1, 2, 3, 4, 0, 1, 2, 3, 4]\n",
            "[0, 1, 2, 3, 4, 0, 1, 2, 3, 4, 0, 1, 2, 3, 4]\n"
          ]
        }
      ]
    },
    {
      "cell_type": "markdown",
      "source": [
        "- 함수의 범위 밖에서 젼수에 값을 대입하려면 해당 변수를 지역 변수를 global이나 nonlocal 예약어를 사용해 명시적으로 선언\n",
        "- nonlocal은 함수가 전역이 아닌 상위 수준 스코프에서 정의된 변수를 수정할 수 있음. 단, 사용법이 다소 난해"
      ],
      "metadata": {
        "id": "8BkhJPXu6NxR"
      }
    },
    {
      "cell_type": "code",
      "source": [
        "a = None\n",
        "\n",
        "def bind_a_variable():\n",
        "    global a\n",
        "    a = []\n",
        "\n",
        "bind_a_variable()\n",
        "\n",
        "print(a)"
      ],
      "metadata": {
        "colab": {
          "base_uri": "https://localhost:8080/"
        },
        "id": "ZbojdZrU5GEp",
        "outputId": "dfb79ed3-4900-46b3-b8f1-9f40c1146206"
      },
      "execution_count": null,
      "outputs": [
        {
          "output_type": "stream",
          "name": "stdout",
          "text": [
            "[]\n"
          ]
        }
      ]
    },
    {
      "cell_type": "markdown",
      "source": [
        "### 2.2.2 여러 값 반환하기\n",
        "\n",
        "- 파이썬의 주요 기능중 하나로 다른 언어와 달리 하나의 함수에서 여러 개의 값을 반환하는 기능\n",
        "```\n",
        "def f():\n",
        "    a = 5\n",
        "    b = 6\n",
        "    c = 7\n",
        "    return a, b, c\n",
        "a, b, c = f()\n",
        "```\n",
        "- 데이터 분석과 과학 계산 어플리케이션에서 여러 개의 값을 반환하는 일이 매우 잦음\n",
        "- 해당 함수는 튜플을 반환한다고 생각할 수 있음\n",
        "- 위 예제에서 튜플을 반환하여 다음 코드처럼 변수에 대입 가능\n",
        "```\n",
        "return_value = f()\n",
        "```\n",
        "- 여기서 return_value는 반환된 3개의 값을 갖는 튜플이 됨.\n",
        "```\n",
        "def f():\n",
        "    a = 5\n",
        "    b = 6\n",
        "    c = 7\n",
        "    return {'a': a, 'b':b, 'c':c}\n",
        "```\n",
        "- 다음과 같이 딕셔너리 형태로 반환할 수도 있음."
      ],
      "metadata": {
        "id": "k99-YWWG61yp"
      }
    },
    {
      "cell_type": "markdown",
      "source": [
        "### 2.2.3 함수도 객체다\n",
        "\n",
        "- 파이썬에서 함수는 개체이므로 다른 언어와는 달리 표현하기 어려운 객체 생성을 쉽게 나타낼 수 있음."
      ],
      "metadata": {
        "id": "DJNbNVsJAVDQ"
      }
    },
    {
      "cell_type": "code",
      "source": [
        "states = ['   Alabama', ' Georgia!', ' Gerogia', 'georgia', 'FlOrIda', 'south  carolina##', 'West virginia?']"
      ],
      "metadata": {
        "id": "K-ymVlmd7Fbq"
      },
      "execution_count": null,
      "outputs": []
    },
    {
      "cell_type": "markdown",
      "source": [
        "- 다음 데이터는 입력값이 엉망인 데이터\n",
        "- 분석을 위해 해당 문자열 리스트를 정형화할 필요가 있음\n",
        "- 주로 공백 문자를 제거하거나 대소문자를 맞추는 등의 작업이 필요\n",
        "- 내장 문자열 메서드와 정규 표현식을 위한 re 표준 라이브러리를 이용해 해결 가능"
      ],
      "metadata": {
        "id": "1Fxx4d9NA1CA"
      }
    },
    {
      "cell_type": "code",
      "source": [
        "import re\n",
        "\n",
        "def clean_strings(strings):\n",
        "  result = []\n",
        "  for value in strings:\n",
        "    value = value.strip()\n",
        "    value = re.sub(\"[!#?]\", \"\", value)\n",
        "    value = value.title()\n",
        "    result.append(value)\n",
        "  return result"
      ],
      "metadata": {
        "id": "Czh85gOgAz4D"
      },
      "execution_count": null,
      "outputs": []
    },
    {
      "cell_type": "code",
      "source": [
        "clean_strings(states)"
      ],
      "metadata": {
        "colab": {
          "base_uri": "https://localhost:8080/"
        },
        "id": "ZI469yHUBhA-",
        "outputId": "8bb8c812-9bce-43f1-e9bd-638f5dda379a"
      },
      "execution_count": null,
      "outputs": [
        {
          "output_type": "execute_result",
          "data": {
            "text/plain": [
              "['Alabama',\n",
              " 'Georgia',\n",
              " 'Gerogia',\n",
              " 'Georgia',\n",
              " 'Florida',\n",
              " 'South  Carolina',\n",
              " 'West Virginia']"
            ]
          },
          "metadata": {},
          "execution_count": 16
        }
      ]
    },
    {
      "cell_type": "markdown",
      "source": [
        "- 다른 접근법으로는 적용할 함수를 리스트에 담아두고 각각의 문자열에 적용하는 것"
      ],
      "metadata": {
        "id": "XsuhisQNB2Vb"
      }
    },
    {
      "cell_type": "code",
      "source": [
        "def remove_punctuation(value):\n",
        "  return re.sub(\"[!#?]\", \"\", value)\n",
        "\n",
        "clean_ops = [str.strip, remove_punctuation, str.title]\n",
        "\n",
        "def clean_strings(strings, ops):\n",
        "  result = []\n",
        "  for value in strings:\n",
        "    for func in ops:\n",
        "      value = func(value)\n",
        "    result.append(value)\n",
        "  return result"
      ],
      "metadata": {
        "id": "odceSknCBj7Z"
      },
      "execution_count": null,
      "outputs": []
    },
    {
      "cell_type": "code",
      "source": [
        "clean_strings(states, clean_ops)"
      ],
      "metadata": {
        "colab": {
          "base_uri": "https://localhost:8080/"
        },
        "id": "M4VCeP3ACyn3",
        "outputId": "b578c579-f65b-4137-e20d-8de2cf06a929"
      },
      "execution_count": null,
      "outputs": [
        {
          "output_type": "execute_result",
          "data": {
            "text/plain": [
              "['Alabama',\n",
              " 'Georgia',\n",
              " 'Gerogia',\n",
              " 'Georgia',\n",
              " 'Florida',\n",
              " 'South  Carolina',\n",
              " 'West Virginia']"
            ]
          },
          "metadata": {},
          "execution_count": 18
        }
      ]
    },
    {
      "cell_type": "markdown",
      "source": [
        "- 다음과 같이 좀 더 실용적인 패턴은 문자열 변형을 상위 레벨에서 쉽게 처리할 수 있음.\n",
        "- 순차적 자료형에 대해 함수를 적용하는 내장 함수는 map 함수를 이용해서 함수를 인수로 사용 가능"
      ],
      "metadata": {
        "id": "1l0ukLibDFWv"
      }
    },
    {
      "cell_type": "code",
      "source": [
        "for x in map(remove_punctuation, states):\n",
        "  print(x)"
      ],
      "metadata": {
        "colab": {
          "base_uri": "https://localhost:8080/"
        },
        "id": "RARuxq1xC4BX",
        "outputId": "2c780806-abba-4e28-b44c-2752a065b494"
      },
      "execution_count": null,
      "outputs": [
        {
          "output_type": "stream",
          "name": "stdout",
          "text": [
            "   Alabama\n",
            " Georgia\n",
            " Gerogia\n",
            "georgia\n",
            "FlOrIda\n",
            "south  carolina\n",
            "West virginia\n"
          ]
        }
      ]
    },
    {
      "cell_type": "markdown",
      "source": [
        "### 2.2.4 익명(람다)함수\n",
        "\n",
        "- 파이썬은 익명 혹은 람다 함수라고 부르는 값을 반환하는 단순한 한 문장으로 이루어진 함수를 지원\n",
        "- lambda 예약어로 익명 함수를 정의"
      ],
      "metadata": {
        "id": "2SQ312F2DgA1"
      }
    },
    {
      "cell_type": "code",
      "source": [
        "def short_function(x):\n",
        "  return x * 2\n",
        "\n",
        "equiv_anon = lambda x: x*2"
      ],
      "metadata": {
        "id": "oRqrqkB6DaC-"
      },
      "execution_count": null,
      "outputs": []
    },
    {
      "cell_type": "markdown",
      "source": [
        "- 람다 함수를 사용하면 실제 함수를 선언하거나 지역 변수에 람다 함수를 대입하는 것 보다 코드가 적고 더 간결해짐"
      ],
      "metadata": {
        "id": "VDkZsuC_EpJE"
      }
    },
    {
      "cell_type": "code",
      "source": [
        "def apply_to_list(some_list, f):\n",
        "  return [f(x) for x in some_list]\n",
        "\n",
        "ints = [4, 0, 1, 5, 6]\n",
        "\n",
        "apply_to_list(ints, lambda x: x*2)"
      ],
      "metadata": {
        "colab": {
          "base_uri": "https://localhost:8080/"
        },
        "id": "z3zx8zUOD3QW",
        "outputId": "b22d88b1-c46b-4507-8846-ddc38fe5d16b"
      },
      "execution_count": null,
      "outputs": [
        {
          "output_type": "execute_result",
          "data": {
            "text/plain": [
              "[8, 0, 2, 10, 12]"
            ]
          },
          "metadata": {},
          "execution_count": 21
        }
      ]
    },
    {
      "cell_type": "code",
      "source": [
        "strings = ['foo', 'card', 'bar', 'aaaa', 'abab']\n",
        "\n",
        "strings.sort(key = lambda x: len(set(x)))\n",
        "\n",
        "print(strings)\n",
        "\n",
        "# 고유한 문자열의 개수 (aaaa는 1개, card는 4개)"
      ],
      "metadata": {
        "colab": {
          "base_uri": "https://localhost:8080/"
        },
        "id": "IEb7FjBqFCR5",
        "outputId": "c005114d-a972-4f60-ab2d-836760df2c11"
      },
      "execution_count": null,
      "outputs": [
        {
          "output_type": "stream",
          "name": "stdout",
          "text": [
            "['aaaa', 'foo', 'abab', 'bar', 'card']\n"
          ]
        }
      ]
    },
    {
      "cell_type": "markdown",
      "source": [
        "### 2.2.5 제네레이터\n",
        "\n",
        "- 많은 파이썬의 객체는 리스트 내의 객체나 파일의 각 행 같은 순차적인 자료를 순회하는 방식을 제공\n",
        "- 이터레이터 프로토콜을 이용해 순회 가능한 객체를 만들 수 있음."
      ],
      "metadata": {
        "id": "-W_jzAqcGVS1"
      }
    },
    {
      "cell_type": "code",
      "source": [
        "some_dict = {'a': 1, 'b': 2, 'c': 3}\n",
        "\n",
        "for key in some_dict:\n",
        "  print(key)"
      ],
      "metadata": {
        "colab": {
          "base_uri": "https://localhost:8080/"
        },
        "id": "F_zmh6jhFkTv",
        "outputId": "8ae2500a-f412-48e4-90ac-5f3752b14688"
      },
      "execution_count": null,
      "outputs": [
        {
          "output_type": "stream",
          "name": "stdout",
          "text": [
            "a\n",
            "b\n",
            "c\n"
          ]
        }
      ]
    },
    {
      "cell_type": "markdown",
      "source": [
        "- for key in some_dict를 작성하면 파이썬 인터프리터는 some_dict에서 이터레이터를 생성"
      ],
      "metadata": {
        "id": "EKhOXIo3G0vH"
      }
    },
    {
      "cell_type": "code",
      "source": [
        "dict_iterator = iter(some_dict)\n",
        "\n",
        "dict_iterator"
      ],
      "metadata": {
        "colab": {
          "base_uri": "https://localhost:8080/"
        },
        "id": "qCUpsDgfGxtu",
        "outputId": "f72ab391-4c8e-4326-93c1-e8849d7fd16d"
      },
      "execution_count": null,
      "outputs": [
        {
          "output_type": "execute_result",
          "data": {
            "text/plain": [
              "<dict_keyiterator at 0x7de6132650d0>"
            ]
          },
          "metadata": {},
          "execution_count": 25
        }
      ]
    },
    {
      "cell_type": "markdown",
      "source": [
        "- 이터레이터는 for문과 같은 컨텍스트에서 사용될 경우 객체를 반환\n",
        "- 리스트나 리스트와 유사한 객체를 취하는 대부분의 메서드는 순회가 가능한 객체도 혀용\n",
        "- min, max, sum과 같은 내장 메서드나 list, tuple과 같은 자료구조를 생성하는 메서드도 포함"
      ],
      "metadata": {
        "id": "z540I871HDB6"
      }
    },
    {
      "cell_type": "code",
      "source": [
        "list(dict_iterator)"
      ],
      "metadata": {
        "colab": {
          "base_uri": "https://localhost:8080/"
        },
        "id": "niFgR53EHBp5",
        "outputId": "a1848dba-1a48-4ff9-d1b5-f7ad4b8e9f8e"
      },
      "execution_count": null,
      "outputs": [
        {
          "output_type": "execute_result",
          "data": {
            "text/plain": [
              "['a', 'b', 'c']"
            ]
          },
          "metadata": {},
          "execution_count": 26
        }
      ]
    },
    {
      "cell_type": "markdown",
      "source": [
        "- 제너레이터는 순회가 가능한 객체를 생성하는 간단한 방법\n",
        "- 일반 함수는 실행 시 단일 값을 반환      \n",
        "제너레이터는 제너레이터를 사용할 때마다 실행을 중지했다가 다시 시작하며 순차적인 값을 반환\n",
        "- 제네레이터를 생성하려면 함수에서 return 대신 yield 예약어흫 사용"
      ],
      "metadata": {
        "id": "rt7WeMD9HXrM"
      }
    },
    {
      "cell_type": "code",
      "source": [
        "def squares(n=10):\n",
        "  print(f\"Generating squares from 1 to {n**2}\")\n",
        "  for i in range(1, n+1):\n",
        "    yield i**2"
      ],
      "metadata": {
        "id": "9J4vEKnHHVK4"
      },
      "execution_count": null,
      "outputs": []
    },
    {
      "cell_type": "code",
      "source": [
        "gen = squares()\n",
        "\n",
        "print(gen)"
      ],
      "metadata": {
        "colab": {
          "base_uri": "https://localhost:8080/"
        },
        "id": "7JG3I_TqH54n",
        "outputId": "0ebc5cf9-4249-41f4-b58b-b9286d0a09bf"
      },
      "execution_count": null,
      "outputs": [
        {
          "output_type": "stream",
          "name": "stdout",
          "text": [
            "<generator object squares at 0x7de613ff7ae0>\n"
          ]
        }
      ]
    },
    {
      "cell_type": "markdown",
      "source": [
        "- 제너레이터를 호출하면 코드가 즉각적으로 실행 X\n",
        "- 제너레이터로부터 값을 요청하면 제너레이터 코드 실행"
      ],
      "metadata": {
        "id": "8ix1IrMLIBMV"
      }
    },
    {
      "cell_type": "code",
      "source": [
        "for x in gen:\n",
        "  print(x, end=\" \")"
      ],
      "metadata": {
        "colab": {
          "base_uri": "https://localhost:8080/"
        },
        "id": "-aqsRxlDH-74",
        "outputId": "9987e031-aa5a-42c7-f4c1-5d534e6c018e"
      },
      "execution_count": null,
      "outputs": [
        {
          "output_type": "stream",
          "name": "stdout",
          "text": [
            "Generating squares from 1 to 100\n",
            "1 4 9 16 25 36 49 64 81 100 "
          ]
        }
      ]
    },
    {
      "cell_type": "markdown",
      "source": [
        "#### 제너레이터 표현식\n",
        "\n",
        "- 제너레이터를 생성하는 더 간단한 방법은 제너레이터 표현식을 사용하는 것\n",
        "- 리스트 표현식에서 대괄호를 사용하듯이 괄호를 사용해서 제너레이터를 생성"
      ],
      "metadata": {
        "id": "plIpIJUyISBD"
      }
    },
    {
      "cell_type": "code",
      "source": [
        "gen = (x**2 for x in range(100))\n",
        "\n",
        "print(gen)"
      ],
      "metadata": {
        "colab": {
          "base_uri": "https://localhost:8080/"
        },
        "id": "YVWcyCjvIMog",
        "outputId": "42db765f-c431-4cb0-cd24-b08bea4f4894"
      },
      "execution_count": null,
      "outputs": [
        {
          "output_type": "stream",
          "name": "stdout",
          "text": [
            "<generator object <genexpr> at 0x7de6143379f0>\n"
          ]
        }
      ]
    },
    {
      "cell_type": "markdown",
      "source": [
        "- 다음은 위 코드와 동일한 코드\n",
        "```\n",
        "def make_gen():\n",
        "    for x in range(100)\n",
        "      yield x**2\n",
        "gen = make_gen()\n",
        "```\n",
        "- 함수의 인수로 리스트 표현식을 사용하는 대신 제너레이터 표현식을 사용할 수 있음."
      ],
      "metadata": {
        "id": "SNoqZ4NeImpY"
      }
    },
    {
      "cell_type": "code",
      "source": [
        "print(sum(x**2 for x in range(100)))\n",
        "\n",
        "print(dict((i, i**2) for i in range(5)))"
      ],
      "metadata": {
        "colab": {
          "base_uri": "https://localhost:8080/"
        },
        "id": "G1VTMZ2YIlDK",
        "outputId": "af7879ca-8690-4625-c353-76c47d426842"
      },
      "execution_count": null,
      "outputs": [
        {
          "output_type": "stream",
          "name": "stdout",
          "text": [
            "328350\n",
            "{0: 0, 1: 1, 2: 4, 3: 9, 4: 16}\n"
          ]
        }
      ]
    },
    {
      "cell_type": "markdown",
      "source": [
        "#### itertools 모듈\n",
        "\n",
        "- 표준 라이브러리인 itertools 모듈은 일반적인 데이터 알고리즘을 위해 여러 제너레이터를 제공\n",
        "- Ex) groupby는 순차 자료구조와 함수를 받아 인수로 받은 함수에서 반환하는 값에 따라 그룹을 지어준다."
      ],
      "metadata": {
        "id": "mZ945PH_JMCn"
      }
    },
    {
      "cell_type": "code",
      "source": [
        "import itertools\n",
        "\n",
        "def first_letter(x):\n",
        "  return x[0]\n",
        "\n",
        "names = ['Alan', 'Adam', 'Wes', 'Will', 'Albert', 'Steven']\n",
        "\n",
        "for letter, names in itertools.groupby(names, first_letter):\n",
        "  print(letter, list(names))  # names는 제너레이터\n"
      ],
      "metadata": {
        "colab": {
          "base_uri": "https://localhost:8080/"
        },
        "id": "bCCr8a7bJArW",
        "outputId": "0fda334c-6827-4c58-9820-bb15f993ca6b"
      },
      "execution_count": null,
      "outputs": [
        {
          "output_type": "stream",
          "name": "stdout",
          "text": [
            "A ['Alan', 'Adam']\n",
            "W ['Wes', 'Will']\n",
            "A ['Albert']\n",
            "S ['Steven']\n"
          ]
        }
      ]
    },
    {
      "cell_type": "markdown",
      "source": [
        "- 유용한 itertools 함수\n",
        "\n",
        "|함수|설명|\n",
        "|-------|--------|\n",
        "|chain(*iterables)|이터레이터를 서로 연결해 순차 자료형 생성<br>첫번째 이터레이터레서 값을 모두 꺼내면 다음 이터레이터가 반환|\n",
        "|combination(iterable, k)|iterable에서 순서를 고려하지 않고 길이가 k인 모든 가능한 조합 생성|\n",
        "|permutations(iterable, k)|iterable에서 순서를 고려하여 길이가 k인 모든 가능한 조합 생성|\n",
        "|groupby(iterable[, keyfunc])|iterable에서 각각의 고유한 키에 따라 group을 생성|\n",
        "|product(*iterables, repeat=1)|iterable에서 데카르트 곱을 구함|"
      ],
      "metadata": {
        "id": "bkHk3Cp4KJnb"
      }
    },
    {
      "cell_type": "markdown",
      "source": [
        "### 2.2.6 오류와 예외 처리\n",
        "\n",
        "- 견고한 프로그램 작성을 위함\n",
        "- 데이터 분석 어플리케이션에서 많은 함수가 특정한 종류의 입력만 처리하도록 설계"
      ],
      "metadata": {
        "id": "d5y43eKBeJV6"
      }
    },
    {
      "cell_type": "code",
      "source": [
        "print(float(\"1.2345\"))\n",
        "\n",
        "print(float(\"something\"))"
      ],
      "metadata": {
        "id": "ViM-yQvlKEsq",
        "colab": {
          "base_uri": "https://localhost:8080/",
          "height": 198
        },
        "outputId": "6a865d12-85a2-44b6-c109-273eb80d7a3b"
      },
      "execution_count": null,
      "outputs": [
        {
          "output_type": "stream",
          "name": "stdout",
          "text": [
            "1.2345\n"
          ]
        },
        {
          "output_type": "error",
          "ename": "ValueError",
          "evalue": "could not convert string to float: 'something'",
          "traceback": [
            "\u001b[0;31m---------------------------------------------------------------------------\u001b[0m",
            "\u001b[0;31mValueError\u001b[0m                                Traceback (most recent call last)",
            "\u001b[0;32m<ipython-input-2-f87dbeb37bb4>\u001b[0m in \u001b[0;36m<cell line: 0>\u001b[0;34m()\u001b[0m\n\u001b[1;32m      1\u001b[0m \u001b[0mprint\u001b[0m\u001b[0;34m(\u001b[0m\u001b[0mfloat\u001b[0m\u001b[0;34m(\u001b[0m\u001b[0;34m\"1.2345\"\u001b[0m\u001b[0;34m)\u001b[0m\u001b[0;34m)\u001b[0m\u001b[0;34m\u001b[0m\u001b[0;34m\u001b[0m\u001b[0m\n\u001b[1;32m      2\u001b[0m \u001b[0;34m\u001b[0m\u001b[0m\n\u001b[0;32m----> 3\u001b[0;31m \u001b[0mprint\u001b[0m\u001b[0;34m(\u001b[0m\u001b[0mfloat\u001b[0m\u001b[0;34m(\u001b[0m\u001b[0;34m\"something\"\u001b[0m\u001b[0;34m)\u001b[0m\u001b[0;34m)\u001b[0m\u001b[0;34m\u001b[0m\u001b[0;34m\u001b[0m\u001b[0m\n\u001b[0m",
            "\u001b[0;31mValueError\u001b[0m: could not convert string to float: 'something'"
          ]
        }
      ]
    },
    {
      "cell_type": "markdown",
      "source": [
        "- 입력이 적절하지 않은 경우 입력을 그대로 반환\n",
        "- try/except를 사용해서 개선"
      ],
      "metadata": {
        "id": "E8Ik_VvRepVq"
      }
    },
    {
      "cell_type": "code",
      "source": [
        "def attempt_float(x):\n",
        "  try:\n",
        "    return float(x)\n",
        "  except:\n",
        "    return x"
      ],
      "metadata": {
        "id": "unRCR5kAedjV"
      },
      "execution_count": null,
      "outputs": []
    },
    {
      "cell_type": "code",
      "source": [
        "print(attempt_float(\"1.2345\"))\n",
        "\n",
        "print(attempt_float(\"something\"))"
      ],
      "metadata": {
        "colab": {
          "base_uri": "https://localhost:8080/"
        },
        "id": "gRZK-eHoe6Fz",
        "outputId": "52d1cef0-b22a-4e77-e9a2-d407d6034b01"
      },
      "execution_count": null,
      "outputs": [
        {
          "output_type": "stream",
          "name": "stdout",
          "text": [
            "1.2345\n",
            "something\n"
          ]
        }
      ]
    },
    {
      "cell_type": "markdown",
      "source": [
        "- TypeError: 입력이 문자열이나 숫자가 아니라는 뜻\n",
        "- ValueError: 적절하지 않은 입력\n",
        "- TypeError는 그대로 두고 ValueError만 예외 처리를 할 때 except 뒤에 처리할 예외의 종류를 작성"
      ],
      "metadata": {
        "id": "KQYaSdgZfUik"
      }
    },
    {
      "cell_type": "code",
      "source": [
        "def attempt_float(x):\n",
        "  try:\n",
        "    return float(x)\n",
        "  except ValueError:\n",
        "    return x"
      ],
      "metadata": {
        "id": "SQeUTWKvfGxB"
      },
      "execution_count": null,
      "outputs": []
    },
    {
      "cell_type": "code",
      "source": [
        "attempt_float((1,2))"
      ],
      "metadata": {
        "colab": {
          "base_uri": "https://localhost:8080/",
          "height": 269
        },
        "id": "7r16gi7cfyFW",
        "outputId": "30c5682d-a6b6-4729-87b8-be6df31731ff"
      },
      "execution_count": null,
      "outputs": [
        {
          "output_type": "error",
          "ename": "TypeError",
          "evalue": "float() argument must be a string or a real number, not 'tuple'",
          "traceback": [
            "\u001b[0;31m---------------------------------------------------------------------------\u001b[0m",
            "\u001b[0;31mTypeError\u001b[0m                                 Traceback (most recent call last)",
            "\u001b[0;32m<ipython-input-8-102527222085>\u001b[0m in \u001b[0;36m<cell line: 0>\u001b[0;34m()\u001b[0m\n\u001b[0;32m----> 1\u001b[0;31m \u001b[0mattempt_float\u001b[0m\u001b[0;34m(\u001b[0m\u001b[0;34m(\u001b[0m\u001b[0;36m1\u001b[0m\u001b[0;34m,\u001b[0m\u001b[0;36m2\u001b[0m\u001b[0;34m)\u001b[0m\u001b[0;34m)\u001b[0m\u001b[0;34m\u001b[0m\u001b[0;34m\u001b[0m\u001b[0m\n\u001b[0m",
            "\u001b[0;32m<ipython-input-7-dd8724242948>\u001b[0m in \u001b[0;36mattempt_float\u001b[0;34m(x)\u001b[0m\n\u001b[1;32m      1\u001b[0m \u001b[0;32mdef\u001b[0m \u001b[0mattempt_float\u001b[0m\u001b[0;34m(\u001b[0m\u001b[0mx\u001b[0m\u001b[0;34m)\u001b[0m\u001b[0;34m:\u001b[0m\u001b[0;34m\u001b[0m\u001b[0;34m\u001b[0m\u001b[0m\n\u001b[1;32m      2\u001b[0m   \u001b[0;32mtry\u001b[0m\u001b[0;34m:\u001b[0m\u001b[0;34m\u001b[0m\u001b[0;34m\u001b[0m\u001b[0m\n\u001b[0;32m----> 3\u001b[0;31m     \u001b[0;32mreturn\u001b[0m \u001b[0mfloat\u001b[0m\u001b[0;34m(\u001b[0m\u001b[0mx\u001b[0m\u001b[0;34m)\u001b[0m\u001b[0;34m\u001b[0m\u001b[0;34m\u001b[0m\u001b[0m\n\u001b[0m\u001b[1;32m      4\u001b[0m   \u001b[0;32mexcept\u001b[0m \u001b[0mValueError\u001b[0m\u001b[0;34m:\u001b[0m\u001b[0;34m\u001b[0m\u001b[0;34m\u001b[0m\u001b[0m\n\u001b[1;32m      5\u001b[0m     \u001b[0;32mreturn\u001b[0m \u001b[0mx\u001b[0m\u001b[0;34m\u001b[0m\u001b[0;34m\u001b[0m\u001b[0m\n",
            "\u001b[0;31mTypeError\u001b[0m: float() argument must be a string or a real number, not 'tuple'"
          ]
        }
      ]
    },
    {
      "cell_type": "markdown",
      "source": [
        "- 튜플을 사용해서 여러 개의 예외를 괄호로 묶어 한 번에 처리 가능"
      ],
      "metadata": {
        "id": "5mZYehaWf2as"
      }
    },
    {
      "cell_type": "code",
      "source": [
        "def attempt_float(x):\n",
        "  try:\n",
        "    return float(x)\n",
        "  except (TypeError, ValueError):\n",
        "    return x"
      ],
      "metadata": {
        "id": "4X-ZVWl4f0sF"
      },
      "execution_count": null,
      "outputs": []
    },
    {
      "cell_type": "markdown",
      "source": [
        "- finally: 예외 무시 X, 해당 블록의 코드가 성공적으로 수행되었는지에 대한 여부 관계없이 실행하고 싶을 경우\n",
        "\n",
        "```\n",
        "f = open(path, mode='w')\n",
        "\n",
        "try:\n",
        "    write_to_file(f)\n",
        "finally:\n",
        "    f.close()\n",
        "```\n",
        "- 이 경우 파일 핸들인 f는 항상 닫힘\n",
        "- else: try 블록이 성공적으로 수행되었을때만 수행하는 코드\n",
        "\n",
        "```\n",
        "f = open(path, mode='w')\n",
        "\n",
        "try:\n",
        "    write_to_file(f)\n",
        "except:\n",
        "    print(\"Failed\")\n",
        "else:\n",
        "    print(\"Succeded\")\n",
        "finally:\n",
        "    f.close()\n",
        "```"
      ],
      "metadata": {
        "id": "VvyS1xC-gKYf"
      }
    },
    {
      "cell_type": "markdown",
      "source": [
        "#### IPython에서 예외 처리\n",
        "\n",
        "- %run: 코드를 실행하던 중에 예외가 발생하면 기본적으로 StackTrace를 출력하고 해당 위치 주변의 코드를 보여줌\n",
        "\n",
        "```\n",
        "%run examples/ipyhton_bug.py\n",
        "```\n",
        "- %mode: 매직 명령어, 표준 파이썬 인터프리터와 동일한 수준인 Plain부터 함수 인숫값 등을 포함해서 보여주는 Verbose 단계까지 직접 제어 가능"
      ],
      "metadata": {
        "id": "EtEeuhvhhHF4"
      }
    },
    {
      "cell_type": "markdown",
      "source": [
        "## 2.3 파일과 운영체제\n",
        "\n",
        "- 파이썬에서 파일을 읽어와 처리하는 방식이 매우 간단\n",
        "- open: 파이썬의 내장 함수, 파일의 상대경로나 절대 경로를 넘겨주어야함\n",
        "```\n",
        "path = \"examples/segismundo.txt\"\n",
        "f = open(path, encoding=\"utf-8\")\n",
        "```\n",
        "- 파일 읽기를 위한 기본 유니코드 인코딩이 플랫폼마다 상이하기 때문에 encoding-\"utf-8\"을 사용\n",
        "- 기본적으로 파일은 읽기 전용 모드인 r 모드로 열림\n",
        "- 파일에서 읽은 줄에는 EOL 문자가 그대로 남아 있기 때문에 다음과 같은 코드 작성\n",
        "```\n",
        "lines = [x.string() for x in open(path, encoding=\"utf-8\")]\n",
        "```\n",
        "- 파일 객체를 생성하기 위해 open을 사용했다면 작업이 끝났을 때 반드시 close()로 해당 자원을 운영체제에 돌려주어야함\n",
        "```\n",
        "f.close()\n",
        "```\n",
        "- with문을 사용하면 블록이 끝나는 시점에서 파일 핸들 f가 자동으로 닫힘\n",
        "```\n",
        "with open(path, encoding=\"utf-8\") as f:\n",
        "    lines = [x.strinp() for x in f]\n",
        "```\n",
        "- 파일의 읽기/쓰기 모드를 정리한 표     \n",
        "\n",
        "|모드|설명|\n",
        "|------|--------|\n",
        "|r|읽기 전용|\n",
        "|w|쓰기 전용(새로운 파일을 생성)-같은 이름의 파일이 존재할 경우 덮어씀|\n",
        "|x|쓰기 전용(새로운 파일을 생성)-같은 이름의 파일이 존재할 경우 실패|\n",
        "|a|기존 파일에 추가(기존 파일이 없을 경우 새로 생성)|\n",
        "|r+|읽기/쓰기 모드|\n",
        "|b|이진 파일 모드, 읽기/쓰기 모드에 추가해 rb, wb로 사용|\n",
        "|t|텍스트 모드(자동으로 바이트를 유니코드로 디코딩)|\n",
        "\n",
        "- 파일을 읽을 경우 주로 사용하는 메서드: read, seek, tell\n",
        "\n",
        "- read: 해당 파일에서 특정 개수만큼의 문자를 반환\n",
        "- read 메서드는 읽은 바이트만큼 파일 핸들의 위치를 옮김.\n",
        "- tell: 현재 위치를 알려줌\n",
        "- 파일에서 10개의 문자를 읽었을 떄 위치는 11 -> 기본 인코딩에서 10개의 글자를 디코깅하기 위해 그 만큼의 바이트가 필요하기 때문\n",
        "- 기본 인코딩은 sys 모듈을 통해 확인 가능\n",
        "- seek: 파일 핸들의 위치를 해당 파일에서 지정한 바이트 위치로 옮김\n",
        "\n",
        "- 주로 사용하는 파일 메서드 표\n",
        "\n",
        "|메서드|설명|\n",
        "|------|-------|\n",
        "|read([size])|파일에서 데이터를 읽어 문자열로 반환(size 인수를 사용해 몇 바이트를 읽을것인지 결정)|\n",
        "|readable()|읽기 작업이 가능한 경우 True 반환|\n",
        "|readlines([size])|파일의 매 줄을 모두 읽어 리스트로 반환(size 인수를 사용해 몇 바이트를 읽을 것인지 결정|\n",
        "|write(string)|전달 받은 문자열을 파일에 기록|\n",
        "|writable()|쓰기 작업이 가능한 경우 True를 반환|\n",
        "|writelines(strings)|전달받은 일련의 문자열을 파일에 기록|\n",
        "|close()|파일 핸들을 닫음|\n",
        "|flush()|내부 I/O 버퍼를 디스크로 비움|\n",
        "|seek(pos)|파일 내에 지정한 위치로 이동|\n",
        "|sekkable()|파일 객체가 탐색 및 랜덤 엑세스를 지원하면 True를 반환|\n",
        "|tell()|현재 파일의 위치를 정수 형태로 반환|\n",
        "|closed|파일 핸들이 닫힌 후 True를 반환|\n",
        "|encoding|파일 내 바이트를 유니 코드로 해석하는 데 사용되는 인코딩|\n"
      ],
      "metadata": {
        "id": "qJN1B_S6h3mY"
      }
    },
    {
      "cell_type": "markdown",
      "source": [
        "### 2.3.1 바이트와 유니코드\n",
        "\n",
        "- 읽기/쓰기의 파이썬 파일은 파이썬 문자열을 다루기 위한 텍스트 모드를 기본으로 함.\n",
        "- 파일 모드에 b를 추가해서 쓸 수 있는 이진 모드와는 다름\n",
        "- UTF-8: 가변 길이 유니코드 인코딩\n",
        "- 파일에서 일부 문자를 읽어오도록 한다면 파이썬은 필요한 만큼의 바이트를 파일에서 읽은 다음 10문자로 디코딩\n",
        "- 만약 파일을 rb 모드로 열었다면 read는 딱 10 바이트만 읽어옴\n",
        "- 텍스트 인코딩에 따라 읽어온 바이트를 str 객체로 직접 디코딩이 가능하지만 온전한 유니코드 문자로 인코딩 되어있을 경우에만 가능\n",
        "- open 메서드에 encoding 옵션을 지정한 텍스트 모드에서는 유니코드 인코딩을 다른 인코딩으로 쉽게 변경할 수 있는 방법을 제공\n",
        "- 이진 모드가 아닐 경우 열린 파일에서 seek 메서드를 호출할 때 주의\n",
        "- 유니코드 문자를 정의하는 바이트 사이로파일 위치를 지정하게 되면 뒤이은 읽기에서 오류가 발생\n"
      ],
      "metadata": {
        "id": "yv4z4ZUFwDpH"
      }
    },
    {
      "cell_type": "code",
      "source": [],
      "metadata": {
        "id": "eOr1jQaTf_7q"
      },
      "execution_count": null,
      "outputs": []
    }
  ]
}