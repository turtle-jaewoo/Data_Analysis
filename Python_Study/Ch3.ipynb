{
  "nbformat": 4,
  "nbformat_minor": 0,
  "metadata": {
    "colab": {
      "provenance": [],
      "toc_visible": true,
      "authorship_tag": "ABX9TyPC+xT7mH3/Ls/ufzKNBGi8",
      "include_colab_link": true
    },
    "kernelspec": {
      "name": "python3",
      "display_name": "Python 3"
    },
    "language_info": {
      "name": "python"
    }
  },
  "cells": [
    {
      "cell_type": "markdown",
      "metadata": {
        "id": "view-in-github",
        "colab_type": "text"
      },
      "source": [
        "<a href=\"https://colab.research.google.com/github/turtle-jaewoo/Data_Analysis/blob/main/Ch3.ipynb\" target=\"_parent\"><img src=\"https://colab.research.google.com/assets/colab-badge.svg\" alt=\"Open In Colab\"/></a>"
      ]
    },
    {
      "cell_type": "markdown",
      "source": [
        "# Chpater 3 넘파이 기본: 배열과 벡터 연산\n",
        "\n",
        "- Numpy: Numerical Python의 준말로 산술 계산을 위한 필수 패키지\n",
        "- 넘파이에서 제공하는 기능     \n",
        "  -> 빠른 배열 계산과 유연한 브로드캐스팅 기능을 제공하는 효율적인 다차원 배열인 ndarray    \n",
        "  -> 반복문을 작성할 필요 없이 전체 데이터 배열을 빠르게 계산하는 표준 수학 함수      \n",
        "  -> 배열 데이터를 디스크에 쓰거나 읽을 수 있는 도구와 메모리에 적재된 파일을 다루는 도구      \n",
        "  -> 선형 대수, 난수 생성기, 루리에 변환 기능     \n",
        "  -> C, C++, 포트린으로 작성된 코드를 넘파이와 연결하는 C API\n",
        "- 대부분의 데이터 분석 어플리케이션에서 중요하게 여겨지는 기능     \n",
        "  -> 데이터 먼징, 정제, 부분집합, 필터링, 변형 그리고 다른 종류의 연산을 빠르게 수행하는 배열 기반 작업     \n",
        "  -> 정렬, 유일 원소 찾기, 집합 연산과 같은 일반적인 배열 처리 알고리즘     \n",
        "  -> 효과적인 기술 통계와 데이터의 수집, 요약      \n",
        "  -> 다양한 종류의 데이터를 병합하고 엮기 위한 데이터 정렬과 데이터 간의 관계 조작      \n",
        "  -> if-elif-else를 사용하는 반복문 대신 배열 표현식으로 조건부 로직 표현    \n",
        "  -> 수집, 변형, 함수 적용 같은 그룹별 데이터 조작"
      ],
      "metadata": {
        "id": "YKSw0Xi8k89S"
      }
    },
    {
      "cell_type": "code",
      "execution_count": 1,
      "metadata": {
        "id": "HV0NPkObyBmD",
        "colab": {
          "base_uri": "https://localhost:8080/"
        },
        "outputId": "6445ffe2-c531-47f4-c918-536c8c8decb3"
      },
      "outputs": [
        {
          "output_type": "stream",
          "name": "stdout",
          "text": [
            "1.92 µs ± 574 ns per loop (mean ± std. dev. of 7 runs, 100000 loops each)\n",
            "207 ms ± 59.1 ms per loop (mean ± std. dev. of 7 runs, 10 loops each)\n"
          ]
        }
      ],
      "source": [
        "# 파이썬 리스트와 넘파이 배열의 성능 비교\n",
        "import numpy as np\n",
        "\n",
        "my_arr = np.array(1000000)\n",
        "my_list = list(range(1000000))\n",
        "\n",
        "%timeit my_arr2 = my_arr*2\n",
        "%timeit my_list2 = [x*2 for x in my_list]"
      ]
    },
    {
      "cell_type": "markdown",
      "source": [
        "## 3.1 다차원 배열 객체 ndarray\n",
        "\n",
        "- 넘파이의 핵심 기능: ndarray라고 하는 N차원의 배열 객체\n",
        "- 파이썬에서 사용할 수 있는 대규모 데이터셋을 담을 수 있는 빠르고 유연한 자료구조\n",
        "- 배열을 사용하면 스칼라 원소 간의 연산에 사용하는 문법과 비슷한 방식을 사용해 전체 데이터 블럭에 수학적 연산 수행 가능"
      ],
      "metadata": {
        "id": "bmkjwlYaogoJ"
      }
    },
    {
      "cell_type": "code",
      "source": [
        "data = np.array([[1.5, -0.1, 3], [0, -3, 6.5]])\n",
        "data"
      ],
      "metadata": {
        "colab": {
          "base_uri": "https://localhost:8080/"
        },
        "id": "TIVBSE5in8V9",
        "outputId": "7401a444-2f35-4c2d-fc36-b5929ae094a0"
      },
      "execution_count": 2,
      "outputs": [
        {
          "output_type": "execute_result",
          "data": {
            "text/plain": [
              "array([[ 1.5, -0.1,  3. ],\n",
              "       [ 0. , -3. ,  6.5]])"
            ]
          },
          "metadata": {},
          "execution_count": 2
        }
      ]
    },
    {
      "cell_type": "code",
      "source": [
        "# data 값에 산술 연산을 수행\n",
        "print(data*10)\n",
        "print(data+data)"
      ],
      "metadata": {
        "colab": {
          "base_uri": "https://localhost:8080/"
        },
        "id": "7NGP9VJgpNvS",
        "outputId": "d0d90a56-3bea-4ed0-b0f1-0ccf466d985b"
      },
      "execution_count": 3,
      "outputs": [
        {
          "output_type": "stream",
          "name": "stdout",
          "text": [
            "[[ 15.  -1.  30.]\n",
            " [  0. -30.  65.]]\n",
            "[[ 3.  -0.2  6. ]\n",
            " [ 0.  -6.  13. ]]\n"
          ]
        }
      ]
    },
    {
      "cell_type": "markdown",
      "source": [
        "- ndarray는 같은 종류의 데이터를 담을 수 있는 포괄적인 다차원 배열\n",
        "- 모든 배열은 각 차원의 크기를 알려주는 shape 튜플과 배열에 저장된 자료형을 알려주는 dtype 객체를 가짐"
      ],
      "metadata": {
        "id": "7X84rnsgphP7"
      }
    },
    {
      "cell_type": "code",
      "source": [
        "print(data.shape)\n",
        "print(data.dtype)"
      ],
      "metadata": {
        "colab": {
          "base_uri": "https://localhost:8080/"
        },
        "id": "kMzPbz3gpSii",
        "outputId": "a0bd7ace-7526-497c-d480-6f42bb844514"
      },
      "execution_count": 4,
      "outputs": [
        {
          "output_type": "stream",
          "name": "stdout",
          "text": [
            "(2, 3)\n",
            "float64\n"
          ]
        }
      ]
    },
    {
      "cell_type": "markdown",
      "source": [
        "### 3.1.1 ndarray 생성\n",
        "\n",
        "- 배열을 생성하는 가장 쉬운 방법은 array 함수를 사용하는 것\n",
        "- 순차적인 객체를 받아서 넘겨받은 데이터가 들어있는 새로운 넘파이 배열을 생성"
      ],
      "metadata": {
        "id": "UwdRgw0ZqLOG"
      }
    },
    {
      "cell_type": "code",
      "source": [
        "data1 = [6, 7.5, 8, 0, 1]\n",
        "arr1 = np.array(data1)\n",
        "arr1"
      ],
      "metadata": {
        "colab": {
          "base_uri": "https://localhost:8080/"
        },
        "id": "4whaTR2Bp4lr",
        "outputId": "95037085-dd66-402d-d0f6-453d2f1e53ce"
      },
      "execution_count": 5,
      "outputs": [
        {
          "output_type": "execute_result",
          "data": {
            "text/plain": [
              "array([6. , 7.5, 8. , 0. , 1. ])"
            ]
          },
          "metadata": {},
          "execution_count": 5
        }
      ]
    },
    {
      "cell_type": "code",
      "source": [
        "# 리스트 길이가 동일한 주엋ㅂ된 순차 데이터는 다차원 배열로 변환 가능\n",
        "data2 = [[1,2,3,4], [5,6,7,8]]\n",
        "arr2 = np.array(data2)\n",
        "arr2"
      ],
      "metadata": {
        "colab": {
          "base_uri": "https://localhost:8080/"
        },
        "id": "mUlcwejcqjv8",
        "outputId": "8a499d71-3fbf-4817-eccf-e4a46a164df1"
      },
      "execution_count": 6,
      "outputs": [
        {
          "output_type": "execute_result",
          "data": {
            "text/plain": [
              "array([[1, 2, 3, 4],\n",
              "       [5, 6, 7, 8]])"
            ]
          },
          "metadata": {},
          "execution_count": 6
        }
      ]
    },
    {
      "cell_type": "markdown",
      "source": [
        "- data2는 리스트를 담고 있는 리스트이므로 넘파이 배열인 arr2는 해당 데이터로부터 형태를 추론해 2차원 형태로 출력\n",
        "- ndim과 shape 속성을 검사해서 이를 확인 가능"
      ],
      "metadata": {
        "id": "J-bwrxxdq_Kj"
      }
    },
    {
      "cell_type": "code",
      "source": [
        "print(arr2.ndim)\n",
        "print(arr2.shape)"
      ],
      "metadata": {
        "colab": {
          "base_uri": "https://localhost:8080/"
        },
        "id": "tk2wZ3M1q7IF",
        "outputId": "b5a874db-9b68-4714-c870-c372774b6cbe"
      },
      "execution_count": 7,
      "outputs": [
        {
          "output_type": "stream",
          "name": "stdout",
          "text": [
            "2\n",
            "(2, 4)\n"
          ]
        }
      ]
    },
    {
      "cell_type": "markdown",
      "source": [
        "- 명시적으로 지정하지 않는 한 numpy.array는 생성될 때 적절한 자료형을 추론"
      ],
      "metadata": {
        "id": "0OCAYwYprYRu"
      }
    },
    {
      "cell_type": "code",
      "source": [
        "print(arr1.dtype)\n",
        "print(arr2.dtype)"
      ],
      "metadata": {
        "colab": {
          "base_uri": "https://localhost:8080/"
        },
        "id": "8Otq8_zBrO0E",
        "outputId": "7117bdc1-4b65-4e17-dec4-d24739cbaf08"
      },
      "execution_count": 8,
      "outputs": [
        {
          "output_type": "stream",
          "name": "stdout",
          "text": [
            "float64\n",
            "int64\n"
          ]
        }
      ]
    },
    {
      "cell_type": "markdown",
      "source": [
        "- np.array는 새로운 모양의 배열을 생성하는 여러 함수를 가지고 있음\n",
        "- zeros나 ones는 0과 1로 이루어진 배열을 생성\n",
        "- empty 함수는 초기화 되지 않은 배열을 생성"
      ],
      "metadata": {
        "id": "8FDJuRzQryD6"
      }
    },
    {
      "cell_type": "code",
      "source": [
        "print(np.zeros(10))\n",
        "print(np.zeros((3,6)))\n",
        "print(np.empty((2,3,2)))"
      ],
      "metadata": {
        "colab": {
          "base_uri": "https://localhost:8080/"
        },
        "id": "Vu06MRDfrjL1",
        "outputId": "cd0e7558-7067-4c2e-efbf-39641a4fee46"
      },
      "execution_count": 9,
      "outputs": [
        {
          "output_type": "stream",
          "name": "stdout",
          "text": [
            "[0. 0. 0. 0. 0. 0. 0. 0. 0. 0.]\n",
            "[[0. 0. 0. 0. 0. 0.]\n",
            " [0. 0. 0. 0. 0. 0.]\n",
            " [0. 0. 0. 0. 0. 0.]]\n",
            "[[[6.7674601e-310 0.0000000e+000]\n",
            "  [0.0000000e+000 0.0000000e+000]\n",
            "  [0.0000000e+000 0.0000000e+000]]\n",
            "\n",
            " [[0.0000000e+000 0.0000000e+000]\n",
            "  [0.0000000e+000 0.0000000e+000]\n",
            "  [0.0000000e+000 0.0000000e+000]]]\n"
          ]
        }
      ]
    },
    {
      "cell_type": "markdown",
      "source": [
        "- arange 파이썬의 range 함수의 배열 버전"
      ],
      "metadata": {
        "id": "jAa2pZqGscuq"
      }
    },
    {
      "cell_type": "code",
      "source": [
        "np.arange(15)"
      ],
      "metadata": {
        "colab": {
          "base_uri": "https://localhost:8080/"
        },
        "id": "f16IcLwDsBAA",
        "outputId": "76cc3460-5bed-4397-d940-beb826da39c7"
      },
      "execution_count": 10,
      "outputs": [
        {
          "output_type": "execute_result",
          "data": {
            "text/plain": [
              "array([ 0,  1,  2,  3,  4,  5,  6,  7,  8,  9, 10, 11, 12, 13, 14])"
            ]
          },
          "metadata": {},
          "execution_count": 10
        }
      ]
    },
    {
      "cell_type": "markdown",
      "source": [
        "- 다음 표는 표준 배열 생성 함수 목록     \n",
        "\n",
        "|함수|설명|\n",
        "|------|-------|\n",
        "|array|데이터를 ndarray로 변환하여 dtype을 명시하지 않은 경우 자료형을 추론하여 저장|\n",
        "|asarray|입력 데이터를 ndarray로 변환하지만 입력 데이터가 이미 ndarray일 경우 복사가 일어나지 않음|\n",
        "|arange|내장 range 함수와 유사하지만 리스트 대신 ndarray를 반환|\n",
        "|ones, ones_like|ones는 주어진 dtype과 모양을 가지는 배열을 생성하고 내용을 모두 1로 초기화, ones_like는 주어진 배열과 동일한 모양과 dtype을 갖는 배열을 생성해 내용을 모두 1로 초기화|\n",
        "|zeros, zeros_like|ones, ones_like와 동일하지만 내용을 0으로 채움|\n",
        "|empty, empty_like|메모리를 할당해 새로운 배열을 생성하지만 ones나 zeros처럼 값을 초기화 하진 않음|\n",
        "|full, full_like|인수로 받은 dtype과 배열의 모양을 가지는 배열을 생성하고 인수로 받은 값으로 배열을 채움|\n",
        "|eye, identity|N * N 크기의 단위 행렬을 생성|"
      ],
      "metadata": {
        "id": "ww0lYo4gsoGe"
      }
    },
    {
      "cell_type": "markdown",
      "source": [
        "### 3.1.2 ndarray의 자료형\n",
        "\n",
        "- 자료형은 ndarray가 메모리에 있는 특정 데이터를 해석하는데 필요한 정보를 담고 있는 특수 개체"
      ],
      "metadata": {
        "id": "GQhi2c230dfs"
      }
    },
    {
      "cell_type": "code",
      "source": [
        "arr1 = np.array([1, 2, 3], dtype=np.float64)\n",
        "arr2 = np.array([1, 2, 3], dtype=np.int32)\n",
        "print(arr1.dtype)\n",
        "print(arr2.dtype)"
      ],
      "metadata": {
        "colab": {
          "base_uri": "https://localhost:8080/"
        },
        "id": "N6hcOUuhsjF_",
        "outputId": "94f42ffe-1d79-4181-9f44-5f344c788e9e"
      },
      "execution_count": 11,
      "outputs": [
        {
          "output_type": "stream",
          "name": "stdout",
          "text": [
            "float64\n",
            "int32\n"
          ]
        }
      ]
    },
    {
      "cell_type": "markdown",
      "source": [
        "- 대부분의 경우 디스크에소 읽고 쓰기 편하도록 저수준의 표현에 직접적으로 맞춰져 있어서 C언어나 포틀린 같은 저수준 언어로 작성된 코드와 쉽게 연동 가능\n",
        "- 넘파이가 지원하는 모든 자료형 목록    \n",
        "\n",
        "|자료형|자료형 코드|설명|\n",
        "|-----|-----|-----|\n",
        "|int8, unit8|i1, u1|부호가 있는 8비트(1바이트) 정수형과 부호가 없는 8비트 정수형|\n",
        "|int16, unit16|i2, u2|부호가 있는 16비트 정수형과 부호가 없는 16비트 정수형|\n",
        "|int32, unit32|i4, u4|부호가 있는 32비트 정수형과 부호가 없는 32비트 정수형|\n",
        "|int64, unit64|i8, u8|부호가 있는 64비트 정수형과 부호가 없는 64비트 정수형|\n",
        "|float16|f2|반정밀도 부동소수점|\n",
        "|float32|f4 or f|단정밀도 부동소수점, C언어의 float형과 호환|\n",
        "|float64|f8 or d|배정밀도 부동 소수점, C언어의 double형과 Python의 float 객체와 호환|\n",
        "|float128|f16 or g|확정정밀도 부동소수점|\n",
        "|complex64, complex128, complex256|c8, c16, c32|각각 두 개의 32, 64, 128비트 부동 소수점을 가지는 복소수|\n",
        "|bool|?|True와 False 값을 지정하는 불리언형|\n",
        "|object|0|파이썬의 객체형|\n",
        "|string_|S|고정 길이 아스키 문자열형(각 문자는 1바이트), 길이가 10인 문자열 dtype은 S10이 됨|\n",
        "|unicode_|U|고정 길이 유니코드형(플랫폼별 문자열 바이트 수 상이), string_형과 같은 형식을 사용|"
      ],
      "metadata": {
        "id": "aJQTr69L14fu"
      }
    },
    {
      "cell_type": "markdown",
      "source": [
        "- ndarray의 astype 메서드를 사용해 배열의 dtype을 다른 형으로 명시적으로 뱐환 가능"
      ],
      "metadata": {
        "id": "F7jZ6DLt4q78"
      }
    },
    {
      "cell_type": "code",
      "source": [
        "arr = np.array([1, 2, 3, 4, 5])\n",
        "print(arr.dtype)\n",
        "\n",
        "float_arr = arr.astype(np.float64)\n",
        "print(float_arr)\n",
        "print(float_arr.dtype)"
      ],
      "metadata": {
        "colab": {
          "base_uri": "https://localhost:8080/"
        },
        "id": "0Ffywl7Z1bGX",
        "outputId": "fb1f0ebc-8f01-4e25-a4dd-f45de1f41621"
      },
      "execution_count": 12,
      "outputs": [
        {
          "output_type": "stream",
          "name": "stdout",
          "text": [
            "int64\n",
            "[1. 2. 3. 4. 5.]\n",
            "float64\n"
          ]
        }
      ]
    },
    {
      "cell_type": "markdown",
      "source": [
        "- 부동소수점 -> 정수형 변환 시 소수점 아래는 삭제"
      ],
      "metadata": {
        "id": "Uqo5ggQV5vRh"
      }
    },
    {
      "cell_type": "code",
      "source": [
        "arr = np.array([3.7, -1.2, -2.6, 0.5, 12.9, 10.1])\n",
        "print(arr)\n",
        "arr.astype(np.int32)"
      ],
      "metadata": {
        "colab": {
          "base_uri": "https://localhost:8080/"
        },
        "id": "S_fnl7Wo5GRn",
        "outputId": "7044b832-2951-42ac-af86-d3a589632192"
      },
      "execution_count": 13,
      "outputs": [
        {
          "output_type": "stream",
          "name": "stdout",
          "text": [
            "[ 3.7 -1.2 -2.6  0.5 12.9 10.1]\n"
          ]
        },
        {
          "output_type": "execute_result",
          "data": {
            "text/plain": [
              "array([ 3, -1, -2,  0, 12, 10], dtype=int32)"
            ]
          },
          "metadata": {},
          "execution_count": 13
        }
      ]
    },
    {
      "cell_type": "markdown",
      "source": [
        "- 숫자 형식의 문자열을 담고있는 배열이 있다면 astype으로 숫자로 변환 가능"
      ],
      "metadata": {
        "id": "bamrcpo16ANw"
      }
    },
    {
      "cell_type": "code",
      "source": [
        "numeric_strings = np.array(['1.25', '-9.6', '42'], dtype=np.string_)\n",
        "numeric_strings.astype(float)"
      ],
      "metadata": {
        "colab": {
          "base_uri": "https://localhost:8080/"
        },
        "id": "9PRQ6yRz58xA",
        "outputId": "8208f25e-4ea0-4b82-9e30-4da42d07ca15"
      },
      "execution_count": 14,
      "outputs": [
        {
          "output_type": "execute_result",
          "data": {
            "text/plain": [
              "array([ 1.25, -9.6 , 42.  ])"
            ]
          },
          "metadata": {},
          "execution_count": 14
        }
      ]
    },
    {
      "cell_type": "markdown",
      "source": [
        "- 다른 배열의 dtype 속성을 사용하거나 축약 코드 사용 가능"
      ],
      "metadata": {
        "id": "ITVMY8hL6SgT"
      }
    },
    {
      "cell_type": "code",
      "source": [
        "int_array = np.arange(10)\n",
        "calibers = np.array([.22, .270, .357, .380, .44, .50], dtype=np.float64)\n",
        "int_array.astype(calibers.dtype)"
      ],
      "metadata": {
        "colab": {
          "base_uri": "https://localhost:8080/"
        },
        "id": "w9FsFKm46Ije",
        "outputId": "eb7e8a86-c371-4081-ce07-65ffa698be56"
      },
      "execution_count": 15,
      "outputs": [
        {
          "output_type": "execute_result",
          "data": {
            "text/plain": [
              "array([0., 1., 2., 3., 4., 5., 6., 7., 8., 9.])"
            ]
          },
          "metadata": {},
          "execution_count": 15
        }
      ]
    },
    {
      "cell_type": "code",
      "source": [
        "zeros_unit32 = np.zeros(8, dtype='u4')\n",
        "zeros_unit32"
      ],
      "metadata": {
        "colab": {
          "base_uri": "https://localhost:8080/"
        },
        "id": "gIS3bHF46ueA",
        "outputId": "640495bb-2866-401c-b3d9-f7cc8b326988"
      },
      "execution_count": 16,
      "outputs": [
        {
          "output_type": "execute_result",
          "data": {
            "text/plain": [
              "array([0, 0, 0, 0, 0, 0, 0, 0], dtype=uint32)"
            ]
          },
          "metadata": {},
          "execution_count": 16
        }
      ]
    },
    {
      "cell_type": "markdown",
      "source": [
        "### 3.1.3 넘파이 배열의 산술 연산\n",
        "\n",
        "- 배열은 for문을 사용하지 않고 데이터를 일괄 처리할 수 있음.\n",
        "- 이를 벡터화라고 부르며 크기가 동일한 배열간의 산술 연산은 배열의 각 원소 단위로 적용"
      ],
      "metadata": {
        "id": "flLWmPqA8L-O"
      }
    },
    {
      "cell_type": "code",
      "source": [
        "import numpy as np\n",
        "arr = np.array([[1., 2., 3.], [4., 5., 6.]])\n",
        "print(arr)\n",
        "print(arr*arr)\n",
        "print(arr-arr)"
      ],
      "metadata": {
        "id": "kMWIHQTJ65Uk",
        "colab": {
          "base_uri": "https://localhost:8080/"
        },
        "outputId": "23f21e80-c62e-4ffd-b97d-26abf8939329"
      },
      "execution_count": 17,
      "outputs": [
        {
          "output_type": "stream",
          "name": "stdout",
          "text": [
            "[[1. 2. 3.]\n",
            " [4. 5. 6.]]\n",
            "[[ 1.  4.  9.]\n",
            " [16. 25. 36.]]\n",
            "[[0. 0. 0.]\n",
            " [0. 0. 0.]]\n"
          ]
        }
      ]
    },
    {
      "cell_type": "markdown",
      "source": [
        "- 스칼라 인수가 포함된 산술 연산의 경우 배열 내의 모든 원소에 스칼라 인수가 적용됨"
      ],
      "metadata": {
        "id": "C3fvP6mgy6b6"
      }
    },
    {
      "cell_type": "code",
      "source": [
        "print(1/arr)\n",
        "print(arr**2)"
      ],
      "metadata": {
        "colab": {
          "base_uri": "https://localhost:8080/"
        },
        "id": "eFhEMmxeyWdq",
        "outputId": "5ae6c4be-f64f-4ee3-97ed-edc099119146"
      },
      "execution_count": 18,
      "outputs": [
        {
          "output_type": "stream",
          "name": "stdout",
          "text": [
            "[[1.         0.5        0.33333333]\n",
            " [0.25       0.2        0.16666667]]\n",
            "[[ 1.  4.  9.]\n",
            " [16. 25. 36.]]\n"
          ]
        }
      ]
    },
    {
      "cell_type": "markdown",
      "source": [
        "- 크기가 동일한 배열간의 비교 연산은 불리언 배열을 반환\n",
        "\n",
        "- *크기가 다른 배열간의 연산은 브로드캐스팅(broadcasting)이라 불림"
      ],
      "metadata": {
        "id": "T89zD9d8y98n"
      }
    },
    {
      "cell_type": "code",
      "source": [
        "arr2 = np.array([[0., 4., 1.], [7., 2., 12.]])\n",
        "print(arr2)\n",
        "arr2>arr"
      ],
      "metadata": {
        "colab": {
          "base_uri": "https://localhost:8080/"
        },
        "id": "Q_PbnZbQyg6a",
        "outputId": "7dd31287-8b49-4af0-e8bf-fdc6cbe5e23d"
      },
      "execution_count": 19,
      "outputs": [
        {
          "output_type": "stream",
          "name": "stdout",
          "text": [
            "[[ 0.  4.  1.]\n",
            " [ 7.  2. 12.]]\n"
          ]
        },
        {
          "output_type": "execute_result",
          "data": {
            "text/plain": [
              "array([[False,  True, False],\n",
              "       [ True, False,  True]])"
            ]
          },
          "metadata": {},
          "execution_count": 19
        }
      ]
    },
    {
      "cell_type": "markdown",
      "source": [
        "### 3.1.4 색인과 슬라이싱 기초\n",
        "\n",
        "- 데이터의 부분집합이나 개별 원소를 선택하는 수 많은 방법이 존재\n",
        "- 1차원 배열은 표면적으로 파이썬의 리스트와 유사하게 작동"
      ],
      "metadata": {
        "id": "E4kF8TFazcwF"
      }
    },
    {
      "cell_type": "code",
      "source": [
        "arr = np.arange(10)\n",
        "print(arr)\n",
        "print(arr[5])\n",
        "print(arr[5:8])\n",
        "arr[5:8] = 12\n",
        "# arr[5:8] = 12로 배열 슬라이스에 스칼라 값을 대입하여 12가 선택 영역 전체로 전파됨\n",
        "print(arr)"
      ],
      "metadata": {
        "colab": {
          "base_uri": "https://localhost:8080/"
        },
        "id": "K8YFbTYHzK98",
        "outputId": "8ff44116-79a1-462f-b19d-b29589f399ef"
      },
      "execution_count": 20,
      "outputs": [
        {
          "output_type": "stream",
          "name": "stdout",
          "text": [
            "[0 1 2 3 4 5 6 7 8 9]\n",
            "5\n",
            "[5 6 7]\n",
            "[ 0  1  2  3  4 12 12 12  8  9]\n"
          ]
        }
      ]
    },
    {
      "cell_type": "code",
      "source": [
        "arr_slice = arr[5:8]\n",
        "print(arr_slice)"
      ],
      "metadata": {
        "colab": {
          "base_uri": "https://localhost:8080/"
        },
        "id": "-Elt8y6Kzw7-",
        "outputId": "cfcfe55f-8b0c-484f-b794-c09a2fc990fc"
      },
      "execution_count": 21,
      "outputs": [
        {
          "output_type": "stream",
          "name": "stdout",
          "text": [
            "[12 12 12]\n"
          ]
        }
      ]
    },
    {
      "cell_type": "markdown",
      "source": [
        "- arr_slice의 값을 변경하면 원래 배열인 arr의 값도 바뀜"
      ],
      "metadata": {
        "id": "l7zennEz0VXF"
      }
    },
    {
      "cell_type": "code",
      "source": [
        "arr_slice[1] = 12345\n",
        "print(arr)"
      ],
      "metadata": {
        "colab": {
          "base_uri": "https://localhost:8080/"
        },
        "id": "VnRegE1i0Sjp",
        "outputId": "69b99cd7-ea90-4e57-e57c-6818f38d0cc3"
      },
      "execution_count": 22,
      "outputs": [
        {
          "output_type": "stream",
          "name": "stdout",
          "text": [
            "[    0     1     2     3     4    12 12345    12     8     9]\n"
          ]
        }
      ]
    },
    {
      "cell_type": "markdown",
      "source": [
        "- 단순히 [:]로 슬라이스하면 배열의 모든 값에 할당됨"
      ],
      "metadata": {
        "id": "GYQrSL2Y0pDS"
      }
    },
    {
      "cell_type": "code",
      "source": [
        "arr_slice[:] = 64\n",
        "print(arr)"
      ],
      "metadata": {
        "colab": {
          "base_uri": "https://localhost:8080/"
        },
        "id": "Q-bEM_7D0ddM",
        "outputId": "4d000303-5357-4f6c-f3ea-716d5f7ffab2"
      },
      "execution_count": 23,
      "outputs": [
        {
          "output_type": "stream",
          "name": "stdout",
          "text": [
            "[ 0  1  2  3  4 64 64 64  8  9]\n"
          ]
        }
      ]
    },
    {
      "cell_type": "markdown",
      "source": [
        "- 2차원 배열에서 각 색인에 해당하는 원소는 스칼라 값이 아닌 1차원 배열\n",
        "- 따라서 개별 원소는 재귀적으로 접근 -> 매우 귀찮은 작업이므로 쉼표로 구분된 리스트를 넘김"
      ],
      "metadata": {
        "id": "2MQrlXJ701Hb"
      }
    },
    {
      "cell_type": "code",
      "source": [
        "arr2d = np.array([[1, 2, 3], [4, 5, 6], [7, 8, 9]])\n",
        "print(arr2d[2])\n",
        "# 다음 두 표현은 동일\n",
        "print(arr2d[0][2])\n",
        "print(arr2d[0, 2])"
      ],
      "metadata": {
        "colab": {
          "base_uri": "https://localhost:8080/"
        },
        "id": "w1qA38h-0xN5",
        "outputId": "561a7720-eba2-4d2c-b0ef-11fd290f0b42"
      },
      "execution_count": 24,
      "outputs": [
        {
          "output_type": "stream",
          "name": "stdout",
          "text": [
            "[7 8 9]\n",
            "3\n",
            "3\n"
          ]
        }
      ]
    },
    {
      "cell_type": "markdown",
      "source": [
        "- 다차원 배열에서 마지막 색인을 생략하면 반환되는 객체는 상위 차원의 데이터를 모두 포함한 한 차원 낮은 ndarray가 반환"
      ],
      "metadata": {
        "id": "OHYwwE_i1jFx"
      }
    },
    {
      "cell_type": "code",
      "source": [
        "arr3d = np.array([[[1, 2, 3], [4, 5, 6]], [[7, 8, 9], [10, 11, 12]]])\n",
        "print(arr3d)\n",
        "print('array of size 2*3: ')\n",
        "arr3d[0]"
      ],
      "metadata": {
        "colab": {
          "base_uri": "https://localhost:8080/"
        },
        "id": "3O4B3K8X1T3x",
        "outputId": "46bc88e6-81b5-4521-a6d4-a969af4b4b2e"
      },
      "execution_count": 25,
      "outputs": [
        {
          "output_type": "stream",
          "name": "stdout",
          "text": [
            "[[[ 1  2  3]\n",
            "  [ 4  5  6]]\n",
            "\n",
            " [[ 7  8  9]\n",
            "  [10 11 12]]]\n",
            "array of size 2*3: \n"
          ]
        },
        {
          "output_type": "execute_result",
          "data": {
            "text/plain": [
              "array([[1, 2, 3],\n",
              "       [4, 5, 6]])"
            ]
          },
          "metadata": {},
          "execution_count": 25
        }
      ]
    },
    {
      "cell_type": "code",
      "source": [
        "#arr3d[0]에는 스칼라 값과 배열 모두 할당 가능\n",
        "old_values = arr3d[0].copy()\n",
        "arr3d[0] = 42\n",
        "print(arr3d)\n",
        "arr3d[0] = old_values\n",
        "print(arr3d)"
      ],
      "metadata": {
        "colab": {
          "base_uri": "https://localhost:8080/"
        },
        "id": "1uiRmu4v16Rn",
        "outputId": "778165e5-0e8b-430b-af98-51d58ba882ee"
      },
      "execution_count": 26,
      "outputs": [
        {
          "output_type": "stream",
          "name": "stdout",
          "text": [
            "[[[42 42 42]\n",
            "  [42 42 42]]\n",
            "\n",
            " [[ 7  8  9]\n",
            "  [10 11 12]]]\n",
            "[[[ 1  2  3]\n",
            "  [ 4  5  6]]\n",
            "\n",
            " [[ 7  8  9]\n",
            "  [10 11 12]]]\n"
          ]
        }
      ]
    },
    {
      "cell_type": "markdown",
      "source": [
        "- arr3d[1, 0]은 (1, 0)으로 색인되는 1차원 배열과 그 값을 반환"
      ],
      "metadata": {
        "id": "pxsW-ADd26Lu"
      }
    },
    {
      "cell_type": "code",
      "source": [
        "arr3d[1, 0]"
      ],
      "metadata": {
        "colab": {
          "base_uri": "https://localhost:8080/"
        },
        "id": "1J4pksTm2tcM",
        "outputId": "be001095-7b93-4359-df4f-f7e6e292ff84"
      },
      "execution_count": 27,
      "outputs": [
        {
          "output_type": "execute_result",
          "data": {
            "text/plain": [
              "array([7, 8, 9])"
            ]
          },
          "metadata": {},
          "execution_count": 27
        }
      ]
    },
    {
      "cell_type": "code",
      "source": [
        "# 다음 표현은 두번에 걸쳐 인덱싱한 결과와 동일\n",
        "x = arr3d[1]\n",
        "print(x)\n",
        "x[0]"
      ],
      "metadata": {
        "colab": {
          "base_uri": "https://localhost:8080/"
        },
        "id": "eK8PYcES3DcZ",
        "outputId": "2bcbe722-26b7-4eb0-be25-5d59ba804bf7"
      },
      "execution_count": 28,
      "outputs": [
        {
          "output_type": "stream",
          "name": "stdout",
          "text": [
            "[[ 7  8  9]\n",
            " [10 11 12]]\n"
          ]
        },
        {
          "output_type": "execute_result",
          "data": {
            "text/plain": [
              "array([7, 8, 9])"
            ]
          },
          "metadata": {},
          "execution_count": 28
        }
      ]
    },
    {
      "cell_type": "markdown",
      "source": [
        "#### 슬라이스로 선택하기\n",
        "\n",
        "- 파이썬의 리스트 같은 1차원 객체처럼 ndarray도 익숙한 문법으로 슬라이싱 가능"
      ],
      "metadata": {
        "id": "jKKN0MUD3YmF"
      }
    },
    {
      "cell_type": "code",
      "source": [
        "print(arr)\n",
        "print(arr[1:6])"
      ],
      "metadata": {
        "colab": {
          "base_uri": "https://localhost:8080/"
        },
        "id": "MSil7vf03Szx",
        "outputId": "a9194e86-9671-4b32-b40b-191aecedd56c"
      },
      "execution_count": 29,
      "outputs": [
        {
          "output_type": "stream",
          "name": "stdout",
          "text": [
            "[ 0  1  2  3  4 64 64 64  8  9]\n",
            "[ 1  2  3  4 64]\n"
          ]
        }
      ]
    },
    {
      "cell_type": "markdown",
      "source": [
        "- 2차원 배열의 슬라이싱 방식이 다름"
      ],
      "metadata": {
        "id": "vRMICwkj5CAo"
      }
    },
    {
      "cell_type": "code",
      "source": [
        "print(arr2d)\n",
        "print(arr2d[:2])"
      ],
      "metadata": {
        "colab": {
          "base_uri": "https://localhost:8080/"
        },
        "id": "SLW11WPY4_sR",
        "outputId": "b0471cf5-0096-4359-e366-03602abae892"
      },
      "execution_count": 30,
      "outputs": [
        {
          "output_type": "stream",
          "name": "stdout",
          "text": [
            "[[1 2 3]\n",
            " [4 5 6]\n",
            " [7 8 9]]\n",
            "[[1 2 3]\n",
            " [4 5 6]]\n"
          ]
        }
      ]
    },
    {
      "cell_type": "markdown",
      "source": [
        "- 첫 번째 축인 0번축을 기준으로 슬라이싱됨\n",
        "- 슬라이스는 축을 따라 선택 영역 내의 원소를 선택\n",
        "- arr2d[:2]는 시작부터 두 번째 행까지 선택\n",
        "- 색인을 여러 개 넘겨서 다차원을 슬라이싱할 수 있음"
      ],
      "metadata": {
        "id": "vSOnOPRu5tIn"
      }
    },
    {
      "cell_type": "code",
      "source": [
        "arr2d[:2, 1:]"
      ],
      "metadata": {
        "colab": {
          "base_uri": "https://localhost:8080/"
        },
        "id": "R4nNjge95Mti",
        "outputId": "3e0a305d-495d-4e6b-c7b4-43d22aa662fa"
      },
      "execution_count": 31,
      "outputs": [
        {
          "output_type": "execute_result",
          "data": {
            "text/plain": [
              "array([[2, 3],\n",
              "       [5, 6]])"
            ]
          },
          "metadata": {},
          "execution_count": 31
        }
      ]
    },
    {
      "cell_type": "markdown",
      "source": [
        "- 해당 방식으로 항상 동일한 차원의 배열뷰를 얻을 수 있음\n",
        "- 정수 색인과 슬라이스를 함께 사용하면 한 차원 낮은 슬라이스를 얻을 수 있음"
      ],
      "metadata": {
        "id": "xjcSM3WN6J4W"
      }
    },
    {
      "cell_type": "code",
      "source": [
        "lower_dim_slice = arr2d[1, :2]\n",
        "print(lower_dim_slice)\n",
        "lower_dim_slice.shape"
      ],
      "metadata": {
        "colab": {
          "base_uri": "https://localhost:8080/"
        },
        "id": "hxDj5vHY6DSD",
        "outputId": "d64ced4c-9906-4508-a9dd-a64af408d9cf"
      },
      "execution_count": 32,
      "outputs": [
        {
          "output_type": "stream",
          "name": "stdout",
          "text": [
            "[4 5]\n"
          ]
        },
        {
          "output_type": "execute_result",
          "data": {
            "text/plain": [
              "(2,)"
            ]
          },
          "metadata": {},
          "execution_count": 32
        }
      ]
    },
    {
      "cell_type": "markdown",
      "source": [
        "- 열만 사용하면 전체 축을 선택한다는 의미이기 때문에 원래 차원의 슬라이스를 얻음"
      ],
      "metadata": {
        "id": "yn_uqgnX61bW"
      }
    },
    {
      "cell_type": "code",
      "source": [
        "arr2d[:, :1]"
      ],
      "metadata": {
        "colab": {
          "base_uri": "https://localhost:8080/"
        },
        "id": "Jg90RtJQ6bPS",
        "outputId": "a7c18c73-e352-4213-8463-280796c5e7cf"
      },
      "execution_count": 33,
      "outputs": [
        {
          "output_type": "execute_result",
          "data": {
            "text/plain": [
              "array([[1],\n",
              "       [4],\n",
              "       [7]])"
            ]
          },
          "metadata": {},
          "execution_count": 33
        }
      ]
    },
    {
      "cell_type": "markdown",
      "source": [
        "- 슬라이싱 구문에 값을 대입하면 선택 영역 전체에 값이 할당됨"
      ],
      "metadata": {
        "id": "STe2G-G46_i-"
      }
    },
    {
      "cell_type": "code",
      "source": [
        "arr2d[:2, 1:] = 0\n",
        "arr2d"
      ],
      "metadata": {
        "colab": {
          "base_uri": "https://localhost:8080/"
        },
        "id": "5hp8fx2_69Ws",
        "outputId": "6e7a29d5-75b4-4328-c88f-ca7976112c9a"
      },
      "execution_count": 34,
      "outputs": [
        {
          "output_type": "execute_result",
          "data": {
            "text/plain": [
              "array([[1, 0, 0],\n",
              "       [4, 0, 0],\n",
              "       [7, 8, 9]])"
            ]
          },
          "metadata": {},
          "execution_count": 34
        }
      ]
    },
    {
      "cell_type": "markdown",
      "source": [
        "### 3.1.5 불리언 값으로 선택하기"
      ],
      "metadata": {
        "id": "tM6jzFMc7dp9"
      }
    },
    {
      "cell_type": "markdown",
      "source": [
        "- 다음과 같이 데이터를 가진 배열이 있고 이름이 중복된 배열이 있다고 가정"
      ],
      "metadata": {
        "id": "R0q99AHc70X9"
      }
    },
    {
      "cell_type": "code",
      "source": [
        "names = np.array(['Bob', 'Joe', 'Will', 'Bob', 'Will', 'Joe', 'Joe'])\n",
        "data = np.array([[4, 7], [0, 2], [-5, 6], [0, 0], [1, 2], [-12, -4], [3, 4]])\n",
        "print(names)\n",
        "print(data)"
      ],
      "metadata": {
        "colab": {
          "base_uri": "https://localhost:8080/"
        },
        "id": "RHmDG4qf7IRO",
        "outputId": "36119cb9-5ae4-4ed0-b1c5-75773ad3bbfa"
      },
      "execution_count": 35,
      "outputs": [
        {
          "output_type": "stream",
          "name": "stdout",
          "text": [
            "['Bob' 'Joe' 'Will' 'Bob' 'Will' 'Joe' 'Joe']\n",
            "[[  4   7]\n",
            " [  0   2]\n",
            " [ -5   6]\n",
            " [  0   0]\n",
            " [  1   2]\n",
            " [-12  -4]\n",
            " [  3   4]]\n"
          ]
        }
      ]
    },
    {
      "cell_type": "markdown",
      "source": [
        "- 각 이름은 data 배열의 각 행에 대응된다고 가정\n",
        "- 전체 행에서 \"Bob\"과 동일한 이름을 선택하려면 산술 연산과 마찬가지로 배열에 대한 비교 연산도 벡터화됨\n",
        "- names를 \"Bob\" 문자열과 비교하면 불리언 배열이 반환"
      ],
      "metadata": {
        "id": "ZqQOGabQ78cT"
      }
    },
    {
      "cell_type": "code",
      "source": [
        "names == \"Bob\""
      ],
      "metadata": {
        "colab": {
          "base_uri": "https://localhost:8080/"
        },
        "id": "Gul2_Y0h7wpL",
        "outputId": "dc88d183-4b02-4aa8-d656-35b9366cd33e"
      },
      "execution_count": 36,
      "outputs": [
        {
          "output_type": "execute_result",
          "data": {
            "text/plain": [
              "array([ True, False, False,  True, False, False, False])"
            ]
          },
          "metadata": {},
          "execution_count": 36
        }
      ]
    },
    {
      "cell_type": "markdown",
      "source": [
        "- 불리언 배열은 배열의 색인으로 사용할 수 있음"
      ],
      "metadata": {
        "id": "l_dqfZHG8xZh"
      }
    },
    {
      "cell_type": "code",
      "source": [
        "data[names == \"Bob\"]"
      ],
      "metadata": {
        "colab": {
          "base_uri": "https://localhost:8080/"
        },
        "id": "rgK4_xAU8O-i",
        "outputId": "1bdc657c-2d10-4cd6-93c5-f9e01b5dfbfc"
      },
      "execution_count": 37,
      "outputs": [
        {
          "output_type": "execute_result",
          "data": {
            "text/plain": [
              "array([[4, 7],\n",
              "       [0, 0]])"
            ]
          },
          "metadata": {},
          "execution_count": 37
        }
      ]
    },
    {
      "cell_type": "markdown",
      "source": [
        "- 불리언 배열은 반드시 색인하려는 축의 길이와 길이가 동일해야함\n",
        "- 불리언 배열을 슬라이스나 정수를 선택하는데 짜 맞출 수 있음"
      ],
      "metadata": {
        "id": "FTzJQtII86RQ"
      }
    },
    {
      "cell_type": "code",
      "source": [
        "# names == \"Bob\" 행에서 색인과 열을 함께 선택\n",
        "data[names==\"Bob\", 1:]"
      ],
      "metadata": {
        "colab": {
          "base_uri": "https://localhost:8080/"
        },
        "id": "5Fzpy1Nt821Z",
        "outputId": "77bda1b6-413f-4194-f831-18a7ebbd0d41"
      },
      "execution_count": 38,
      "outputs": [
        {
          "output_type": "execute_result",
          "data": {
            "text/plain": [
              "array([[7],\n",
              "       [0]])"
            ]
          },
          "metadata": {},
          "execution_count": 38
        }
      ]
    },
    {
      "cell_type": "code",
      "source": [
        "data[names==\"Bob\", 1]"
      ],
      "metadata": {
        "colab": {
          "base_uri": "https://localhost:8080/"
        },
        "id": "1Tl7vGlH9LmV",
        "outputId": "02e84389-7078-4d1b-85d6-66b8a7741a1a"
      },
      "execution_count": 39,
      "outputs": [
        {
          "output_type": "execute_result",
          "data": {
            "text/plain": [
              "array([7, 0])"
            ]
          },
          "metadata": {},
          "execution_count": 39
        }
      ]
    },
    {
      "cell_type": "markdown",
      "source": [
        "- \"Bob\"이 아닌 항목을 모두 선택하려면 != 연산자나 ~를 사용해서 조건부로 부인"
      ],
      "metadata": {
        "id": "AJ2HoWtC9Uph"
      }
    },
    {
      "cell_type": "code",
      "source": [
        "names != \"Bob\""
      ],
      "metadata": {
        "colab": {
          "base_uri": "https://localhost:8080/"
        },
        "id": "KX0fNCX59QvE",
        "outputId": "279387cd-7135-4588-8995-5bd1bf946467"
      },
      "execution_count": 40,
      "outputs": [
        {
          "output_type": "execute_result",
          "data": {
            "text/plain": [
              "array([False,  True,  True, False,  True,  True,  True])"
            ]
          },
          "metadata": {},
          "execution_count": 40
        }
      ]
    },
    {
      "cell_type": "code",
      "source": [
        "~(names == \"Bob\")"
      ],
      "metadata": {
        "colab": {
          "base_uri": "https://localhost:8080/"
        },
        "id": "OIEn_Qxa9gHx",
        "outputId": "bf20a8e5-6434-4b11-aa27-1c0670c5fe92"
      },
      "execution_count": 41,
      "outputs": [
        {
          "output_type": "execute_result",
          "data": {
            "text/plain": [
              "array([False,  True,  True, False,  True,  True,  True])"
            ]
          },
          "metadata": {},
          "execution_count": 41
        }
      ]
    },
    {
      "cell_type": "code",
      "source": [
        "data[~(names == \"Bob\")]"
      ],
      "metadata": {
        "colab": {
          "base_uri": "https://localhost:8080/"
        },
        "id": "Od084qtr9jA5",
        "outputId": "b9576cce-b779-429c-f3e9-f5cd43d1dc42"
      },
      "execution_count": 42,
      "outputs": [
        {
          "output_type": "execute_result",
          "data": {
            "text/plain": [
              "array([[  0,   2],\n",
              "       [ -5,   6],\n",
              "       [  1,   2],\n",
              "       [-12,  -4],\n",
              "       [  3,   4]])"
            ]
          },
          "metadata": {},
          "execution_count": 42
        }
      ]
    },
    {
      "cell_type": "markdown",
      "source": [
        "- ~ 연산자는 변수가 참조하는 불리언 배열을 뒤집고 싶을 때 유용"
      ],
      "metadata": {
        "id": "Iv-H8D189pqR"
      }
    },
    {
      "cell_type": "code",
      "source": [
        "cond = names == \"Bob\"\n",
        "data[~cond]"
      ],
      "metadata": {
        "colab": {
          "base_uri": "https://localhost:8080/"
        },
        "id": "8gCd41Vm9nxn",
        "outputId": "d4ad19c7-24e3-4cfe-f034-c2e174239f09"
      },
      "execution_count": 43,
      "outputs": [
        {
          "output_type": "execute_result",
          "data": {
            "text/plain": [
              "array([[  0,   2],\n",
              "       [ -5,   6],\n",
              "       [  1,   2],\n",
              "       [-12,  -4],\n",
              "       [  3,   4]])"
            ]
          },
          "metadata": {},
          "execution_count": 43
        }
      ]
    },
    {
      "cell_type": "markdown",
      "source": [
        "- 세 가지 이름 중에서 두 가지의 이름을 선택하려면 &와 | 같은 논리 연산자를 사용해 여러개의 불리언 조건을 사용하면 됨"
      ],
      "metadata": {
        "id": "SPbkN6Ym-TkU"
      }
    },
    {
      "cell_type": "code",
      "source": [
        "mask = (names == \"Bob\") | (names ==\"Will\")\n",
        "print(mask)\n",
        "data[mask]"
      ],
      "metadata": {
        "colab": {
          "base_uri": "https://localhost:8080/"
        },
        "id": "fMRP5UUy9wwb",
        "outputId": "e4d172ca-fc82-4a97-b429-f3f8ab5b26e2"
      },
      "execution_count": 44,
      "outputs": [
        {
          "output_type": "stream",
          "name": "stdout",
          "text": [
            "[ True False  True  True  True False False]\n"
          ]
        },
        {
          "output_type": "execute_result",
          "data": {
            "text/plain": [
              "array([[ 4,  7],\n",
              "       [-5,  6],\n",
              "       [ 0,  0],\n",
              "       [ 1,  2]])"
            ]
          },
          "metadata": {},
          "execution_count": 44
        }
      ]
    },
    {
      "cell_type": "markdown",
      "source": [
        "- 불리언 색인을 이용하여 배열의 데이터를 선택하면 반환되는 배열의 내용이 바뀌지 않더라도 항상 데이터 복사가 발생함.\n",
        "- 불리언 배열에 값을 대입하면 오른쪽에 있는 값을 불리언 배열의 값이 True인 위치로 대체하여 작동\n",
        "- data에 저장된 모든 음수를 0으로 대입하려면 아래와 같이 수행"
      ],
      "metadata": {
        "id": "iH_T-E0o_u6Z"
      }
    },
    {
      "cell_type": "code",
      "source": [
        "data[data<0] = 0\n",
        "data"
      ],
      "metadata": {
        "colab": {
          "base_uri": "https://localhost:8080/"
        },
        "id": "RNLJedgH-gzd",
        "outputId": "379ebc08-ac8d-476a-f291-9d5700e824c1"
      },
      "execution_count": 45,
      "outputs": [
        {
          "output_type": "execute_result",
          "data": {
            "text/plain": [
              "array([[4, 7],\n",
              "       [0, 2],\n",
              "       [0, 6],\n",
              "       [0, 0],\n",
              "       [1, 2],\n",
              "       [0, 0],\n",
              "       [3, 4]])"
            ]
          },
          "metadata": {},
          "execution_count": 45
        }
      ]
    },
    {
      "cell_type": "markdown",
      "source": [
        "- 1차원 불리언 배열을 사용해 전체 행이나 열의 값을 대입할 수 있음"
      ],
      "metadata": {
        "id": "euge1-gCAJuK"
      }
    },
    {
      "cell_type": "code",
      "source": [
        "data[names != \"Joe\"] = 7\n",
        "data"
      ],
      "metadata": {
        "colab": {
          "base_uri": "https://localhost:8080/"
        },
        "id": "rH4TitgZAGa9",
        "outputId": "cded77cf-0587-4fee-8e02-8dd7911b8b21"
      },
      "execution_count": 46,
      "outputs": [
        {
          "output_type": "execute_result",
          "data": {
            "text/plain": [
              "array([[7, 7],\n",
              "       [0, 2],\n",
              "       [7, 7],\n",
              "       [7, 7],\n",
              "       [7, 7],\n",
              "       [0, 0],\n",
              "       [3, 4]])"
            ]
          },
          "metadata": {},
          "execution_count": 46
        }
      ]
    },
    {
      "cell_type": "markdown",
      "source": [
        "### 3.1.6 팬시 색인\n",
        "\n",
        "- 팬시 색인은 정수 배열을 사용한 색인을 설명하기 위해 넘파이에서 차용한 단어"
      ],
      "metadata": {
        "id": "Vbn6GTEgAXXj"
      }
    },
    {
      "cell_type": "code",
      "source": [
        "# 8*4 크기의 배열\n",
        "\n",
        "arr = np.zeros((8, 4))\n",
        "\n",
        "for i in range(8):\n",
        "  arr[i] = i\n",
        "\n",
        "arr"
      ],
      "metadata": {
        "colab": {
          "base_uri": "https://localhost:8080/"
        },
        "id": "Zjd8fcheARMX",
        "outputId": "4e94ac53-0480-4d4e-f28c-abdfae143958"
      },
      "execution_count": 47,
      "outputs": [
        {
          "output_type": "execute_result",
          "data": {
            "text/plain": [
              "array([[0., 0., 0., 0.],\n",
              "       [1., 1., 1., 1.],\n",
              "       [2., 2., 2., 2.],\n",
              "       [3., 3., 3., 3.],\n",
              "       [4., 4., 4., 4.],\n",
              "       [5., 5., 5., 5.],\n",
              "       [6., 6., 6., 6.],\n",
              "       [7., 7., 7., 7.]])"
            ]
          },
          "metadata": {},
          "execution_count": 47
        }
      ]
    },
    {
      "cell_type": "markdown",
      "source": [
        "- 특정 순서로 행의 하위 집합을 선택하고 싶다면 원하는 순서가 명시된 정수가 담긴 ndarray나 리스트를 넘기면 됨"
      ],
      "metadata": {
        "id": "JmD2Yo1xAxP4"
      }
    },
    {
      "cell_type": "code",
      "source": [
        "arr[[4, 3, 0, 6]]"
      ],
      "metadata": {
        "colab": {
          "base_uri": "https://localhost:8080/"
        },
        "id": "qUJ6XYLHAr-O",
        "outputId": "04cf8968-7e1c-4871-d3d4-d8805a5b2a38"
      },
      "execution_count": 48,
      "outputs": [
        {
          "output_type": "execute_result",
          "data": {
            "text/plain": [
              "array([[4., 4., 4., 4.],\n",
              "       [3., 3., 3., 3.],\n",
              "       [0., 0., 0., 0.],\n",
              "       [6., 6., 6., 6.]])"
            ]
          },
          "metadata": {},
          "execution_count": 48
        }
      ]
    },
    {
      "cell_type": "markdown",
      "source": [
        "- 색인으로 음수를 선택하면 끝에서부터 행을 선택함"
      ],
      "metadata": {
        "id": "RGPblPHaA_V1"
      }
    },
    {
      "cell_type": "code",
      "source": [
        "arr[[-3, -5, -7]]"
      ],
      "metadata": {
        "id": "tmPHLlauA6qQ",
        "colab": {
          "base_uri": "https://localhost:8080/"
        },
        "outputId": "892d93eb-cc58-4e44-9223-55fc70ebd12b"
      },
      "execution_count": 49,
      "outputs": [
        {
          "output_type": "execute_result",
          "data": {
            "text/plain": [
              "array([[5., 5., 5., 5.],\n",
              "       [3., 3., 3., 3.],\n",
              "       [1., 1., 1., 1.]])"
            ]
          },
          "metadata": {},
          "execution_count": 49
        }
      ]
    },
    {
      "cell_type": "markdown",
      "source": [
        "- 다차원 색인 배열을 넘기면 각 색인 튜플에 대응하는 1차원 배열이 선택됨."
      ],
      "metadata": {
        "id": "GImNG2Su3Zgj"
      }
    },
    {
      "cell_type": "code",
      "source": [
        "arr = np.arange(32).reshape((8, 4))\n",
        "print(arr)\n",
        "arr[[1, 5, 7, 2], [0, 3, 1, 2]]"
      ],
      "metadata": {
        "colab": {
          "base_uri": "https://localhost:8080/"
        },
        "id": "KRfZWupf3OVJ",
        "outputId": "52d8b43a-224e-42bf-b42e-a8ba9ae932c0"
      },
      "execution_count": 50,
      "outputs": [
        {
          "output_type": "stream",
          "name": "stdout",
          "text": [
            "[[ 0  1  2  3]\n",
            " [ 4  5  6  7]\n",
            " [ 8  9 10 11]\n",
            " [12 13 14 15]\n",
            " [16 17 18 19]\n",
            " [20 21 22 23]\n",
            " [24 25 26 27]\n",
            " [28 29 30 31]]\n"
          ]
        },
        {
          "output_type": "execute_result",
          "data": {
            "text/plain": [
              "array([ 4, 23, 29, 10])"
            ]
          },
          "metadata": {},
          "execution_count": 50
        }
      ]
    },
    {
      "cell_type": "markdown",
      "source": [
        "- 결과를 보면 (1, 0), (5, 3), (7, 1), (2, 2)에 대응하는 원소가 선택됨.\n",
        "- 배열이 몇차원이든 팬시 색인의 결과는 1차원"
      ],
      "metadata": {
        "id": "AfSrXoTc3tMo"
      }
    },
    {
      "cell_type": "markdown",
      "source": [
        "- 행렬의 행과 열에 대응하는 사각형 모양의 값을 선택"
      ],
      "metadata": {
        "id": "UfjEY4bB4SBY"
      }
    },
    {
      "cell_type": "code",
      "source": [
        "arr[[1, 5, 7, 2]][:, [0, 3, 1, 2]]"
      ],
      "metadata": {
        "colab": {
          "base_uri": "https://localhost:8080/"
        },
        "id": "UN15AaR_3jlt",
        "outputId": "a2e921cf-1f81-4c3a-a6db-0900a3a185a2"
      },
      "execution_count": 51,
      "outputs": [
        {
          "output_type": "execute_result",
          "data": {
            "text/plain": [
              "array([[ 4,  7,  5,  6],\n",
              "       [20, 23, 21, 22],\n",
              "       [28, 31, 29, 30],\n",
              "       [ 8, 11,  9, 10]])"
            ]
          },
          "metadata": {},
          "execution_count": 51
        }
      ]
    },
    {
      "cell_type": "markdown",
      "source": [
        "- 팬시 색인은 슬라이싱과 달리 선택된 데이터를 새로운 배열로 복사\n",
        "- 팬시 색인으로 값을 대입하면 색인된 값이 변경"
      ],
      "metadata": {
        "id": "TofdRd7R4dQN"
      }
    },
    {
      "cell_type": "code",
      "source": [
        "print(arr[[1, 5, 7, 2], [0, 3, 1, 2]])\n",
        "arr[[1, 5, 7, 2], [0, 3, 1, 2]] = 0\n",
        "arr"
      ],
      "metadata": {
        "colab": {
          "base_uri": "https://localhost:8080/"
        },
        "id": "4vbwHQCA4HDZ",
        "outputId": "5faafe15-c9a7-49d4-942f-947a0c25ce46"
      },
      "execution_count": 52,
      "outputs": [
        {
          "output_type": "stream",
          "name": "stdout",
          "text": [
            "[ 4 23 29 10]\n"
          ]
        },
        {
          "output_type": "execute_result",
          "data": {
            "text/plain": [
              "array([[ 0,  1,  2,  3],\n",
              "       [ 0,  5,  6,  7],\n",
              "       [ 8,  9,  0, 11],\n",
              "       [12, 13, 14, 15],\n",
              "       [16, 17, 18, 19],\n",
              "       [20, 21, 22,  0],\n",
              "       [24, 25, 26, 27],\n",
              "       [28,  0, 30, 31]])"
            ]
          },
          "metadata": {},
          "execution_count": 52
        }
      ]
    },
    {
      "cell_type": "markdown",
      "source": [
        "### 3.1.7 배열 전치와 축 바꾸기\n",
        "\n",
        "- 배열 전치는 데이터를 복사하지 않고 데이터의 모양이 바뀐 뷰를 반환하는 기능\n",
        "- ndarray는 transpose 메서드와 T라는 이름의 특수한 속성을 가짐."
      ],
      "metadata": {
        "id": "RLlwC-2-46MT"
      }
    },
    {
      "cell_type": "code",
      "source": [
        "arr = np.arange(15).reshape((3, 5))\n",
        "print(arr)\n",
        "print(arr.T)"
      ],
      "metadata": {
        "colab": {
          "base_uri": "https://localhost:8080/"
        },
        "id": "Cf8zYN6T4uef",
        "outputId": "35015d19-d5f1-4797-b26d-6ed605289d61"
      },
      "execution_count": 53,
      "outputs": [
        {
          "output_type": "stream",
          "name": "stdout",
          "text": [
            "[[ 0  1  2  3  4]\n",
            " [ 5  6  7  8  9]\n",
            " [10 11 12 13 14]]\n",
            "[[ 0  5 10]\n",
            " [ 1  6 11]\n",
            " [ 2  7 12]\n",
            " [ 3  8 13]\n",
            " [ 4  9 14]]\n"
          ]
        }
      ]
    },
    {
      "cell_type": "markdown",
      "source": [
        "- 행렬을 계산할 때 주로 사용하는 행렬의 내적은 numpy.dot를 사용"
      ],
      "metadata": {
        "id": "UF9F5QMC5TzO"
      }
    },
    {
      "cell_type": "code",
      "source": [
        "arr = np.array([[0, 1, 0], [1, 2, -2], [6, 3, 2], [-1, 0, -1], [1, 0, 1]])\n",
        "print(arr)\n",
        "np.dot(arr.T, arr)"
      ],
      "metadata": {
        "colab": {
          "base_uri": "https://localhost:8080/"
        },
        "id": "X-lDp9LY5M65",
        "outputId": "37968050-c9fb-45b1-c867-b2756380c267"
      },
      "execution_count": 54,
      "outputs": [
        {
          "output_type": "stream",
          "name": "stdout",
          "text": [
            "[[ 0  1  0]\n",
            " [ 1  2 -2]\n",
            " [ 6  3  2]\n",
            " [-1  0 -1]\n",
            " [ 1  0  1]]\n"
          ]
        },
        {
          "output_type": "execute_result",
          "data": {
            "text/plain": [
              "array([[39, 20, 12],\n",
              "       [20, 14,  2],\n",
              "       [12,  2, 10]])"
            ]
          },
          "metadata": {},
          "execution_count": 54
        }
      ]
    },
    {
      "cell_type": "markdown",
      "source": [
        "- @ 연산자: 행렬의 곱을 수행하는 또 다른 방법"
      ],
      "metadata": {
        "id": "zlGuFC435ugq"
      }
    },
    {
      "cell_type": "code",
      "source": [
        "arr.T @ arr"
      ],
      "metadata": {
        "colab": {
          "base_uri": "https://localhost:8080/"
        },
        "id": "TG363t875lW8",
        "outputId": "3a0645c6-0153-48c8-d77d-9fba18059fdb"
      },
      "execution_count": 55,
      "outputs": [
        {
          "output_type": "execute_result",
          "data": {
            "text/plain": [
              "array([[39, 20, 12],\n",
              "       [20, 14,  2],\n",
              "       [12,  2, 10]])"
            ]
          },
          "metadata": {},
          "execution_count": 55
        }
      ]
    },
    {
      "cell_type": "markdown",
      "source": [
        "- .T 속성을 아용하는 간단한 전치는 축을 뒤바꾸는 특별한 경우.\n",
        "- ndarray애는 swapaxes라는 메서드를 통해 두 개의 축 번호를 받아 배열을 뒤바꿈"
      ],
      "metadata": {
        "id": "w7cWEgi96cU_"
      }
    },
    {
      "cell_type": "code",
      "source": [
        "print(arr)\n",
        "arr.swapaxes(0, 1)"
      ],
      "metadata": {
        "colab": {
          "base_uri": "https://localhost:8080/"
        },
        "id": "pxotIwaa53yn",
        "outputId": "fe155aff-5143-407a-cf97-6a1d6c7140fe"
      },
      "execution_count": 56,
      "outputs": [
        {
          "output_type": "stream",
          "name": "stdout",
          "text": [
            "[[ 0  1  0]\n",
            " [ 1  2 -2]\n",
            " [ 6  3  2]\n",
            " [-1  0 -1]\n",
            " [ 1  0  1]]\n"
          ]
        },
        {
          "output_type": "execute_result",
          "data": {
            "text/plain": [
              "array([[ 0,  1,  6, -1,  1],\n",
              "       [ 1,  2,  3,  0,  0],\n",
              "       [ 0, -2,  2, -1,  1]])"
            ]
          },
          "metadata": {},
          "execution_count": 56
        }
      ]
    },
    {
      "cell_type": "markdown",
      "source": [
        "## 3.2 난수 생성\n",
        "\n",
        "- numpy.random 모듈은 파이썬 내장 random 모듈을 보강해 다양한 종류의 확률분포로부터 효과적으로 표본값을 생성하는데 주로 사용"
      ],
      "metadata": {
        "id": "ui9ZcT2b6wqO"
      }
    },
    {
      "cell_type": "code",
      "source": [
        "samples = np.random.standard_normal(size=(4, 4))\n",
        "samples"
      ],
      "metadata": {
        "colab": {
          "base_uri": "https://localhost:8080/"
        },
        "id": "_UFvvbyK6ox5",
        "outputId": "35eea830-aeb3-4a03-8c1e-9a741f4d6ee4"
      },
      "execution_count": 57,
      "outputs": [
        {
          "output_type": "execute_result",
          "data": {
            "text/plain": [
              "array([[ 0.06304518,  0.44398581,  0.06178863, -0.9244248 ],\n",
              "       [-0.33658593, -0.43225603, -2.1577139 , -0.78155159],\n",
              "       [ 0.36262611, -0.17186834,  1.32096674, -0.04370693],\n",
              "       [ 1.75208859, -0.05146803, -1.11905318,  0.01650748]])"
            ]
          },
          "metadata": {},
          "execution_count": 57
        }
      ]
    },
    {
      "cell_type": "markdown",
      "source": [
        "- 파이썬 내장 random 모듈은 한 번에 하나의 값만 생성"
      ],
      "metadata": {
        "id": "CfyuD4Ic7Iy4"
      }
    },
    {
      "cell_type": "code",
      "source": [
        "# 파이썬 내장 random 모듈과 numpy.random의 성능 비교\n",
        "\n",
        "from random import normalvariate\n",
        "\n",
        "N = 1000000\n",
        "\n",
        "%timeit samples = [normalvariate(0, 1) for _ in range(N)]\n",
        "%timeit np.random.standard_normal(N)"
      ],
      "metadata": {
        "colab": {
          "base_uri": "https://localhost:8080/"
        },
        "id": "8-7Da7iV7D5K",
        "outputId": "3ccddc54-0d95-46f7-b6b9-24d4b20f9607"
      },
      "execution_count": 58,
      "outputs": [
        {
          "output_type": "stream",
          "name": "stdout",
          "text": [
            "889 ms ± 314 ms per loop (mean ± std. dev. of 7 runs, 1 loop each)\n",
            "29.2 ms ± 840 µs per loop (mean ± std. dev. of 7 runs, 10 loops each)\n"
          ]
        }
      ]
    },
    {
      "cell_type": "markdown",
      "source": [
        "- 해당 난수는 엄밀히 말하면 유사 난수라고 부름 -> 난수 생성기의 시드값에 따라 정해진 난수를 알고리즘으로 생성하기 때문\n",
        "- numpy.random.standard_normal 같은 함수는 numpy.random 모듈의 기본 난수 생성기를 사용하지만 사용할 생성기를 명시적으로 설정 가능"
      ],
      "metadata": {
        "id": "K-sDcjHW74eJ"
      }
    },
    {
      "cell_type": "code",
      "source": [
        "rng = np.random.default_rng(seed=12345)\n",
        "data = rng.standard_normal((2, 3))"
      ],
      "metadata": {
        "id": "wm0HDf1n7ux9"
      },
      "execution_count": 59,
      "outputs": []
    },
    {
      "cell_type": "markdown",
      "source": [
        "- seed 인수는 난수 생성기의 초기 상태를 결정하며 rng 객체가 데이터를 생성할 때마다 상태가 변경\n",
        "- 생성기 객체인 rng는 numpy.random 모듈을 사용할 수 있는 다른 코드와도 분리 되어 있음"
      ],
      "metadata": {
        "id": "KXRbT6Rh8exM"
      }
    },
    {
      "cell_type": "code",
      "source": [
        "type(rng)"
      ],
      "metadata": {
        "colab": {
          "base_uri": "https://localhost:8080/"
        },
        "id": "z_8Rhu9m8cKt",
        "outputId": "d2109147-6375-457f-9b1f-119d38df304b"
      },
      "execution_count": 60,
      "outputs": [
        {
          "output_type": "execute_result",
          "data": {
            "text/plain": [
              "numpy.random._generator.Generator"
            ]
          },
          "metadata": {},
          "execution_count": 60
        }
      ]
    },
    {
      "cell_type": "markdown",
      "source": [
        "- rng 같은 난수 생성기 객체에 사용할 수 있는 일부 메서드를 요약한 표\n",
        "\n",
        "|메서드|설명|\n",
        "|-----|-----|\n",
        "|permutation|주어진 크기의 임의 순열을 반환하거나 주어진 리스트 순서를 뒤섞음|\n",
        "|shuffle|리스트 배열의 순서를 뒤섞음|\n",
        "|integers|주어진 상하한값 내에서 임의의 정숫값 몇 개를 뽑음|\n",
        "|standard_normal|평균 0, 표준편차 1의 정규분포에서 표본을 추춘|\n",
        "|binomial|이항분포에서 표본을 추출|\n",
        "|normal|정규분포(가우시안)에서 표본을 추출|\n",
        "|beta|베타 분포에서 표본을 추출|\n",
        "|chisquare|카이제곱 분포에서 표본을 추출|\n",
        "|gamma|감마 분포에서 표본을 추출|\n",
        "|uniform|균등(0, 1) 분포에서 표본을 추출|"
      ],
      "metadata": {
        "id": "E1CVBXi_8x3N"
      }
    },
    {
      "cell_type": "markdown",
      "source": [
        "## 3.3 유니버설 함수: 배열의 각 원소를 빠르게 처리하는 함수\n",
        "\n",
        "- ufunc라고도 부름\n",
        "- ndarray 안의 데이터 원소별로 연산을 수행하는 함수\n",
        "- 유니버설 함수는 하나 이상의 스칼라 값을 받아 하나 이상의 스칼라 결과괎을 반환하는 간단한 함수를 빠르게 수행하는 벡터화된 래퍼 함수\n",
        "- 많은 ufunc는 numpy.sqrt나 numpy.exp 같은 간단한 변형을 전체 원소에 적용할 수 있음."
      ],
      "metadata": {
        "id": "vwnPIgYW95t0"
      }
    },
    {
      "cell_type": "code",
      "source": [
        "arr = np.arange(10)\n",
        "print(arr)\n",
        "print(np.sqrt(arr))\n",
        "print(np.exp(arr))"
      ],
      "metadata": {
        "colab": {
          "base_uri": "https://localhost:8080/"
        },
        "id": "zJ9gWrDS8v4z",
        "outputId": "4270da33-6e78-40e3-f4a6-b747153db5ab"
      },
      "execution_count": 61,
      "outputs": [
        {
          "output_type": "stream",
          "name": "stdout",
          "text": [
            "[0 1 2 3 4 5 6 7 8 9]\n",
            "[0.         1.         1.41421356 1.73205081 2.         2.23606798\n",
            " 2.44948974 2.64575131 2.82842712 3.        ]\n",
            "[1.00000000e+00 2.71828183e+00 7.38905610e+00 2.00855369e+01\n",
            " 5.45981500e+01 1.48413159e+02 4.03428793e+02 1.09663316e+03\n",
            " 2.98095799e+03 8.10308393e+03]\n"
          ]
        }
      ]
    },
    {
      "cell_type": "markdown",
      "source": [
        "- 위 함수들은 단항 유니버설 함수\n",
        "- numpy.add나 numpy.maximum처럼 두 개의 매개변수를 취해서 단일 배열을 반환하는 함수 ->  이항 유니버설 함수"
      ],
      "metadata": {
        "id": "mSU93RrV-76I"
      }
    },
    {
      "cell_type": "code",
      "source": [
        "x = rng.standard_normal(8)\n",
        "y = rng.standard_normal(8)\n",
        "\n",
        "print(x)\n",
        "print(y)\n",
        "#np.maximum은 x와 y의 원소별로 가장 큰 값을 계산\n",
        "np.maximum(x, y)"
      ],
      "metadata": {
        "colab": {
          "base_uri": "https://localhost:8080/"
        },
        "id": "lNCiXken-yUv",
        "outputId": "e42a0a1d-86b7-431c-d55f-28d7d60436ff"
      },
      "execution_count": 62,
      "outputs": [
        {
          "output_type": "stream",
          "name": "stdout",
          "text": [
            "[-1.3677927   0.6488928   0.36105811 -1.95286306  2.34740965  0.96849691\n",
            " -0.75938718  0.90219827]\n",
            "[-0.46695317 -0.06068952  0.78884434 -1.25666813  0.57585751  1.39897899\n",
            "  1.32229806 -0.29969852]\n"
          ]
        },
        {
          "output_type": "execute_result",
          "data": {
            "text/plain": [
              "array([-0.46695317,  0.6488928 ,  0.78884434, -1.25666813,  2.34740965,\n",
              "        1.39897899,  1.32229806,  0.90219827])"
            ]
          },
          "metadata": {},
          "execution_count": 62
        }
      ]
    },
    {
      "cell_type": "markdown",
      "source": [
        "- numpy.modf: 파이썬 내장 함수인 math.modf의 벡터화 버전, 여러 개의 배열을 반환하는 유니버설 함수"
      ],
      "metadata": {
        "id": "7uaW-e-g_xXV"
      }
    },
    {
      "cell_type": "code",
      "source": [
        "arr = rng.standard_normal(7) * 5\n",
        "print(arr)\n",
        "remainder, whole_part = np.modf(arr)\n",
        "print(remainder)\n",
        "print(whole_part)"
      ],
      "metadata": {
        "colab": {
          "base_uri": "https://localhost:8080/"
        },
        "id": "WfAMzfs__Xfb",
        "outputId": "39b5a85c-245b-4b5c-8d5b-1bf245b85a54"
      },
      "execution_count": 63,
      "outputs": [
        {
          "output_type": "stream",
          "name": "stdout",
          "text": [
            "[ 4.51459671 -8.10791367 -0.7909463   2.24741966 -6.71800536 -0.40843795\n",
            "  8.62369966]\n",
            "[ 0.51459671 -0.10791367 -0.7909463   0.24741966 -0.71800536 -0.40843795\n",
            "  0.62369966]\n",
            "[ 4. -8. -0.  2. -6. -0.  8.]\n"
          ]
        }
      ]
    },
    {
      "cell_type": "markdown",
      "source": [
        "- 유니버설 함수는 선택적으로 out 인수를 사용해 계산 결과를 새로운 배열로 만들지 않고 기존 배열에 할당할 수도 있음"
      ],
      "metadata": {
        "id": "eGz9be8fASW9"
      }
    },
    {
      "cell_type": "code",
      "source": [
        "out = np.zeros_like(arr)\n",
        "print(np.add(arr, 1))\n",
        "print(np.add(arr, 1, out=out))\n",
        "print(out)"
      ],
      "metadata": {
        "colab": {
          "base_uri": "https://localhost:8080/"
        },
        "id": "6hcH__HaAOJY",
        "outputId": "55427b41-b54a-4962-b4ce-54a7071b1c56"
      },
      "execution_count": 64,
      "outputs": [
        {
          "output_type": "stream",
          "name": "stdout",
          "text": [
            "[ 5.51459671 -7.10791367  0.2090537   3.24741966 -5.71800536  0.59156205\n",
            "  9.62369966]\n",
            "[ 5.51459671 -7.10791367  0.2090537   3.24741966 -5.71800536  0.59156205\n",
            "  9.62369966]\n",
            "[ 5.51459671 -7.10791367  0.2090537   3.24741966 -5.71800536  0.59156205\n",
            "  9.62369966]\n"
          ]
        }
      ]
    },
    {
      "cell_type": "markdown",
      "source": [
        "- 단항 유니버설 함수 표\n",
        "\n",
        "|함수|설명|\n",
        "|----|----|\n",
        "|abs, fabs|각 원소의 절댓값, 복소수가 아닌 경우 빠른 연산을 위해 fabs를 사용|\n",
        "|sqrt|각 원소의 제곱근을 계산|\n",
        "|square|각 원소의 제곱을 계산|\n",
        "|exp|각 원소의 지수 ex를 계산|\n",
        "|log, log10, log2, log1p|각각 자연로그, 로그 10, 로그 2, 로그(1+x)|\n",
        "|sign|각 원소의 부호를 계산(양수: 1, 0: 0, 음수: -1)|\n",
        "|ceil|각 원소의 소수부를 올림. 각 원소의 값보다 같거나 큰 정수 중 가장 작은 정수를 반환|\n",
        "|floor|각 원소의 소수부를 내림. 각 원소의 값보다 작거나 같은 정수 중 가장 작은 수를 반환|\n",
        "|rint|각 원소의 소수부를 반올림. dtype은 유지|\n",
        "|modf|각 원소의 몫과 나머지를 각각의 배열로 반환|\n",
        "|isnan|각 원소가 숫자가 아닌지를 나타내는 불리언 배열을 반환|\n",
        "|isfinite, isinf|각 배열의 각 원소가 유한한지 무한한지 나타내는 불리언 배열을 반환|\n",
        "|cos, cosh, sin, sinh, tan, tanh|일반 삼각함수와 쌍곡선 삼각함수|\n",
        "|arccos, arccosh, arcsin, arcsinh, arctan, arctanh|역삼각함수|\n",
        "|logical_not|각 원소의 논리 부정 값을 계산. ~arr와 동일|\n",
        "\n",
        "- 이항 유니버설 함수 표\n",
        "\n",
        "|함수|설명|\n",
        "|----|----|\n",
        "|add|두 배열에서 같은 위치의 원소끼리 더함|\n",
        "|subtract|첫 번째 배열의 원소에서 두 번쨰 배열의 원소를 뺌|\n",
        "|multiply|배열의 원소끼리 곱함|\n",
        "|divide, floor_divide|첫 번째 배열의 원소를 두 번째 배열의 원소로 나눔. floor_divide는 몫만 취함|\n",
        "|power|첫 번째 배열의 원소를 두 번째 배열의 원소만큼 제곱|\n",
        "|maximum, fmax|각 배열의 두 원소 중 큰 값을 선택. fmax는 NAN을 무시|\n",
        "|minimum, fmin|각 배열의 두 원소 중 작은 값을 선택, fmin는 NAN을 무시|\n",
        "|mod|첫 번째 배열의 원소를 두 번째 배열의 원소로 나눈 나머지 값을 구함|\n",
        "|copysign|첫 번째 배열의 원소의 기호를 두 번째 배열의 원소의 기호로 교체|\n",
        "|greater, greater_equal, less, less_equal, equal, not_equal|각 두 원소 간의 >, >=, <, <=, ==, != 비교 연산 결과를 불리언 배열로 반환|\n",
        "|logical_and|각 두 원소 간의 AND 논리 연산 결과를 반환|\n",
        "|logical_or|각 두 원소 간의 OR 논리 연산 결과를 반환|\n",
        "|logical_xor|각 두 원소 간의 XOR 논리 연산 결과를 반환|"
      ],
      "metadata": {
        "id": "ntK9GWX0Ey_v"
      }
    },
    {
      "cell_type": "markdown",
      "source": [
        "## 3.4 배열을 이용한 배열 기반 프로그래밍\n",
        "\n",
        "- 넘파이 배열을 사용하면 반복문을 작성하지 않고 간결한 배열 연산을 통해 많은 종류의 데이터 처리 작업을 할 수 있음\n",
        "- 벡터화: 배열 연산을 사용해서 반복문을 명시적으로 제거하는 기법\n",
        "- Ex) 값이 놓여져있는 그리드에서 sqrt(x^2 + y^2)를 계산.</br>\n",
        "numpy.meshgrid 함수는 두 개의 1차원 배열을 받아 모든 (x, y) 짝을 만들 수 있는 2차원 배열 두 개를 반환"
      ],
      "metadata": {
        "id": "lSFaJpMTJN_7"
      }
    },
    {
      "cell_type": "code",
      "source": [
        "points = np.arange(-5, 5, 0.01)   #-5부터 4.99까지 0.01씩 증가하는 값의 배열\n",
        "\n",
        "xs, ys = np.meshgrid(points, points)\n",
        "ys"
      ],
      "metadata": {
        "colab": {
          "base_uri": "https://localhost:8080/"
        },
        "id": "bvzySXNBArl6",
        "outputId": "50d9bc59-6f80-4ec1-f512-c03f68449b22"
      },
      "execution_count": 65,
      "outputs": [
        {
          "output_type": "execute_result",
          "data": {
            "text/plain": [
              "array([[-5.  , -5.  , -5.  , ..., -5.  , -5.  , -5.  ],\n",
              "       [-4.99, -4.99, -4.99, ..., -4.99, -4.99, -4.99],\n",
              "       [-4.98, -4.98, -4.98, ..., -4.98, -4.98, -4.98],\n",
              "       ...,\n",
              "       [ 4.97,  4.97,  4.97, ...,  4.97,  4.97,  4.97],\n",
              "       [ 4.98,  4.98,  4.98, ...,  4.98,  4.98,  4.98],\n",
              "       [ 4.99,  4.99,  4.99, ...,  4.99,  4.99,  4.99]])"
            ]
          },
          "metadata": {},
          "execution_count": 65
        }
      ]
    },
    {
      "cell_type": "markdown",
      "source": [
        "- 그리드상의 두 점을 가지고 간단하게 계산 가능"
      ],
      "metadata": {
        "id": "jfYnlGslKUDP"
      }
    },
    {
      "cell_type": "code",
      "source": [
        "z = np.sqrt(xs ** 2 + ys ** 2)\n",
        "z"
      ],
      "metadata": {
        "colab": {
          "base_uri": "https://localhost:8080/"
        },
        "id": "9dHepF29KR8l",
        "outputId": "99c39594-7102-4c6a-d0ed-17811d3299b8"
      },
      "execution_count": 66,
      "outputs": [
        {
          "output_type": "execute_result",
          "data": {
            "text/plain": [
              "array([[7.07106781, 7.06400028, 7.05693985, ..., 7.04988652, 7.05693985,\n",
              "        7.06400028],\n",
              "       [7.06400028, 7.05692568, 7.04985815, ..., 7.04279774, 7.04985815,\n",
              "        7.05692568],\n",
              "       [7.05693985, 7.04985815, 7.04278354, ..., 7.03571603, 7.04278354,\n",
              "        7.04985815],\n",
              "       ...,\n",
              "       [7.04988652, 7.04279774, 7.03571603, ..., 7.0286414 , 7.03571603,\n",
              "        7.04279774],\n",
              "       [7.05693985, 7.04985815, 7.04278354, ..., 7.03571603, 7.04278354,\n",
              "        7.04985815],\n",
              "       [7.06400028, 7.05692568, 7.04985815, ..., 7.04279774, 7.04985815,\n",
              "        7.05692568]])"
            ]
          },
          "metadata": {},
          "execution_count": 66
        }
      ]
    },
    {
      "cell_type": "markdown",
      "source": [
        "- matplotlib을 이용한 2차원 배열의 시각화"
      ],
      "metadata": {
        "id": "1odTAhUTKiRm"
      }
    },
    {
      "cell_type": "code",
      "source": [
        "import matplotlib.pyplot as plt\n",
        "\n",
        "plt.imshow(z, cmap=plt.cm.gray, extent=[-5, 5, -5, 5])\n",
        "plt.colorbar()\n",
        "plt.title(\"Image plot of $\\sqrt{x^2 + y^2}$ for a grid of values\")"
      ],
      "metadata": {
        "colab": {
          "base_uri": "https://localhost:8080/",
          "height": 480
        },
        "id": "W5aB3Kf2KchH",
        "outputId": "3987cecc-9566-4e98-851e-611d3d8288b7"
      },
      "execution_count": 67,
      "outputs": [
        {
          "output_type": "execute_result",
          "data": {
            "text/plain": [
              "Text(0.5, 1.0, 'Image plot of $\\\\sqrt{x^2 + y^2}$ for a grid of values')"
            ]
          },
          "metadata": {},
          "execution_count": 67
        },
        {
          "output_type": "display_data",
          "data": {
            "text/plain": [
              "<Figure size 640x480 with 2 Axes>"
            ],
            "image/png": "[encoded data removed]"
          },
          "metadata": {}
        }
      ]
    },
    {
      "cell_type": "markdown",
      "source": [
        "- IPython에서 작업하는 경우\n",
        "```\n",
        "plt.close(\"all\")\n",
        "```\n",
        "을 실행해 열려있는 모든 플롯창을 닫을 수 있음."
      ],
      "metadata": {
        "id": "cHmqqunqLl2i"
      }
    },
    {
      "cell_type": "markdown",
      "source": [
        "#### 3.4.1 배열 연산으로 조건부 표현하기\n",
        "\n",
        "- numpy.where 함수는 x if 조건 else y 같은 삼항식의 벡터화 버전"
      ],
      "metadata": {
        "id": "iO6u-hkhLybl"
      }
    },
    {
      "cell_type": "code",
      "source": [
        "xarr = np.array([1.1, 1.2, 1.3, 1.4, 1.5])\n",
        "yarr = np.array([2.1, 2.2, 2.3, 2.4, 2.5])\n",
        "cond = np.array([True, False, True, True, False])"
      ],
      "metadata": {
        "id": "3X4aCV40LW16"
      },
      "execution_count": 68,
      "outputs": []
    },
    {
      "cell_type": "markdown",
      "source": [
        "- cond의 값이 True일 경우 xarr의 값을 취하고 yarr의 값을 취하고 싶다면 리스트 표 기법을 이용"
      ],
      "metadata": {
        "id": "qZkaTeCoMSUE"
      }
    },
    {
      "cell_type": "code",
      "source": [
        "result = [(x if c else y)\n",
        "            for x, y, c in zip(xarr, yarr, cond)]\n",
        "\n",
        "result"
      ],
      "metadata": {
        "colab": {
          "base_uri": "https://localhost:8080/"
        },
        "id": "sHDoFDkKMREg",
        "outputId": "9b43df96-55ea-43b4-be8d-aa2f7abf999d"
      },
      "execution_count": 69,
      "outputs": [
        {
          "output_type": "execute_result",
          "data": {
            "text/plain": [
              "[1.1, 2.2, 1.3, 1.4, 2.5]"
            ]
          },
          "metadata": {},
          "execution_count": 69
        }
      ]
    },
    {
      "cell_type": "markdown",
      "source": [
        "- 해당 방식은 2가지의 문제점을 가지고 있음</br>\n",
        "1. 순수 파이썬으로 수행되기 때문에 큰 배열을 빠르게 처리할 수 없음\n",
        "2. 다차원 배열에서 사용할 수 없음\n",
        "- np.where을 사용해서 간결하게 작성 가능"
      ],
      "metadata": {
        "id": "Fyijlu9BMuUV"
      }
    },
    {
      "cell_type": "code",
      "source": [
        "result = np.where(cond, xarr, yarr)\n",
        "result"
      ],
      "metadata": {
        "colab": {
          "base_uri": "https://localhost:8080/"
        },
        "id": "U-NFCjVjMnwp",
        "outputId": "d357a255-33ff-4234-8af3-35eb2fbb58ec"
      },
      "execution_count": 70,
      "outputs": [
        {
          "output_type": "execute_result",
          "data": {
            "text/plain": [
              "array([1.1, 2.2, 1.3, 1.4, 2.5])"
            ]
          },
          "metadata": {},
          "execution_count": 70
        }
      ]
    },
    {
      "cell_type": "markdown",
      "source": [
        "- np.where의 두 번째와 세 번째 인수는 배열이 아니어도 상관 X\n",
        "- 둘 중 하나 or 둘 다 스칼라 값이어도 작동함\n",
        "- 데이터 분석에는 다른 배열에 기반한 새로운 배열을 생성하기 위해 일반적으로 where을 사용"
      ],
      "metadata": {
        "id": "77Ewa2B7NKVZ"
      }
    },
    {
      "cell_type": "code",
      "source": [
        "arr = rng.standard_normal((4, 4))\n",
        "print(arr)\n",
        "print(arr>0)\n",
        "np.where(arr>0, 2, -2)"
      ],
      "metadata": {
        "colab": {
          "base_uri": "https://localhost:8080/"
        },
        "id": "-4huMEHWNEEQ",
        "outputId": "7a590eb3-f5fd-4813-f11e-1ea68d94c575"
      },
      "execution_count": 71,
      "outputs": [
        {
          "output_type": "stream",
          "name": "stdout",
          "text": [
            "[[ 2.61815943  0.77736134  0.8286332  -0.95898831]\n",
            " [-1.20938829 -1.41229201  0.54154683  0.7519394 ]\n",
            " [-0.65876032 -1.22867499  0.25755777  0.31290292]\n",
            " [-0.13081169  1.26998312 -0.09296246 -0.06615089]]\n",
            "[[ True  True  True False]\n",
            " [False False  True  True]\n",
            " [False False  True  True]\n",
            " [False  True False False]]\n"
          ]
        },
        {
          "output_type": "execute_result",
          "data": {
            "text/plain": [
              "array([[ 2,  2,  2, -2],\n",
              "       [-2, -2,  2,  2],\n",
              "       [-2, -2,  2,  2],\n",
              "       [-2,  2, -2, -2]])"
            ]
          },
          "metadata": {},
          "execution_count": 71
        }
      ]
    },
    {
      "cell_type": "markdown",
      "source": [
        "- numpy.where을 사용할 때 스칼라 값과 배열을 조합할 수 있음."
      ],
      "metadata": {
        "id": "LJsKKEb6Nlbm"
      }
    },
    {
      "cell_type": "code",
      "source": [
        "np.where(arr>0, 2, arr)   # 양수인 경우에만 값을 2로 변경"
      ],
      "metadata": {
        "colab": {
          "base_uri": "https://localhost:8080/"
        },
        "id": "ETN5_uPdNjHk",
        "outputId": "209a5790-aedb-4acc-db76-bf907e019f04"
      },
      "execution_count": 72,
      "outputs": [
        {
          "output_type": "execute_result",
          "data": {
            "text/plain": [
              "array([[ 2.        ,  2.        ,  2.        , -0.95898831],\n",
              "       [-1.20938829, -1.41229201,  2.        ,  2.        ],\n",
              "       [-0.65876032, -1.22867499,  2.        ,  2.        ],\n",
              "       [-0.13081169,  2.        , -0.09296246, -0.06615089]])"
            ]
          },
          "metadata": {},
          "execution_count": 72
        }
      ]
    },
    {
      "cell_type": "markdown",
      "source": [
        "### 3.4.2 수학 메서드와 통계 메서드\n",
        "\n",
        "- 배열 전체 혹은 배열의 한 축에 속하는 자료에서 통계를 계산하는 수학 함수는 배열 클래스의 메서드로 사용할 수 있음\n",
        "- 전체의 합이나 평균, 표준편차는 넘파이의 최상위 함수를 이용하거나 배열의 인스턴스 메서드를 사용해 계산\n",
        "- numpy.sum 같은 넘파이 함수를 사용할 때는 첫 번째 인수로 계산하려는 배열을 넘겨주어야함."
      ],
      "metadata": {
        "id": "Bcr1xAwFNyUz"
      }
    },
    {
      "cell_type": "code",
      "source": [
        "# 임의의 정규분포 데이터를 생성하고 집계\n",
        "\n",
        "arr = rng.standard_normal((5,4))\n",
        "print(arr)\n",
        "print(arr.mean())\n",
        "print(np.mean(arr))\n",
        "print(arr.sum())"
      ],
      "metadata": {
        "colab": {
          "base_uri": "https://localhost:8080/"
        },
        "id": "_EPCFncsNwoD",
        "outputId": "9d5032ba-b326-44b0-8eee-e907c037bc53"
      },
      "execution_count": 73,
      "outputs": [
        {
          "output_type": "stream",
          "name": "stdout",
          "text": [
            "[[-1.10821447  0.13595685  1.34707776  0.06114402]\n",
            " [ 0.0709146   0.43365454  0.27748366  0.53025239]\n",
            " [ 0.53672097  0.61835001 -0.79501746  0.30003095]\n",
            " [-1.60270159  0.26679883 -1.26162378 -0.07127081]\n",
            " [ 0.47404973 -0.41485376  0.0977165  -1.64041784]]\n",
            "-0.08719744457434529\n",
            "-0.08719744457434529\n",
            "-1.743948891486906\n"
          ]
        }
      ]
    },
    {
      "cell_type": "markdown",
      "source": [
        "- mean이나 sum 같은 함수는 선택적으로 axis 인수를 받아 해당 axis에 대한 통계를 계산하고 한 차수 낮은 배열을 반환"
      ],
      "metadata": {
        "id": "hMGN0UXWPKM0"
      }
    },
    {
      "cell_type": "code",
      "source": [
        "print(arr.mean(axis=1))    # 모든 열의 평균을 구해라\n",
        "print(arr.sum(axis=0))     # 행의 합을 구해라"
      ],
      "metadata": {
        "colab": {
          "base_uri": "https://localhost:8080/"
        },
        "id": "nquInaNTO_kU",
        "outputId": "913d639c-8766-462b-d0d7-eced58dcfd52"
      },
      "execution_count": 74,
      "outputs": [
        {
          "output_type": "stream",
          "name": "stdout",
          "text": [
            "[ 0.10899104  0.3280763   0.16502112 -0.66719934 -0.37087634]\n",
            "[-1.62923076  1.03990647 -0.33436331 -0.82026129]\n"
          ]
        }
      ]
    },
    {
      "cell_type": "markdown",
      "source": [
        "- cumsum과 cumprod 메서드는 중간 계산 값을 담고있는 배열을 반환"
      ],
      "metadata": {
        "id": "pf5SlKtAPlEk"
      }
    },
    {
      "cell_type": "code",
      "source": [
        "arr = np.array([0, 1, 2, 3, 4, 5, 6, 7])\n",
        "arr.cumsum()"
      ],
      "metadata": {
        "colab": {
          "base_uri": "https://localhost:8080/"
        },
        "id": "KWpo-yS4PYRK",
        "outputId": "8267f9d2-aea3-4b4b-b9fe-e9b2539cfe0a"
      },
      "execution_count": 75,
      "outputs": [
        {
          "output_type": "execute_result",
          "data": {
            "text/plain": [
              "array([ 0,  1,  3,  6, 10, 15, 21, 28])"
            ]
          },
          "metadata": {},
          "execution_count": 75
        }
      ]
    },
    {
      "cell_type": "markdown",
      "source": [
        "- 다차원 배열에서 cumsum 같은 누적 함수는 크기가 동일한 배열을 반환\n",
        "- 축을 지정해 부분적으로 계산을 하면 낮은 차수의 슬라이스를 반환"
      ],
      "metadata": {
        "id": "ErCX9mUoP9-c"
      }
    },
    {
      "cell_type": "code",
      "source": [
        "arr = np.array([[0, 1, 2], [3, 4, 5], [6, 7, 8]])\n",
        "print(arr)\n",
        "print(arr.cumsum(axis=0))   # 행의 누적합\n",
        "print(arr.cumsum(axis=1))   # 열의 누적합"
      ],
      "metadata": {
        "colab": {
          "base_uri": "https://localhost:8080/"
        },
        "id": "s4wdnanlP5Bv",
        "outputId": "c21bc70f-df4f-4d69-e6fc-86c2cbc9e726"
      },
      "execution_count": 76,
      "outputs": [
        {
          "output_type": "stream",
          "name": "stdout",
          "text": [
            "[[0 1 2]\n",
            " [3 4 5]\n",
            " [6 7 8]]\n",
            "[[ 0  1  2]\n",
            " [ 3  5  7]\n",
            " [ 9 12 15]]\n",
            "[[ 0  1  3]\n",
            " [ 3  7 12]\n",
            " [ 6 13 21]]\n"
          ]
        }
      ]
    },
    {
      "cell_type": "markdown",
      "source": [
        "- 기본 배열 통계 메서드 표\n",
        "\n",
        "|메서드|설명|\n",
        "|----|----|\n",
        "|sum|배열 전체 혹은 특정 축에 대한 모든 원소의 합을 계산, 크기가 0인 배열의 sum 결과는 0|\n",
        "|mean|산술 평균을 구함. 크기가 0인 배열의 mean 결과는 NaN|\n",
        "|std, var|각각 표준편차와 분산을 구함. 선택적으로 자유도를 줄 수 있으며 분모의 기본값은 n|\n",
        "|min, max|최솟값과 최댓값|\n",
        "|argmin, argmax|최소 원소의 색인값과 최대 원소의 색인값|\n",
        "|cumsum|0부터 시작하는 각 원소의 누적합|\n",
        "|sumprod|1부터 시작하는 각 원소의 누적 곱|"
      ],
      "metadata": {
        "id": "VxMAggrQQn13"
      }
    },
    {
      "cell_type": "markdown",
      "source": [
        "### 3.4.3 불리언 배열을 위한 메서드\n",
        "\n",
        "- 이전 메서드의 불리언 값은 1(True), 또는 0(False)로 강제됨\n",
        "- 불리언 배열에서 sum 메서드를 실행하면 True 원소의 개수가 반환"
      ],
      "metadata": {
        "id": "SUb6Zr9oRTZj"
      }
    },
    {
      "cell_type": "code",
      "source": [
        "arr = rng.standard_normal(100)\n",
        "print((arr>0).sum()) # 양수인 값의 개수\n",
        "print((arr<=0).sum()) # 0 이하인 값의 개수"
      ],
      "metadata": {
        "colab": {
          "base_uri": "https://localhost:8080/"
        },
        "id": "FZGvVhf0QUaD",
        "outputId": "7cadfad3-8b55-4eb8-f35a-1d6eb7f810cc"
      },
      "execution_count": 77,
      "outputs": [
        {
          "output_type": "stream",
          "name": "stdout",
          "text": [
            "48\n",
            "52\n"
          ]
        }
      ]
    },
    {
      "cell_type": "markdown",
      "source": [
        "- (arr>0).sum() 구문에서 사용된 괄호는 arr > 0의 임시 결과를 sum() 호출 할 수 있도록 하는데 필요\n",
        "- any, all 메서드는 불리언 배열에서 특히 유용\n",
        "- any: 하나 이상의 True 값이 있는지 검사\n",
        "- all: 모든 원소가 True인지 검사"
      ],
      "metadata": {
        "id": "jlUZuB15Ryis"
      }
    },
    {
      "cell_type": "code",
      "source": [
        "bools = np.array([False, False, True, False])\n",
        "print(bools.any())\n",
        "print(bools.all())"
      ],
      "metadata": {
        "colab": {
          "base_uri": "https://localhost:8080/"
        },
        "id": "-Hmmti5MRvsz",
        "outputId": "6a97a32c-ae64-473c-e3eb-007a93b1513d"
      },
      "execution_count": 78,
      "outputs": [
        {
          "output_type": "stream",
          "name": "stdout",
          "text": [
            "True\n",
            "False\n"
          ]
        }
      ]
    },
    {
      "cell_type": "markdown",
      "source": [
        "### 3.4.4 정렬\n",
        "\n",
        "- 파이썬의 내장 리스트 자료형처럼 넘파이 배열 또한 sort 메서드를 사용해 정렬 가능"
      ],
      "metadata": {
        "id": "yFqfyVssjtYi"
      }
    },
    {
      "cell_type": "code",
      "source": [
        "arr = rng.standard_normal(6)\n",
        "\n",
        "print(arr)"
      ],
      "metadata": {
        "id": "C6EF5Gr6SR9K",
        "colab": {
          "base_uri": "https://localhost:8080/"
        },
        "outputId": "c543cb73-2967-4289-b327-910047d480dc"
      },
      "execution_count": 79,
      "outputs": [
        {
          "output_type": "stream",
          "name": "stdout",
          "text": [
            "[ 0.07726066 -0.68391322 -0.72083767  1.12062282 -0.05481416 -0.08241372]\n"
          ]
        }
      ]
    },
    {
      "cell_type": "code",
      "source": [
        "arr.sort()\n",
        "arr"
      ],
      "metadata": {
        "colab": {
          "base_uri": "https://localhost:8080/"
        },
        "id": "zrS9CDm5j7LJ",
        "outputId": "56ece277-adb8-4bc7-b00e-e274f2848814"
      },
      "execution_count": 81,
      "outputs": [
        {
          "output_type": "execute_result",
          "data": {
            "text/plain": [
              "array([-0.72083767, -0.68391322, -0.08241372, -0.05481416,  0.07726066,\n",
              "        1.12062282])"
            ]
          },
          "metadata": {},
          "execution_count": 81
        }
      ]
    },
    {
      "cell_type": "markdown",
      "source": [
        "- 다차원 배열을 정렬할 때는 sort 메서드애 넘긴 축의 값에 따라 1차원 부분을 정렬"
      ],
      "metadata": {
        "id": "ank4SSRTkCJi"
      }
    },
    {
      "cell_type": "code",
      "source": [
        "arr = rng.standard_normal((5, 3))\n",
        "arr"
      ],
      "metadata": {
        "colab": {
          "base_uri": "https://localhost:8080/"
        },
        "id": "MLCFEAE4j9bA",
        "outputId": "7a1a083f-97c5-4478-9e0c-3c1dfcab205d"
      },
      "execution_count": 82,
      "outputs": [
        {
          "output_type": "execute_result",
          "data": {
            "text/plain": [
              "array([[ 0.9359865 ,  1.23853712,  1.27279553],\n",
              "       [ 0.40589222, -0.05032522,  0.28931754],\n",
              "       [ 0.17930568,  1.39748056,  0.29204679],\n",
              "       [ 0.63840567, -0.02788771,  1.37105185],\n",
              "       [-2.05280763,  0.38050908,  0.75539067]])"
            ]
          },
          "metadata": {},
          "execution_count": 82
        }
      ]
    },
    {
      "cell_type": "markdown",
      "source": [
        "- arr.sort(axis=0): 각 열의 값을 정렬\n",
        "- arr.sort(axis=1): 각 행의 값을 정렬"
      ],
      "metadata": {
        "id": "TGaxcCSwkTHL"
      }
    },
    {
      "cell_type": "code",
      "source": [
        "arr.sort(axis=0)\n",
        "print(arr)\n",
        "arr.sort(axis=1)\n",
        "print(arr)"
      ],
      "metadata": {
        "colab": {
          "base_uri": "https://localhost:8080/"
        },
        "id": "r3zJL_uSkNHL",
        "outputId": "5a7ee117-bd6b-4bd0-87ef-5eeb3e6f5e55"
      },
      "execution_count": 83,
      "outputs": [
        {
          "output_type": "stream",
          "name": "stdout",
          "text": [
            "[[-2.05280763 -0.05032522  0.28931754]\n",
            " [ 0.17930568 -0.02788771  0.29204679]\n",
            " [ 0.40589222  0.38050908  0.75539067]\n",
            " [ 0.63840567  1.23853712  1.27279553]\n",
            " [ 0.9359865   1.39748056  1.37105185]]\n",
            "[[-2.05280763 -0.05032522  0.28931754]\n",
            " [-0.02788771  0.17930568  0.29204679]\n",
            " [ 0.38050908  0.40589222  0.75539067]\n",
            " [ 0.63840567  1.23853712  1.27279553]\n",
            " [ 0.9359865   1.37105185  1.39748056]]\n"
          ]
        }
      ]
    },
    {
      "cell_type": "markdown",
      "source": [
        "- numpy.sort 메서드는 배열을 직접 변경하지않고 정렬된 결과를 가지고 있는 복사본을 반환"
      ],
      "metadata": {
        "id": "9P84X2kGkueo"
      }
    },
    {
      "cell_type": "code",
      "source": [
        "arr2 = np.array([5, -10, 7, 1, 0, -3])\n",
        "sorted_arr2 = np.sort(arr2)\n",
        "sorted_arr2"
      ],
      "metadata": {
        "colab": {
          "base_uri": "https://localhost:8080/"
        },
        "id": "lyDnl77PknBz",
        "outputId": "b246a7e6-9a72-4ab9-b6a0-73fff298ab63"
      },
      "execution_count": 84,
      "outputs": [
        {
          "output_type": "execute_result",
          "data": {
            "text/plain": [
              "array([-10,  -3,   0,   1,   5,   7])"
            ]
          },
          "metadata": {},
          "execution_count": 84
        }
      ]
    },
    {
      "cell_type": "markdown",
      "source": [
        "### 3.4.5 집합 관련 함수\n",
        "\n",
        "- 넘파이는 1차원 ndarray를 위한 몇가지 기본적인 집합 연산을 제공\n",
        "- 가장 자주 사용하는 함수: numpy.unique(배열 내에 중복된 원소를 제공하고 남은 원소를 정렬된 형태로 반환)"
      ],
      "metadata": {
        "id": "bOgQ7XnElHhx"
      }
    },
    {
      "cell_type": "code",
      "source": [
        "names = np.array([\"Bob\", \"Will\", \"Joe\", \"Bob\", \"Will\", \"Joe\", \"Joe\"])\n",
        "np.unique(names)"
      ],
      "metadata": {
        "colab": {
          "base_uri": "https://localhost:8080/"
        },
        "id": "6cErHk3UlAGK",
        "outputId": "ebe4725e-117a-450e-b7a7-15c3bac6d4bc"
      },
      "execution_count": 85,
      "outputs": [
        {
          "output_type": "execute_result",
          "data": {
            "text/plain": [
              "array(['Bob', 'Joe', 'Will'], dtype='<U4')"
            ]
          },
          "metadata": {},
          "execution_count": 85
        }
      ]
    },
    {
      "cell_type": "code",
      "source": [
        "ints = np.array([3, 3, 3, 2, 2, 1, 1, 4, 4])\n",
        "np.unique(ints)"
      ],
      "metadata": {
        "colab": {
          "base_uri": "https://localhost:8080/"
        },
        "id": "oX8v_09alwbb",
        "outputId": "9c7daefc-ef82-4127-9211-2891291be62c"
      },
      "execution_count": 87,
      "outputs": [
        {
          "output_type": "execute_result",
          "data": {
            "text/plain": [
              "array([1, 2, 3, 4])"
            ]
          },
          "metadata": {},
          "execution_count": 87
        }
      ]
    },
    {
      "cell_type": "code",
      "source": [
        "# numpy.unique를 파이썬으로 구현\n",
        "sorted(set(names))"
      ],
      "metadata": {
        "colab": {
          "base_uri": "https://localhost:8080/"
        },
        "id": "AM9kcymdl13w",
        "outputId": "88ff9b31-64e8-40bb-a3b1-36b5a63d9a72"
      },
      "execution_count": 88,
      "outputs": [
        {
          "output_type": "execute_result",
          "data": {
            "text/plain": [
              "['Bob', 'Joe', 'Will']"
            ]
          },
          "metadata": {},
          "execution_count": 88
        }
      ]
    },
    {
      "cell_type": "markdown",
      "source": [
        "- 대부분의 경우 넘파이 버전이 빠름\n",
        "- numpy.in1d: 인수로 받은 배열의 원소가 기존 배열에 포함되는지 검사한 후 불리언 배열로 반환"
      ],
      "metadata": {
        "id": "sCNjjr-SmFpV"
      }
    },
    {
      "cell_type": "code",
      "source": [
        "values = np.array([6, 0, 0, 3, 2, 5, 6])\n",
        "np.in1d(values, [2, 3, 6])"
      ],
      "metadata": {
        "colab": {
          "base_uri": "https://localhost:8080/"
        },
        "id": "gvgerxVWmEK1",
        "outputId": "0c419b1b-eb94-4b9c-b62f-66023b64a9df"
      },
      "execution_count": 89,
      "outputs": [
        {
          "output_type": "execute_result",
          "data": {
            "text/plain": [
              "array([ True, False, False,  True,  True, False,  True])"
            ]
          },
          "metadata": {},
          "execution_count": 89
        }
      ]
    },
    {
      "cell_type": "markdown",
      "source": [
        "- 넘파이에서 제공하는 집합 함수\n",
        "\n",
        "|메서드|설명|\n",
        "|----|----|\n",
        "|unique(x)|배열 x에서 중복된 원소를 제거한 뒤 정렬해 반환|\n",
        "|intersec1d(x, y)|배열 x와 y에 공통적으로 존재하는 원소를 정렬해 반환|\n",
        "|union1d(x, y)|두 배열의 합집합을 반환|\n",
        "|in1d(x, y)|x의 원소가 y의 원소에 포함되는지 나타내는 불리언 배열을 반환|\n",
        "|setdiff1d(x, y)|x와 y의 차집합을 반환|\n",
        "|setxor1d(x, y)|한 배열에는 포함되지만 두 배열 모두에는 포함되지 않는 원소들의 집합인 대칭차집합을 반환|"
      ],
      "metadata": {
        "id": "jct1-1e4pBsi"
      }
    },
    {
      "cell_type": "markdown",
      "source": [
        "## 3.5 배열 데이터의 파일 입출력\n",
        "\n",
        "- 넘파이는 디스크에서 텍스트나 바이너리 형식의 데이터를 불러오거나 저장할 수 있음\n",
        "- 대부분이 텍스트나 표 형식의 데이터를 판다스나 다른 도구로 처리\n",
        "- numpy.save, numpy.load: 배열 데이터를 효과적으로 디스크에 저장하고 불러오는 함수"
      ],
      "metadata": {
        "id": "oTDh0FHjpyFV"
      }
    },
    {
      "cell_type": "code",
      "source": [
        "arr = np.arange(10)\n",
        "np.save('some_array', arr)"
      ],
      "metadata": {
        "id": "SfCpqCt-mXSe"
      },
      "execution_count": 90,
      "outputs": []
    },
    {
      "cell_type": "code",
      "source": [
        "np.load('some_array.npy')"
      ],
      "metadata": {
        "colab": {
          "base_uri": "https://localhost:8080/"
        },
        "id": "JQTPVSCvqm1J",
        "outputId": "87b32fb6-726a-4151-f647-57622c921a7a"
      },
      "execution_count": 91,
      "outputs": [
        {
          "output_type": "execute_result",
          "data": {
            "text/plain": [
              "array([0, 1, 2, 3, 4, 5, 6, 7, 8, 9])"
            ]
          },
          "metadata": {},
          "execution_count": 91
        }
      ]
    },
    {
      "cell_type": "markdown",
      "source": [
        "- numpy.savez 함수를 이용하면 여러 개의 배열을 압축된 형식으로 저장할 수 있음\n",
        "- 저장하려는 배열은 키워드 인수 형태로 전달"
      ],
      "metadata": {
        "id": "mDlLr6Qzq8Cn"
      }
    },
    {
      "cell_type": "code",
      "source": [
        "np.savez('array_archive.npz', a=arr, b=arr)"
      ],
      "metadata": {
        "id": "lYT2slwdqrhj"
      },
      "execution_count": 92,
      "outputs": []
    },
    {
      "cell_type": "markdown",
      "source": [
        "- .npz 파일을 불러올 때는 각 배열을 필요할 때 불러올 수 있도록 딕셔너리 형식의 객체에 저장"
      ],
      "metadata": {
        "id": "tzxjx6vIrOPT"
      }
    },
    {
      "cell_type": "code",
      "source": [
        "arch = np.load('array_archive.npz')\n",
        "arch['b']"
      ],
      "metadata": {
        "colab": {
          "base_uri": "https://localhost:8080/"
        },
        "id": "XI_9dCgHrKja",
        "outputId": "0e506bd5-0b64-4dd0-c550-583fd72c961a"
      },
      "execution_count": 93,
      "outputs": [
        {
          "output_type": "execute_result",
          "data": {
            "text/plain": [
              "array([0, 1, 2, 3, 4, 5, 6, 7, 8, 9])"
            ]
          },
          "metadata": {},
          "execution_count": 93
        }
      ]
    },
    {
      "cell_type": "markdown",
      "source": [
        "- 압축이 잘 되는 형식의 데이터라면 numpy.savez_compressed 사용"
      ],
      "metadata": {
        "id": "UMsvRaVvrawA"
      }
    },
    {
      "cell_type": "code",
      "source": [
        "np.savez_compressed('array_compressed.npz', a=arr, b=arr)"
      ],
      "metadata": {
        "id": "LMIJBN2ZrY5L"
      },
      "execution_count": 94,
      "outputs": []
    },
    {
      "cell_type": "markdown",
      "source": [
        "## 3.6 선형대수\n",
        "\n",
        "- 행렬의 곱셈, 분할, 행렬식, 정사각행렬 계산 같은 선형대수는 배열을 다루는 라이브러리에서 매우 중요한 부분\n",
        "- 두 개의 2차원 배열을 * 연산자로 곱하면 행렬 곱셈이 아니라 대응하는 각각의 원소의 곱을 계산\n",
        "- 배열 메서드이자 넘파이 네임스페이스 안에 있는 함수인 dot 함수를 이용해 행렬 곱셈을 계산"
      ],
      "metadata": {
        "id": "K7vYxv3LrpU0"
      }
    },
    {
      "cell_type": "code",
      "source": [
        "x = np.array([[1., 2., 3.], [4., 5., 6.]])\n",
        "y = np.array([[6., 23.], [-1, 7], [8, 9]])\n",
        "print(x)\n",
        "print(y)\n",
        "print(x.dot(y))"
      ],
      "metadata": {
        "colab": {
          "base_uri": "https://localhost:8080/"
        },
        "id": "X3Ox3MGvroj4",
        "outputId": "7d741ab2-7187-452b-f8f7-991caabeda6d"
      },
      "execution_count": 96,
      "outputs": [
        {
          "output_type": "stream",
          "name": "stdout",
          "text": [
            "[[1. 2. 3.]\n",
            " [4. 5. 6.]]\n",
            "[[ 6. 23.]\n",
            " [-1.  7.]\n",
            " [ 8.  9.]]\n",
            "[[ 28.  64.]\n",
            " [ 67. 181.]]\n"
          ]
        }
      ]
    },
    {
      "cell_type": "code",
      "source": [
        "# x.dot(y) = np.dot(x, y)\n",
        "np.dot(x, y)"
      ],
      "metadata": {
        "colab": {
          "base_uri": "https://localhost:8080/"
        },
        "id": "NvXeJXlYsYyz",
        "outputId": "9d9dc542-5f30-43dc-a596-211d701b6cb7"
      },
      "execution_count": 97,
      "outputs": [
        {
          "output_type": "execute_result",
          "data": {
            "text/plain": [
              "array([[ 28.,  64.],\n",
              "       [ 67., 181.]])"
            ]
          },
          "metadata": {},
          "execution_count": 97
        }
      ]
    },
    {
      "cell_type": "markdown",
      "source": [
        "- 2차원 배열과 곱셈이 가능한 크기의 1차원 배열간의 행렬 곱셈의 결과는 1차원 배열"
      ],
      "metadata": {
        "id": "lN8IZHZMs2xO"
      }
    },
    {
      "cell_type": "code",
      "source": [
        "x @ np.ones(3)"
      ],
      "metadata": {
        "colab": {
          "base_uri": "https://localhost:8080/"
        },
        "id": "runGFqpxsh-F",
        "outputId": "6c7691d8-af7a-4f9d-f84c-57f49a88c283"
      },
      "execution_count": 98,
      "outputs": [
        {
          "output_type": "execute_result",
          "data": {
            "text/plain": [
              "array([ 6., 15.])"
            ]
          },
          "metadata": {},
          "execution_count": 98
        }
      ]
    },
    {
      "cell_type": "markdown",
      "source": [
        "- np.linalg: 행렬의 분할과 역행렬, 행렬식을 포함"
      ],
      "metadata": {
        "id": "H-KWQa0WtDlc"
      }
    },
    {
      "cell_type": "code",
      "source": [
        "from numpy.linalg import inv, qr\n",
        "\n",
        "X = rng.standard_normal((5, 5))\n",
        "mat = X.T @ X   # X.T.dot(X)는 X의 전치행렬(X, T)과 X의 곱을 계산\n",
        "inv(mat)"
      ],
      "metadata": {
        "colab": {
          "base_uri": "https://localhost:8080/"
        },
        "id": "xlym1MeBs_eV",
        "outputId": "da8d62d7-526b-4916-c784-81f6fb26d3f6"
      },
      "execution_count": 101,
      "outputs": [
        {
          "output_type": "execute_result",
          "data": {
            "text/plain": [
              "array([[ 0.36738956,  0.39268998,  0.58937183, -0.39002515, -0.50896589],\n",
              "       [ 0.39268998,  1.37450876,  0.96369425, -1.3830019 , -1.19230743],\n",
              "       [ 0.58937183,  0.96369425,  3.29376612, -1.37915587, -3.83989413],\n",
              "       [-0.39002515, -1.3830019 , -1.37915587,  1.70454894,  1.88621447],\n",
              "       [-0.50896589, -1.19230743, -3.83989413,  1.88621447,  5.09771062]])"
            ]
          },
          "metadata": {},
          "execution_count": 101
        }
      ]
    },
    {
      "cell_type": "code",
      "source": [
        "mat @ inv(mat)"
      ],
      "metadata": {
        "colab": {
          "base_uri": "https://localhost:8080/"
        },
        "id": "dYJsV_-NtYnq",
        "outputId": "078332a2-e6e3-426c-e50a-48d71f8a3a99"
      },
      "execution_count": 102,
      "outputs": [
        {
          "output_type": "execute_result",
          "data": {
            "text/plain": [
              "array([[ 1.00000000e+00, -4.49986783e-17, -5.68878633e-16,\n",
              "         2.20939476e-16, -3.74239882e-16],\n",
              "       [ 6.49485664e-16,  1.00000000e+00,  1.71016640e-15,\n",
              "        -8.31106289e-16, -1.03922855e-15],\n",
              "       [ 9.01249579e-17,  4.58876434e-17,  1.00000000e+00,\n",
              "        -1.21853392e-16,  5.03947078e-16],\n",
              "       [ 3.63955591e-16,  2.18101232e-17, -3.71865421e-16,\n",
              "         1.00000000e+00,  1.24699943e-15],\n",
              "       [-5.47047965e-17,  1.60403619e-17,  9.77884333e-16,\n",
              "        -5.14110893e-19,  1.00000000e+00]])"
            ]
          },
          "metadata": {},
          "execution_count": 102
        }
      ]
    },
    {
      "cell_type": "markdown",
      "source": [
        "- 자주 사용하는 numpy.linalg 함수 표\n",
        "\n",
        "|함수|설명|\n",
        "|----|----|\n",
        "|diag|정사각 행렬의 대각/비대각 원소를 1차원 배열로 반환하거나, 1차원 배열을 대각선 원소로 하고 나머지는 0으로 채운 단위행렬을 반환|\n",
        "|dot|행렬 곱셈|\n",
        "|trace|행렬의 대각선 원소의 합|\n",
        "|det|행렬식을 계산|\n",
        "|eig|정사각 행렬의 고윳값과 고유 벡터를 계산|\n",
        "|inv|정사각 행렬의 역행렬 계산|\n",
        "|pinv|정사각 행렬의 무어-펜로즈 유사역행렬을 구함|\n",
        "|qr|QR 분해를 계산|\n",
        "|svd|특잇값 분해를 계산|\n",
        "|solve|A가 정사각 행렬일 때 Ax = b를 만족하는 x를 구함|\n",
        "|lstsq|Ax = b를 만족하는 최소제곱해를 구함|"
      ],
      "metadata": {
        "id": "QCKqNhdntwFx"
      }
    },
    {
      "cell_type": "markdown",
      "source": [
        "## 3.7 계단 오르내리기 예제\n",
        "\n",
        "- 배열 연산의 활용법을 보여주는 간단한 어플리케이션\n",
        "- 가정: 계단 중간에서 같은 확률로 한 계단 올라가거나 내려감\n"
      ],
      "metadata": {
        "id": "nCjS_Xt6vOMa"
      }
    },
    {
      "cell_type": "code",
      "source": [
        "# 순수 파이썬으로 내장 random 모듈을 사용해 계단 오르내리기를 1000번 수행하는 코드\n",
        "\n",
        "import random\n",
        "position = 0\n",
        "walk = [position]\n",
        "nsteps = 1000\n",
        "for _ in range(nsteps):\n",
        "    step = 1 if random.randint(0, 1) else -1\n",
        "    position += step\n",
        "    walk.append(position)"
      ],
      "metadata": {
        "id": "3XMHHowdtbUa"
      },
      "execution_count": 103,
      "outputs": []
    },
    {
      "cell_type": "code",
      "source": [
        "# 처음 100회 동안 계단 오르내리기 현황을 나타낸 그래프\n",
        "\n",
        "plt.plot(walk[:100])"
      ],
      "metadata": {
        "colab": {
          "base_uri": "https://localhost:8080/",
          "height": 448
        },
        "id": "M0D2CbJ1wGC7",
        "outputId": "c24704ee-d670-4419-c1de-fd150191e8fe"
      },
      "execution_count": 104,
      "outputs": [
        {
          "output_type": "execute_result",
          "data": {
            "text/plain": [
              "[<matplotlib.lines.Line2D at 0x7c93f7209050>]"
            ]
          },
          "metadata": {},
          "execution_count": 104
        },
        {
          "output_type": "display_data",
          "data": {
            "text/plain": [
              "<Figure size 640x480 with 1 Axes>"
            ],
            "image/png": "[encoded data removed]"
          },
          "metadata": {}
        }
      ]
    },
    {
      "cell_type": "markdown",
      "source": [
        "- walk는 계단으로 오르거나 내려간 값의 누적합\n",
        "- numpy.random 모듈을 사용해 한 번에 1000번 수행한 결과를 저장하고 누적합을 계산"
      ],
      "metadata": {
        "id": "yyuz3SVLwSj1"
      }
    },
    {
      "cell_type": "code",
      "source": [
        "nsteps = 1000\n",
        "rng = np.random.default_rng(seed = 12345)   # 새로운 난수 생성기\n",
        "draws = rng.integers(0, 2, size = nsteps)\n",
        "steps = np.where(draws == 0, 1, -1)\n",
        "walk = steps.cumsum()"
      ],
      "metadata": {
        "id": "YyBxJPCUwPfL"
      },
      "execution_count": 106,
      "outputs": []
    },
    {
      "cell_type": "markdown",
      "source": [
        "- 이 시점에서부터 계단을 오르내린 위치의 최솟값/최댓값 같은 간단한 통계를 구할 수 있음"
      ],
      "metadata": {
        "id": "81ingkdVw6ox"
      }
    },
    {
      "cell_type": "code",
      "source": [
        "print(walk.min())\n",
        "print(walk.max())"
      ],
      "metadata": {
        "colab": {
          "base_uri": "https://localhost:8080/"
        },
        "id": "pxVMR-dsw4lg",
        "outputId": "bf11939c-0a4a-4cb2-aff7-bf5fe356c51a"
      },
      "execution_count": 107,
      "outputs": [
        {
          "output_type": "stream",
          "name": "stdout",
          "text": [
            "-8\n",
            "50\n"
          ]
        }
      ]
    },
    {
      "cell_type": "markdown",
      "source": [
        "- 계단에서 특정 위치에 도달하기까지의 시간과 같은 복잡한 통계도 구할 수 있음\n",
        "- np.abs(walk)>=10: 처음 위치에서 10칸 이상 떨어진 시점을 알려주는 불리언 배열\n",
        "- argmax: 불리언 배열에서 최댓값의 첫 번째 색인을 반환"
      ],
      "metadata": {
        "id": "OHkxKoknxHvY"
      }
    },
    {
      "cell_type": "code",
      "source": [
        "(np.abs(walk) >= 10).argmax()"
      ],
      "metadata": {
        "colab": {
          "base_uri": "https://localhost:8080/"
        },
        "id": "H3HWCNewxEXc",
        "outputId": "b7aef64e-e224-4897-8b27-d32edd101d40"
      },
      "execution_count": 108,
      "outputs": [
        {
          "output_type": "execute_result",
          "data": {
            "text/plain": [
              "155"
            ]
          },
          "metadata": {},
          "execution_count": 108
        }
      ]
    },
    {
      "cell_type": "markdown",
      "source": [
        "### 3.7.1 한 번에 많이 시뮬레이션하기\n",
        "\n",
        "- 계단 르내리기 횟수를 5000회를 늘릴 경우 -> 앞선 코드를 수정\n",
        "- numpy.random 함수에 크기가 2인 튜플을 넘기면 2차원 배열이 생성\n",
        "- 각 열에서 누적합을 구하면 5000회의 시뮬레이션을 한 번에 처리할 수 있음"
      ],
      "metadata": {
        "id": "4zzauxMcxtiJ"
      }
    },
    {
      "cell_type": "code",
      "source": [
        "nwalks = 5000\n",
        "nsteps = 1000\n",
        "draws = rng.integers(0, 2, size=(nwalks, nsteps)) #0 or 1\n",
        "steps = np.where(draws > 0, 1, -1)\n",
        "walks = steps.cumsum(axis = 1)\n",
        "walks"
      ],
      "metadata": {
        "colab": {
          "base_uri": "https://localhost:8080/"
        },
        "id": "rHI9HW1AxrQm",
        "outputId": "307e0f74-8be6-4397-d0c1-c2d23b1f228f"
      },
      "execution_count": 111,
      "outputs": [
        {
          "output_type": "execute_result",
          "data": {
            "text/plain": [
              "array([[  1,   2,   3, ...,  30,  31,  30],\n",
              "       [  1,   2,   3, ..., -22, -21, -20],\n",
              "       [ -1,  -2,  -1, ..., -36, -35, -36],\n",
              "       ...,\n",
              "       [ -1,   0,  -1, ...,  32,  31,  32],\n",
              "       [ -1,  -2,  -3, ..., -10, -11, -12],\n",
              "       [  1,   2,   1, ..., -14, -13, -14]])"
            ]
          },
          "metadata": {},
          "execution_count": 111
        }
      ]
    },
    {
      "cell_type": "code",
      "source": [
        "print(walks.max())\n",
        "print(walks.min())"
      ],
      "metadata": {
        "colab": {
          "base_uri": "https://localhost:8080/"
        },
        "id": "RIYQmREWyeDz",
        "outputId": "300e0fb2-c655-4a4f-b2f5-0c8406a44d06"
      },
      "execution_count": 112,
      "outputs": [
        {
          "output_type": "stream",
          "name": "stdout",
          "text": [
            "119\n",
            "-118\n"
          ]
        }
      ]
    },
    {
      "cell_type": "markdown",
      "source": [
        "- 해당 데이터에서 누적 합이 30 혹은 -30이 되는 최소 시점을 계산\n",
        "- any 메서드를 사용"
      ],
      "metadata": {
        "id": "WoA3fRnGy2Cv"
      }
    },
    {
      "cell_type": "code",
      "source": [
        "hits30 = (np.abs(walks) >= 30).any(axis=1)\n",
        "hits30"
      ],
      "metadata": {
        "colab": {
          "base_uri": "https://localhost:8080/"
        },
        "id": "DQ1a1Ospy0I_",
        "outputId": "8a768bda-23a4-4fa3-b262-25f80b85563d"
      },
      "execution_count": 113,
      "outputs": [
        {
          "output_type": "execute_result",
          "data": {
            "text/plain": [
              "array([ True,  True,  True, ...,  True, False, False])"
            ]
          },
          "metadata": {},
          "execution_count": 113
        }
      ]
    },
    {
      "cell_type": "code",
      "source": [
        "hits30.sum()    # 누적합이 30 혹은 -30이 되는 횟수"
      ],
      "metadata": {
        "colab": {
          "base_uri": "https://localhost:8080/"
        },
        "id": "W0HWACiCzCnv",
        "outputId": "93d1199e-35b5-4221-96bd-947f85489090"
      },
      "execution_count": 115,
      "outputs": [
        {
          "output_type": "execute_result",
          "data": {
            "text/plain": [
              "3390"
            ]
          },
          "metadata": {},
          "execution_count": 115
        }
      ]
    },
    {
      "cell_type": "markdown",
      "source": [
        "- 불리언 배열을 사용해 walks에서 행을 선택하고 절댓값이 30이 넘는 경우에 대해 축 1의 argmax 값을 구하면 처음 위치에서 30칸 이상 멀어지는 횟수를 구할 수 있음"
      ],
      "metadata": {
        "id": "_5aGYgz2zJ5I"
      }
    },
    {
      "cell_type": "code",
      "source": [
        "crossing_times = (np.abs(walks[hits30]) >= 30).argmax(axis=1)\n",
        "crossing_times"
      ],
      "metadata": {
        "colab": {
          "base_uri": "https://localhost:8080/"
        },
        "id": "0s9ZzZGzzFBi",
        "outputId": "6e6765d6-256c-46f9-bf0d-fbb485ea5611"
      },
      "execution_count": 116,
      "outputs": [
        {
          "output_type": "execute_result",
          "data": {
            "text/plain": [
              "array([953, 867, 359, ..., 467, 245, 235])"
            ]
          },
          "metadata": {},
          "execution_count": 116
        }
      ]
    },
    {
      "cell_type": "code",
      "source": [
        "# 평균 최소 누적 합\n",
        "crossing_times.mean()"
      ],
      "metadata": {
        "colab": {
          "base_uri": "https://localhost:8080/"
        },
        "id": "Jmg3RqK2zgKm",
        "outputId": "f450e3ea-ee52-4538-a3c5-c1ceefef2e9b"
      },
      "execution_count": 118,
      "outputs": [
        {
          "output_type": "execute_result",
          "data": {
            "text/plain": [
              "507.43657817109147"
            ]
          },
          "metadata": {},
          "execution_count": 118
        }
      ]
    },
    {
      "cell_type": "code",
      "source": [],
      "metadata": {
        "id": "K2rOtP-CzjdK"
      },
      "execution_count": null,
      "outputs": []
    }
  ]
}
